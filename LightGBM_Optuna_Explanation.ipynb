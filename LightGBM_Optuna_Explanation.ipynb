{
  "cells": [
    {
      "cell_type": "markdown",
      "source": [
        "<h1>Tuning LightGBM Model Hyperparameters with Optuna for House Price Prediction</h1>"
      ],
      "metadata": {
        "id": "3qbYcgixSKrD"
      }
    },
    {
      "cell_type": "code",
      "execution_count": 1,
      "metadata": {
        "colab": {
          "base_uri": "https://localhost:8080/"
        },
        "id": "OPwEv0eJJ687",
        "outputId": "4b631beb-db7a-44dc-81e9-68f7665e4c13"
      },
      "outputs": [
        {
          "output_type": "stream",
          "name": "stdout",
          "text": [
            "Mounted at /content/drive\n"
          ]
        }
      ],
      "source": [
        "import pandas as pd\n",
        "from google.colab import drive\n",
        "drive.mount('/content/drive')\n",
        "# load data from a csv file\n",
        "df = pd.read_csv('/content/sample_data/train.csv')\n",
        "df = df.drop('Id', axis=1)\n",
        "df_test = pd.read_csv('/content/sample_data/test.csv')"
      ]
    },
    {
      "cell_type": "code",
      "execution_count": 3,
      "metadata": {
        "id": "diqOZBHgKMr0"
      },
      "outputs": [],
      "source": [
        "# !pip install lightgbm\n",
        "# !pip install optuna\n",
        "# !pip install shap\n",
        "import shap\n",
        "import optuna\n",
        "import lightgbm as lgb\n",
        "import numpy as np\n",
        "from sklearn.model_selection import train_test_split\n",
        "from sklearn.metrics import mean_squared_error\n",
        "from sklearn.model_selection import StratifiedKFold\n",
        "# Plotting \n",
        "import matplotlib.pyplot as plt\n",
        "import plotly.express as px\n",
        "import seaborn as sns"
      ]
    },
    {
      "cell_type": "markdown",
      "source": [
        "<p> There are 20 features are selected, and they have int or float types. </p>"
      ],
      "metadata": {
        "id": "eib2gAMtSalb"
      }
    },
    {
      "cell_type": "code",
      "execution_count": 4,
      "metadata": {
        "id": "0t8PXhn56WX0"
      },
      "outputs": [],
      "source": [
        "selected_columns = ['OverallQual', 'GrLivArea', 'TotalBsmtSF', 'YearBuilt', 'BsmtFinSF1',\n",
        "       'GarageCars', 'OverallCond', 'LotArea', 'YearRemodAdd', '1stFlrSF',\n",
        "       'Fireplaces', 'GarageArea','OpenPorchSF', '2ndFlrSF',\n",
        "       'TotRmsAbvGrd', 'FullBath', 'HalfBath', 'MSSubClass', 'BedroomAbvGr', 'KitchenAbvGr', 'SalePrice']\n",
        "df = df[selected_columns]\n",
        "df_test = df_test[selected_columns[:-1]]"
      ]
    },
    {
      "cell_type": "code",
      "source": [
        "X, y = df.drop(\"SalePrice\", axis=1), df[\"SalePrice\"]"
      ],
      "metadata": {
        "id": "KEinrk1WUlVz"
      },
      "execution_count": 5,
      "outputs": []
    },
    {
      "cell_type": "markdown",
      "source": [
        "Optuna is a hyper-parameter optimization framework that automates the process of finding the best values for hyperparameters of a machine learning model. It is used to find the best values for hyperparameters that maximize the performance of a machine learning model on a given dataset."
      ],
      "metadata": {
        "id": "VLXQAW-XV9IJ"
      }
    },
    {
      "cell_type": "markdown",
      "source": [
        "This function defines the objective to optimize using Optuna. It trains and evaluates a LightGBM model on house price prediction task using 10-fold stratified cross-validation."
      ],
      "metadata": {
        "id": "8RluBStfUcDJ"
      }
    },
    {
      "cell_type": "code",
      "execution_count": 6,
      "metadata": {
        "id": "Bb02-G3CKSoX"
      },
      "outputs": [],
      "source": [
        "# Define objective function for Optuna\n",
        "def objective(trial):\n",
        "    # Define hyperparameters to optimize\n",
        "    params = {\n",
        "        'objective': 'regression', # Objective function\n",
        "        'metric': 'rmse', # Evaluation metric\n",
        "        'boosting_type': 'gbdt', # Type of boosting algorithm\n",
        "        \"n_estimators\": trial.suggest_int('n_estimators', 50, 1000), # Number of boosting iterations\n",
        "        'num_leaves': trial.suggest_int('num_leaves', 20, 100), # Number of leaves in each decision tree\n",
        "        'max_depth': trial.suggest_int(\"max_depth\", 5, 50), # Maximum depth of each decision tree\n",
        "        'learning_rate': trial.suggest_loguniform('learning_rate', 0.01, 0.3),\n",
        "        'colsample_bytree': trial.suggest_float('colsample_bytree', 0.5, 0.9), # Fraction of columns to be randomly sampled for each tree\n",
        "        'subsample': trial.suggest_float('subsample', 0.7, 0.8), # Fraction of rows to be randomly sampled for each boosting iteration\n",
        "        \"lambda_l1\": trial.suggest_float(\"lambda_l1\", 0, 5), # L1 regularization term\n",
        "        \"lambda_l2\": trial.suggest_float(\"lambda_l2\", 0, 3), # L2 regularization term\n",
        "        'min_child_weight': trial.suggest_float('min_child_weight', 2, 50), # Minimum sum of instance weight needed in a child\n",
        "    }\n",
        "\n",
        "    # Define cross-validation technique\n",
        "    cv = StratifiedKFold(n_splits=10, shuffle=True, random_state=42)\n",
        "    # Initialize an empty list to store RMSE scores\n",
        "    rmse_scores = []\n",
        "    for train_idx, val_idx in cv.split(X, y):\n",
        "        # Split the dataset into training and validation sets\n",
        "        X_train, X_test = X.iloc[train_idx], X.iloc[val_idx]\n",
        "        y_train, y_test = y[train_idx], y[val_idx]\n",
        "        # Initialize a LightGBM Regressor model with the given hyperparameters\n",
        "        model = lgb.LGBMRegressor(**params)\n",
        "\n",
        "        # Fit the model on training data\n",
        "        model.fit(X_train, y_train, eval_set=[(X_test, y_test)], verbose = False)\n",
        "        # Predict on validation set\n",
        "        y_pred_val = model.predict(X_test)\n",
        "        # Calculate RMSE score (Root Mean Square Error)\n",
        "        rmse = np.sqrt(mean_squared_error(y_test, y_pred_val))\n",
        "        rmse_scores.append(rmse)\n",
        "\n",
        "    # Calculate mean RMSE score across cross-validation folds\n",
        "    mean_rmse = np.mean(rmse_scores)\n",
        "\n",
        "    return mean_rmse\n"
      ]
    },
    {
      "cell_type": "markdown",
      "source": [
        "Creates an Optuna study object to search for the optimal hyperparameters for the LightGBM model using the objective function defined earlier. The objective function takes in the hyperparameters as input, trains the model with those hyperparameters using cross-validation, and returns the mean RMSE score. The study.optimize() function runs the optimization process for a specified number of trials, which is set to 20 in this case.\n",
        "\n",
        "The best hyperparameters are then retrieved using the study.best_params attribute. Finally, a new LightGBM model is trained on the entire dataset (X and y) using the best hyperparameters obtained from the study. The resulting best_model can be used for making predictions on new data."
      ],
      "metadata": {
        "id": "hqUC6bPbUuj6"
      }
    },
    {
      "cell_type": "code",
      "execution_count": 7,
      "metadata": {
        "colab": {
          "base_uri": "https://localhost:8080/",
          "height": 1000
        },
        "id": "uIAVdfjOKdUZ",
        "outputId": "c1b04a3e-e483-4616-a225-92a6d14fd1b8"
      },
      "outputs": [
        {
          "output_type": "stream",
          "name": "stderr",
          "text": [
            "\u001b[32m[I 2023-04-24 03:47:49,457]\u001b[0m A new study created in memory with name: no-name-bdd9e83a-e038-4656-94ed-af6a1739917c\u001b[0m\n",
            "suggest_loguniform has been deprecated in v3.0.0. This feature will be removed in v6.0.0. See https://github.com/optuna/optuna/releases/tag/v3.0.0. Use :func:`~optuna.trial.Trial.suggest_float` instead.\n",
            "The least populated class in y has only 1 members, which is less than n_splits=10.\n",
            "'verbose' argument is deprecated and will be removed in a future release of LightGBM. Pass 'log_evaluation()' callback via 'callbacks' argument instead.\n"
          ]
        },
        {
          "output_type": "stream",
          "name": "stdout",
          "text": [
            "[LightGBM] [Warning] lambda_l1 is set=1.4296679023703591, reg_alpha=0.0 will be ignored. Current value: lambda_l1=1.4296679023703591\n",
            "[LightGBM] [Warning] lambda_l2 is set=1.9729571689938634, reg_lambda=0.0 will be ignored. Current value: lambda_l2=1.9729571689938634\n"
          ]
        },
        {
          "output_type": "stream",
          "name": "stderr",
          "text": [
            "'verbose' argument is deprecated and will be removed in a future release of LightGBM. Pass 'log_evaluation()' callback via 'callbacks' argument instead.\n"
          ]
        },
        {
          "output_type": "stream",
          "name": "stdout",
          "text": [
            "[LightGBM] [Warning] lambda_l1 is set=1.4296679023703591, reg_alpha=0.0 will be ignored. Current value: lambda_l1=1.4296679023703591\n",
            "[LightGBM] [Warning] lambda_l2 is set=1.9729571689938634, reg_lambda=0.0 will be ignored. Current value: lambda_l2=1.9729571689938634\n"
          ]
        },
        {
          "output_type": "stream",
          "name": "stderr",
          "text": [
            "'verbose' argument is deprecated and will be removed in a future release of LightGBM. Pass 'log_evaluation()' callback via 'callbacks' argument instead.\n"
          ]
        },
        {
          "output_type": "stream",
          "name": "stdout",
          "text": [
            "[LightGBM] [Warning] lambda_l1 is set=1.4296679023703591, reg_alpha=0.0 will be ignored. Current value: lambda_l1=1.4296679023703591\n",
            "[LightGBM] [Warning] lambda_l2 is set=1.9729571689938634, reg_lambda=0.0 will be ignored. Current value: lambda_l2=1.9729571689938634\n"
          ]
        },
        {
          "output_type": "stream",
          "name": "stderr",
          "text": [
            "'verbose' argument is deprecated and will be removed in a future release of LightGBM. Pass 'log_evaluation()' callback via 'callbacks' argument instead.\n"
          ]
        },
        {
          "output_type": "stream",
          "name": "stdout",
          "text": [
            "[LightGBM] [Warning] lambda_l1 is set=1.4296679023703591, reg_alpha=0.0 will be ignored. Current value: lambda_l1=1.4296679023703591\n",
            "[LightGBM] [Warning] lambda_l2 is set=1.9729571689938634, reg_lambda=0.0 will be ignored. Current value: lambda_l2=1.9729571689938634\n"
          ]
        },
        {
          "output_type": "stream",
          "name": "stderr",
          "text": [
            "'verbose' argument is deprecated and will be removed in a future release of LightGBM. Pass 'log_evaluation()' callback via 'callbacks' argument instead.\n"
          ]
        },
        {
          "output_type": "stream",
          "name": "stdout",
          "text": [
            "[LightGBM] [Warning] lambda_l1 is set=1.4296679023703591, reg_alpha=0.0 will be ignored. Current value: lambda_l1=1.4296679023703591\n",
            "[LightGBM] [Warning] lambda_l2 is set=1.9729571689938634, reg_lambda=0.0 will be ignored. Current value: lambda_l2=1.9729571689938634\n"
          ]
        },
        {
          "output_type": "stream",
          "name": "stderr",
          "text": [
            "'verbose' argument is deprecated and will be removed in a future release of LightGBM. Pass 'log_evaluation()' callback via 'callbacks' argument instead.\n"
          ]
        },
        {
          "output_type": "stream",
          "name": "stdout",
          "text": [
            "[LightGBM] [Warning] lambda_l1 is set=1.4296679023703591, reg_alpha=0.0 will be ignored. Current value: lambda_l1=1.4296679023703591\n",
            "[LightGBM] [Warning] lambda_l2 is set=1.9729571689938634, reg_lambda=0.0 will be ignored. Current value: lambda_l2=1.9729571689938634\n"
          ]
        },
        {
          "output_type": "stream",
          "name": "stderr",
          "text": [
            "'verbose' argument is deprecated and will be removed in a future release of LightGBM. Pass 'log_evaluation()' callback via 'callbacks' argument instead.\n"
          ]
        },
        {
          "output_type": "stream",
          "name": "stdout",
          "text": [
            "[LightGBM] [Warning] lambda_l1 is set=1.4296679023703591, reg_alpha=0.0 will be ignored. Current value: lambda_l1=1.4296679023703591\n",
            "[LightGBM] [Warning] lambda_l2 is set=1.9729571689938634, reg_lambda=0.0 will be ignored. Current value: lambda_l2=1.9729571689938634\n"
          ]
        },
        {
          "output_type": "stream",
          "name": "stderr",
          "text": [
            "'verbose' argument is deprecated and will be removed in a future release of LightGBM. Pass 'log_evaluation()' callback via 'callbacks' argument instead.\n"
          ]
        },
        {
          "output_type": "stream",
          "name": "stdout",
          "text": [
            "[LightGBM] [Warning] lambda_l1 is set=1.4296679023703591, reg_alpha=0.0 will be ignored. Current value: lambda_l1=1.4296679023703591\n",
            "[LightGBM] [Warning] lambda_l2 is set=1.9729571689938634, reg_lambda=0.0 will be ignored. Current value: lambda_l2=1.9729571689938634\n"
          ]
        },
        {
          "output_type": "stream",
          "name": "stderr",
          "text": [
            "'verbose' argument is deprecated and will be removed in a future release of LightGBM. Pass 'log_evaluation()' callback via 'callbacks' argument instead.\n"
          ]
        },
        {
          "output_type": "stream",
          "name": "stdout",
          "text": [
            "[LightGBM] [Warning] lambda_l1 is set=1.4296679023703591, reg_alpha=0.0 will be ignored. Current value: lambda_l1=1.4296679023703591\n",
            "[LightGBM] [Warning] lambda_l2 is set=1.9729571689938634, reg_lambda=0.0 will be ignored. Current value: lambda_l2=1.9729571689938634\n"
          ]
        },
        {
          "output_type": "stream",
          "name": "stderr",
          "text": [
            "'verbose' argument is deprecated and will be removed in a future release of LightGBM. Pass 'log_evaluation()' callback via 'callbacks' argument instead.\n"
          ]
        },
        {
          "output_type": "stream",
          "name": "stdout",
          "text": [
            "[LightGBM] [Warning] lambda_l1 is set=1.4296679023703591, reg_alpha=0.0 will be ignored. Current value: lambda_l1=1.4296679023703591\n",
            "[LightGBM] [Warning] lambda_l2 is set=1.9729571689938634, reg_lambda=0.0 will be ignored. Current value: lambda_l2=1.9729571689938634\n"
          ]
        },
        {
          "output_type": "stream",
          "name": "stderr",
          "text": [
            "\u001b[32m[I 2023-04-24 03:48:00,808]\u001b[0m Trial 0 finished with value: 28730.975425994846 and parameters: {'n_estimators': 542, 'num_leaves': 42, 'max_depth': 22, 'learning_rate': 0.016795743391186835, 'colsample_bytree': 0.8428629654333036, 'subsample': 0.716820238597594, 'lambda_l1': 1.4296679023703591, 'lambda_l2': 1.9729571689938634, 'min_child_weight': 38.06204001707036}. Best is trial 0 with value: 28730.975425994846.\u001b[0m\n",
            "suggest_loguniform has been deprecated in v3.0.0. This feature will be removed in v6.0.0. See https://github.com/optuna/optuna/releases/tag/v3.0.0. Use :func:`~optuna.trial.Trial.suggest_float` instead.\n",
            "The least populated class in y has only 1 members, which is less than n_splits=10.\n",
            "'verbose' argument is deprecated and will be removed in a future release of LightGBM. Pass 'log_evaluation()' callback via 'callbacks' argument instead.\n"
          ]
        },
        {
          "output_type": "stream",
          "name": "stdout",
          "text": [
            "[LightGBM] [Warning] lambda_l1 is set=2.3006290714264575, reg_alpha=0.0 will be ignored. Current value: lambda_l1=2.3006290714264575\n",
            "[LightGBM] [Warning] lambda_l2 is set=0.5336672748891294, reg_lambda=0.0 will be ignored. Current value: lambda_l2=0.5336672748891294\n"
          ]
        },
        {
          "output_type": "stream",
          "name": "stderr",
          "text": [
            "'verbose' argument is deprecated and will be removed in a future release of LightGBM. Pass 'log_evaluation()' callback via 'callbacks' argument instead.\n"
          ]
        },
        {
          "output_type": "stream",
          "name": "stdout",
          "text": [
            "[LightGBM] [Warning] lambda_l1 is set=2.3006290714264575, reg_alpha=0.0 will be ignored. Current value: lambda_l1=2.3006290714264575\n",
            "[LightGBM] [Warning] lambda_l2 is set=0.5336672748891294, reg_lambda=0.0 will be ignored. Current value: lambda_l2=0.5336672748891294\n"
          ]
        },
        {
          "output_type": "stream",
          "name": "stderr",
          "text": [
            "'verbose' argument is deprecated and will be removed in a future release of LightGBM. Pass 'log_evaluation()' callback via 'callbacks' argument instead.\n"
          ]
        },
        {
          "output_type": "stream",
          "name": "stdout",
          "text": [
            "[LightGBM] [Warning] lambda_l1 is set=2.3006290714264575, reg_alpha=0.0 will be ignored. Current value: lambda_l1=2.3006290714264575\n",
            "[LightGBM] [Warning] lambda_l2 is set=0.5336672748891294, reg_lambda=0.0 will be ignored. Current value: lambda_l2=0.5336672748891294\n"
          ]
        },
        {
          "output_type": "stream",
          "name": "stderr",
          "text": [
            "'verbose' argument is deprecated and will be removed in a future release of LightGBM. Pass 'log_evaluation()' callback via 'callbacks' argument instead.\n"
          ]
        },
        {
          "output_type": "stream",
          "name": "stdout",
          "text": [
            "[LightGBM] [Warning] lambda_l1 is set=2.3006290714264575, reg_alpha=0.0 will be ignored. Current value: lambda_l1=2.3006290714264575\n",
            "[LightGBM] [Warning] lambda_l2 is set=0.5336672748891294, reg_lambda=0.0 will be ignored. Current value: lambda_l2=0.5336672748891294\n"
          ]
        },
        {
          "output_type": "stream",
          "name": "stderr",
          "text": [
            "'verbose' argument is deprecated and will be removed in a future release of LightGBM. Pass 'log_evaluation()' callback via 'callbacks' argument instead.\n"
          ]
        },
        {
          "output_type": "stream",
          "name": "stdout",
          "text": [
            "[LightGBM] [Warning] lambda_l1 is set=2.3006290714264575, reg_alpha=0.0 will be ignored. Current value: lambda_l1=2.3006290714264575\n",
            "[LightGBM] [Warning] lambda_l2 is set=0.5336672748891294, reg_lambda=0.0 will be ignored. Current value: lambda_l2=0.5336672748891294\n"
          ]
        },
        {
          "output_type": "stream",
          "name": "stderr",
          "text": [
            "'verbose' argument is deprecated and will be removed in a future release of LightGBM. Pass 'log_evaluation()' callback via 'callbacks' argument instead.\n"
          ]
        },
        {
          "output_type": "stream",
          "name": "stdout",
          "text": [
            "[LightGBM] [Warning] lambda_l1 is set=2.3006290714264575, reg_alpha=0.0 will be ignored. Current value: lambda_l1=2.3006290714264575\n",
            "[LightGBM] [Warning] lambda_l2 is set=0.5336672748891294, reg_lambda=0.0 will be ignored. Current value: lambda_l2=0.5336672748891294\n"
          ]
        },
        {
          "output_type": "stream",
          "name": "stderr",
          "text": [
            "'verbose' argument is deprecated and will be removed in a future release of LightGBM. Pass 'log_evaluation()' callback via 'callbacks' argument instead.\n"
          ]
        },
        {
          "output_type": "stream",
          "name": "stdout",
          "text": [
            "[LightGBM] [Warning] lambda_l1 is set=2.3006290714264575, reg_alpha=0.0 will be ignored. Current value: lambda_l1=2.3006290714264575\n",
            "[LightGBM] [Warning] lambda_l2 is set=0.5336672748891294, reg_lambda=0.0 will be ignored. Current value: lambda_l2=0.5336672748891294\n"
          ]
        },
        {
          "output_type": "stream",
          "name": "stderr",
          "text": [
            "'verbose' argument is deprecated and will be removed in a future release of LightGBM. Pass 'log_evaluation()' callback via 'callbacks' argument instead.\n"
          ]
        },
        {
          "output_type": "stream",
          "name": "stdout",
          "text": [
            "[LightGBM] [Warning] lambda_l1 is set=2.3006290714264575, reg_alpha=0.0 will be ignored. Current value: lambda_l1=2.3006290714264575\n",
            "[LightGBM] [Warning] lambda_l2 is set=0.5336672748891294, reg_lambda=0.0 will be ignored. Current value: lambda_l2=0.5336672748891294\n"
          ]
        },
        {
          "output_type": "stream",
          "name": "stderr",
          "text": [
            "'verbose' argument is deprecated and will be removed in a future release of LightGBM. Pass 'log_evaluation()' callback via 'callbacks' argument instead.\n"
          ]
        },
        {
          "output_type": "stream",
          "name": "stdout",
          "text": [
            "[LightGBM] [Warning] lambda_l1 is set=2.3006290714264575, reg_alpha=0.0 will be ignored. Current value: lambda_l1=2.3006290714264575\n",
            "[LightGBM] [Warning] lambda_l2 is set=0.5336672748891294, reg_lambda=0.0 will be ignored. Current value: lambda_l2=0.5336672748891294\n"
          ]
        },
        {
          "output_type": "stream",
          "name": "stderr",
          "text": [
            "'verbose' argument is deprecated and will be removed in a future release of LightGBM. Pass 'log_evaluation()' callback via 'callbacks' argument instead.\n"
          ]
        },
        {
          "output_type": "stream",
          "name": "stdout",
          "text": [
            "[LightGBM] [Warning] lambda_l1 is set=2.3006290714264575, reg_alpha=0.0 will be ignored. Current value: lambda_l1=2.3006290714264575\n",
            "[LightGBM] [Warning] lambda_l2 is set=0.5336672748891294, reg_lambda=0.0 will be ignored. Current value: lambda_l2=0.5336672748891294\n"
          ]
        },
        {
          "output_type": "stream",
          "name": "stderr",
          "text": [
            "\u001b[32m[I 2023-04-24 03:48:07,089]\u001b[0m Trial 1 finished with value: 29269.843600447195 and parameters: {'n_estimators': 508, 'num_leaves': 61, 'max_depth': 37, 'learning_rate': 0.07858383948555682, 'colsample_bytree': 0.6231524539269697, 'subsample': 0.7162948948933852, 'lambda_l1': 2.3006290714264575, 'lambda_l2': 0.5336672748891294, 'min_child_weight': 46.44270000121399}. Best is trial 0 with value: 28730.975425994846.\u001b[0m\n",
            "suggest_loguniform has been deprecated in v3.0.0. This feature will be removed in v6.0.0. See https://github.com/optuna/optuna/releases/tag/v3.0.0. Use :func:`~optuna.trial.Trial.suggest_float` instead.\n",
            "The least populated class in y has only 1 members, which is less than n_splits=10.\n",
            "'verbose' argument is deprecated and will be removed in a future release of LightGBM. Pass 'log_evaluation()' callback via 'callbacks' argument instead.\n"
          ]
        },
        {
          "output_type": "stream",
          "name": "stdout",
          "text": [
            "[LightGBM] [Warning] lambda_l1 is set=1.55600055350199, reg_alpha=0.0 will be ignored. Current value: lambda_l1=1.55600055350199\n",
            "[LightGBM] [Warning] lambda_l2 is set=0.6356392130806362, reg_lambda=0.0 will be ignored. Current value: lambda_l2=0.6356392130806362\n"
          ]
        },
        {
          "output_type": "stream",
          "name": "stderr",
          "text": [
            "'verbose' argument is deprecated and will be removed in a future release of LightGBM. Pass 'log_evaluation()' callback via 'callbacks' argument instead.\n"
          ]
        },
        {
          "output_type": "stream",
          "name": "stdout",
          "text": [
            "[LightGBM] [Warning] lambda_l1 is set=1.55600055350199, reg_alpha=0.0 will be ignored. Current value: lambda_l1=1.55600055350199\n",
            "[LightGBM] [Warning] lambda_l2 is set=0.6356392130806362, reg_lambda=0.0 will be ignored. Current value: lambda_l2=0.6356392130806362\n"
          ]
        },
        {
          "output_type": "stream",
          "name": "stderr",
          "text": [
            "'verbose' argument is deprecated and will be removed in a future release of LightGBM. Pass 'log_evaluation()' callback via 'callbacks' argument instead.\n"
          ]
        },
        {
          "output_type": "stream",
          "name": "stdout",
          "text": [
            "[LightGBM] [Warning] lambda_l1 is set=1.55600055350199, reg_alpha=0.0 will be ignored. Current value: lambda_l1=1.55600055350199\n",
            "[LightGBM] [Warning] lambda_l2 is set=0.6356392130806362, reg_lambda=0.0 will be ignored. Current value: lambda_l2=0.6356392130806362\n"
          ]
        },
        {
          "output_type": "stream",
          "name": "stderr",
          "text": [
            "'verbose' argument is deprecated and will be removed in a future release of LightGBM. Pass 'log_evaluation()' callback via 'callbacks' argument instead.\n"
          ]
        },
        {
          "output_type": "stream",
          "name": "stdout",
          "text": [
            "[LightGBM] [Warning] lambda_l1 is set=1.55600055350199, reg_alpha=0.0 will be ignored. Current value: lambda_l1=1.55600055350199\n",
            "[LightGBM] [Warning] lambda_l2 is set=0.6356392130806362, reg_lambda=0.0 will be ignored. Current value: lambda_l2=0.6356392130806362\n"
          ]
        },
        {
          "output_type": "stream",
          "name": "stderr",
          "text": [
            "'verbose' argument is deprecated and will be removed in a future release of LightGBM. Pass 'log_evaluation()' callback via 'callbacks' argument instead.\n"
          ]
        },
        {
          "output_type": "stream",
          "name": "stdout",
          "text": [
            "[LightGBM] [Warning] lambda_l1 is set=1.55600055350199, reg_alpha=0.0 will be ignored. Current value: lambda_l1=1.55600055350199\n",
            "[LightGBM] [Warning] lambda_l2 is set=0.6356392130806362, reg_lambda=0.0 will be ignored. Current value: lambda_l2=0.6356392130806362\n"
          ]
        },
        {
          "output_type": "stream",
          "name": "stderr",
          "text": [
            "'verbose' argument is deprecated and will be removed in a future release of LightGBM. Pass 'log_evaluation()' callback via 'callbacks' argument instead.\n"
          ]
        },
        {
          "output_type": "stream",
          "name": "stdout",
          "text": [
            "[LightGBM] [Warning] lambda_l1 is set=1.55600055350199, reg_alpha=0.0 will be ignored. Current value: lambda_l1=1.55600055350199\n",
            "[LightGBM] [Warning] lambda_l2 is set=0.6356392130806362, reg_lambda=0.0 will be ignored. Current value: lambda_l2=0.6356392130806362\n"
          ]
        },
        {
          "output_type": "stream",
          "name": "stderr",
          "text": [
            "'verbose' argument is deprecated and will be removed in a future release of LightGBM. Pass 'log_evaluation()' callback via 'callbacks' argument instead.\n"
          ]
        },
        {
          "output_type": "stream",
          "name": "stdout",
          "text": [
            "[LightGBM] [Warning] lambda_l1 is set=1.55600055350199, reg_alpha=0.0 will be ignored. Current value: lambda_l1=1.55600055350199\n",
            "[LightGBM] [Warning] lambda_l2 is set=0.6356392130806362, reg_lambda=0.0 will be ignored. Current value: lambda_l2=0.6356392130806362\n"
          ]
        },
        {
          "output_type": "stream",
          "name": "stderr",
          "text": [
            "'verbose' argument is deprecated and will be removed in a future release of LightGBM. Pass 'log_evaluation()' callback via 'callbacks' argument instead.\n"
          ]
        },
        {
          "output_type": "stream",
          "name": "stdout",
          "text": [
            "[LightGBM] [Warning] lambda_l1 is set=1.55600055350199, reg_alpha=0.0 will be ignored. Current value: lambda_l1=1.55600055350199\n",
            "[LightGBM] [Warning] lambda_l2 is set=0.6356392130806362, reg_lambda=0.0 will be ignored. Current value: lambda_l2=0.6356392130806362\n"
          ]
        },
        {
          "output_type": "stream",
          "name": "stderr",
          "text": [
            "'verbose' argument is deprecated and will be removed in a future release of LightGBM. Pass 'log_evaluation()' callback via 'callbacks' argument instead.\n"
          ]
        },
        {
          "output_type": "stream",
          "name": "stdout",
          "text": [
            "[LightGBM] [Warning] lambda_l1 is set=1.55600055350199, reg_alpha=0.0 will be ignored. Current value: lambda_l1=1.55600055350199\n",
            "[LightGBM] [Warning] lambda_l2 is set=0.6356392130806362, reg_lambda=0.0 will be ignored. Current value: lambda_l2=0.6356392130806362\n"
          ]
        },
        {
          "output_type": "stream",
          "name": "stderr",
          "text": [
            "'verbose' argument is deprecated and will be removed in a future release of LightGBM. Pass 'log_evaluation()' callback via 'callbacks' argument instead.\n"
          ]
        },
        {
          "output_type": "stream",
          "name": "stdout",
          "text": [
            "[LightGBM] [Warning] lambda_l1 is set=1.55600055350199, reg_alpha=0.0 will be ignored. Current value: lambda_l1=1.55600055350199\n",
            "[LightGBM] [Warning] lambda_l2 is set=0.6356392130806362, reg_lambda=0.0 will be ignored. Current value: lambda_l2=0.6356392130806362\n"
          ]
        },
        {
          "output_type": "stream",
          "name": "stderr",
          "text": [
            "\u001b[32m[I 2023-04-24 03:48:17,891]\u001b[0m Trial 2 finished with value: 28802.67418625956 and parameters: {'n_estimators': 822, 'num_leaves': 93, 'max_depth': 50, 'learning_rate': 0.010326602641123955, 'colsample_bytree': 0.7802739784177948, 'subsample': 0.74025044068777, 'lambda_l1': 1.55600055350199, 'lambda_l2': 0.6356392130806362, 'min_child_weight': 39.80098794861943}. Best is trial 0 with value: 28730.975425994846.\u001b[0m\n",
            "suggest_loguniform has been deprecated in v3.0.0. This feature will be removed in v6.0.0. See https://github.com/optuna/optuna/releases/tag/v3.0.0. Use :func:`~optuna.trial.Trial.suggest_float` instead.\n",
            "The least populated class in y has only 1 members, which is less than n_splits=10.\n",
            "'verbose' argument is deprecated and will be removed in a future release of LightGBM. Pass 'log_evaluation()' callback via 'callbacks' argument instead.\n",
            "'verbose' argument is deprecated and will be removed in a future release of LightGBM. Pass 'log_evaluation()' callback via 'callbacks' argument instead.\n"
          ]
        },
        {
          "output_type": "stream",
          "name": "stdout",
          "text": [
            "[LightGBM] [Warning] lambda_l1 is set=3.29554852846228, reg_alpha=0.0 will be ignored. Current value: lambda_l1=3.29554852846228\n",
            "[LightGBM] [Warning] lambda_l2 is set=1.531112082933829, reg_lambda=0.0 will be ignored. Current value: lambda_l2=1.531112082933829\n",
            "[LightGBM] [Warning] lambda_l1 is set=3.29554852846228, reg_alpha=0.0 will be ignored. Current value: lambda_l1=3.29554852846228\n",
            "[LightGBM] [Warning] lambda_l2 is set=1.531112082933829, reg_lambda=0.0 will be ignored. Current value: lambda_l2=1.531112082933829\n"
          ]
        },
        {
          "output_type": "stream",
          "name": "stderr",
          "text": [
            "'verbose' argument is deprecated and will be removed in a future release of LightGBM. Pass 'log_evaluation()' callback via 'callbacks' argument instead.\n",
            "'verbose' argument is deprecated and will be removed in a future release of LightGBM. Pass 'log_evaluation()' callback via 'callbacks' argument instead.\n"
          ]
        },
        {
          "output_type": "stream",
          "name": "stdout",
          "text": [
            "[LightGBM] [Warning] lambda_l1 is set=3.29554852846228, reg_alpha=0.0 will be ignored. Current value: lambda_l1=3.29554852846228\n",
            "[LightGBM] [Warning] lambda_l2 is set=1.531112082933829, reg_lambda=0.0 will be ignored. Current value: lambda_l2=1.531112082933829\n",
            "[LightGBM] [Warning] lambda_l1 is set=3.29554852846228, reg_alpha=0.0 will be ignored. Current value: lambda_l1=3.29554852846228\n",
            "[LightGBM] [Warning] lambda_l2 is set=1.531112082933829, reg_lambda=0.0 will be ignored. Current value: lambda_l2=1.531112082933829\n"
          ]
        },
        {
          "output_type": "stream",
          "name": "stderr",
          "text": [
            "'verbose' argument is deprecated and will be removed in a future release of LightGBM. Pass 'log_evaluation()' callback via 'callbacks' argument instead.\n",
            "'verbose' argument is deprecated and will be removed in a future release of LightGBM. Pass 'log_evaluation()' callback via 'callbacks' argument instead.\n"
          ]
        },
        {
          "output_type": "stream",
          "name": "stdout",
          "text": [
            "[LightGBM] [Warning] lambda_l1 is set=3.29554852846228, reg_alpha=0.0 will be ignored. Current value: lambda_l1=3.29554852846228\n",
            "[LightGBM] [Warning] lambda_l2 is set=1.531112082933829, reg_lambda=0.0 will be ignored. Current value: lambda_l2=1.531112082933829\n",
            "[LightGBM] [Warning] lambda_l1 is set=3.29554852846228, reg_alpha=0.0 will be ignored. Current value: lambda_l1=3.29554852846228\n",
            "[LightGBM] [Warning] lambda_l2 is set=1.531112082933829, reg_lambda=0.0 will be ignored. Current value: lambda_l2=1.531112082933829\n"
          ]
        },
        {
          "output_type": "stream",
          "name": "stderr",
          "text": [
            "'verbose' argument is deprecated and will be removed in a future release of LightGBM. Pass 'log_evaluation()' callback via 'callbacks' argument instead.\n",
            "'verbose' argument is deprecated and will be removed in a future release of LightGBM. Pass 'log_evaluation()' callback via 'callbacks' argument instead.\n"
          ]
        },
        {
          "output_type": "stream",
          "name": "stdout",
          "text": [
            "[LightGBM] [Warning] lambda_l1 is set=3.29554852846228, reg_alpha=0.0 will be ignored. Current value: lambda_l1=3.29554852846228\n",
            "[LightGBM] [Warning] lambda_l2 is set=1.531112082933829, reg_lambda=0.0 will be ignored. Current value: lambda_l2=1.531112082933829\n",
            "[LightGBM] [Warning] lambda_l1 is set=3.29554852846228, reg_alpha=0.0 will be ignored. Current value: lambda_l1=3.29554852846228\n",
            "[LightGBM] [Warning] lambda_l2 is set=1.531112082933829, reg_lambda=0.0 will be ignored. Current value: lambda_l2=1.531112082933829\n"
          ]
        },
        {
          "output_type": "stream",
          "name": "stderr",
          "text": [
            "'verbose' argument is deprecated and will be removed in a future release of LightGBM. Pass 'log_evaluation()' callback via 'callbacks' argument instead.\n",
            "'verbose' argument is deprecated and will be removed in a future release of LightGBM. Pass 'log_evaluation()' callback via 'callbacks' argument instead.\n"
          ]
        },
        {
          "output_type": "stream",
          "name": "stdout",
          "text": [
            "[LightGBM] [Warning] lambda_l1 is set=3.29554852846228, reg_alpha=0.0 will be ignored. Current value: lambda_l1=3.29554852846228\n",
            "[LightGBM] [Warning] lambda_l2 is set=1.531112082933829, reg_lambda=0.0 will be ignored. Current value: lambda_l2=1.531112082933829\n",
            "[LightGBM] [Warning] lambda_l1 is set=3.29554852846228, reg_alpha=0.0 will be ignored. Current value: lambda_l1=3.29554852846228\n",
            "[LightGBM] [Warning] lambda_l2 is set=1.531112082933829, reg_lambda=0.0 will be ignored. Current value: lambda_l2=1.531112082933829\n"
          ]
        },
        {
          "output_type": "stream",
          "name": "stderr",
          "text": [
            "\u001b[32m[I 2023-04-24 03:48:19,351]\u001b[0m Trial 3 finished with value: 29081.89535633832 and parameters: {'n_estimators': 107, 'num_leaves': 60, 'max_depth': 8, 'learning_rate': 0.2222408386558134, 'colsample_bytree': 0.8421734735382377, 'subsample': 0.7611178266250623, 'lambda_l1': 3.29554852846228, 'lambda_l2': 1.531112082933829, 'min_child_weight': 34.667970080538886}. Best is trial 0 with value: 28730.975425994846.\u001b[0m\n",
            "suggest_loguniform has been deprecated in v3.0.0. This feature will be removed in v6.0.0. See https://github.com/optuna/optuna/releases/tag/v3.0.0. Use :func:`~optuna.trial.Trial.suggest_float` instead.\n",
            "The least populated class in y has only 1 members, which is less than n_splits=10.\n",
            "'verbose' argument is deprecated and will be removed in a future release of LightGBM. Pass 'log_evaluation()' callback via 'callbacks' argument instead.\n"
          ]
        },
        {
          "output_type": "stream",
          "name": "stdout",
          "text": [
            "[LightGBM] [Warning] lambda_l1 is set=0.5917371605073413, reg_alpha=0.0 will be ignored. Current value: lambda_l1=0.5917371605073413\n",
            "[LightGBM] [Warning] lambda_l2 is set=0.9824235393213951, reg_lambda=0.0 will be ignored. Current value: lambda_l2=0.9824235393213951\n"
          ]
        },
        {
          "output_type": "stream",
          "name": "stderr",
          "text": [
            "'verbose' argument is deprecated and will be removed in a future release of LightGBM. Pass 'log_evaluation()' callback via 'callbacks' argument instead.\n"
          ]
        },
        {
          "output_type": "stream",
          "name": "stdout",
          "text": [
            "[LightGBM] [Warning] lambda_l1 is set=0.5917371605073413, reg_alpha=0.0 will be ignored. Current value: lambda_l1=0.5917371605073413\n",
            "[LightGBM] [Warning] lambda_l2 is set=0.9824235393213951, reg_lambda=0.0 will be ignored. Current value: lambda_l2=0.9824235393213951\n"
          ]
        },
        {
          "output_type": "stream",
          "name": "stderr",
          "text": [
            "'verbose' argument is deprecated and will be removed in a future release of LightGBM. Pass 'log_evaluation()' callback via 'callbacks' argument instead.\n"
          ]
        },
        {
          "output_type": "stream",
          "name": "stdout",
          "text": [
            "[LightGBM] [Warning] lambda_l1 is set=0.5917371605073413, reg_alpha=0.0 will be ignored. Current value: lambda_l1=0.5917371605073413\n",
            "[LightGBM] [Warning] lambda_l2 is set=0.9824235393213951, reg_lambda=0.0 will be ignored. Current value: lambda_l2=0.9824235393213951\n"
          ]
        },
        {
          "output_type": "stream",
          "name": "stderr",
          "text": [
            "'verbose' argument is deprecated and will be removed in a future release of LightGBM. Pass 'log_evaluation()' callback via 'callbacks' argument instead.\n"
          ]
        },
        {
          "output_type": "stream",
          "name": "stdout",
          "text": [
            "[LightGBM] [Warning] lambda_l1 is set=0.5917371605073413, reg_alpha=0.0 will be ignored. Current value: lambda_l1=0.5917371605073413\n",
            "[LightGBM] [Warning] lambda_l2 is set=0.9824235393213951, reg_lambda=0.0 will be ignored. Current value: lambda_l2=0.9824235393213951\n"
          ]
        },
        {
          "output_type": "stream",
          "name": "stderr",
          "text": [
            "'verbose' argument is deprecated and will be removed in a future release of LightGBM. Pass 'log_evaluation()' callback via 'callbacks' argument instead.\n"
          ]
        },
        {
          "output_type": "stream",
          "name": "stdout",
          "text": [
            "[LightGBM] [Warning] lambda_l1 is set=0.5917371605073413, reg_alpha=0.0 will be ignored. Current value: lambda_l1=0.5917371605073413\n",
            "[LightGBM] [Warning] lambda_l2 is set=0.9824235393213951, reg_lambda=0.0 will be ignored. Current value: lambda_l2=0.9824235393213951\n"
          ]
        },
        {
          "output_type": "stream",
          "name": "stderr",
          "text": [
            "'verbose' argument is deprecated and will be removed in a future release of LightGBM. Pass 'log_evaluation()' callback via 'callbacks' argument instead.\n"
          ]
        },
        {
          "output_type": "stream",
          "name": "stdout",
          "text": [
            "[LightGBM] [Warning] lambda_l1 is set=0.5917371605073413, reg_alpha=0.0 will be ignored. Current value: lambda_l1=0.5917371605073413\n",
            "[LightGBM] [Warning] lambda_l2 is set=0.9824235393213951, reg_lambda=0.0 will be ignored. Current value: lambda_l2=0.9824235393213951\n"
          ]
        },
        {
          "output_type": "stream",
          "name": "stderr",
          "text": [
            "'verbose' argument is deprecated and will be removed in a future release of LightGBM. Pass 'log_evaluation()' callback via 'callbacks' argument instead.\n"
          ]
        },
        {
          "output_type": "stream",
          "name": "stdout",
          "text": [
            "[LightGBM] [Warning] lambda_l1 is set=0.5917371605073413, reg_alpha=0.0 will be ignored. Current value: lambda_l1=0.5917371605073413\n",
            "[LightGBM] [Warning] lambda_l2 is set=0.9824235393213951, reg_lambda=0.0 will be ignored. Current value: lambda_l2=0.9824235393213951\n"
          ]
        },
        {
          "output_type": "stream",
          "name": "stderr",
          "text": [
            "'verbose' argument is deprecated and will be removed in a future release of LightGBM. Pass 'log_evaluation()' callback via 'callbacks' argument instead.\n"
          ]
        },
        {
          "output_type": "stream",
          "name": "stdout",
          "text": [
            "[LightGBM] [Warning] lambda_l1 is set=0.5917371605073413, reg_alpha=0.0 will be ignored. Current value: lambda_l1=0.5917371605073413\n",
            "[LightGBM] [Warning] lambda_l2 is set=0.9824235393213951, reg_lambda=0.0 will be ignored. Current value: lambda_l2=0.9824235393213951\n"
          ]
        },
        {
          "output_type": "stream",
          "name": "stderr",
          "text": [
            "'verbose' argument is deprecated and will be removed in a future release of LightGBM. Pass 'log_evaluation()' callback via 'callbacks' argument instead.\n"
          ]
        },
        {
          "output_type": "stream",
          "name": "stdout",
          "text": [
            "[LightGBM] [Warning] lambda_l1 is set=0.5917371605073413, reg_alpha=0.0 will be ignored. Current value: lambda_l1=0.5917371605073413\n",
            "[LightGBM] [Warning] lambda_l2 is set=0.9824235393213951, reg_lambda=0.0 will be ignored. Current value: lambda_l2=0.9824235393213951\n"
          ]
        },
        {
          "output_type": "stream",
          "name": "stderr",
          "text": [
            "'verbose' argument is deprecated and will be removed in a future release of LightGBM. Pass 'log_evaluation()' callback via 'callbacks' argument instead.\n"
          ]
        },
        {
          "output_type": "stream",
          "name": "stdout",
          "text": [
            "[LightGBM] [Warning] lambda_l1 is set=0.5917371605073413, reg_alpha=0.0 will be ignored. Current value: lambda_l1=0.5917371605073413\n",
            "[LightGBM] [Warning] lambda_l2 is set=0.9824235393213951, reg_lambda=0.0 will be ignored. Current value: lambda_l2=0.9824235393213951\n"
          ]
        },
        {
          "output_type": "stream",
          "name": "stderr",
          "text": [
            "\u001b[32m[I 2023-04-24 03:48:26,267]\u001b[0m Trial 4 finished with value: 29587.27464340183 and parameters: {'n_estimators': 872, 'num_leaves': 31, 'max_depth': 11, 'learning_rate': 0.11144869120173684, 'colsample_bytree': 0.6763559355379338, 'subsample': 0.7083196196912133, 'lambda_l1': 0.5917371605073413, 'lambda_l2': 0.9824235393213951, 'min_child_weight': 47.03774579256801}. Best is trial 0 with value: 28730.975425994846.\u001b[0m\n",
            "suggest_loguniform has been deprecated in v3.0.0. This feature will be removed in v6.0.0. See https://github.com/optuna/optuna/releases/tag/v3.0.0. Use :func:`~optuna.trial.Trial.suggest_float` instead.\n",
            "The least populated class in y has only 1 members, which is less than n_splits=10.\n",
            "'verbose' argument is deprecated and will be removed in a future release of LightGBM. Pass 'log_evaluation()' callback via 'callbacks' argument instead.\n"
          ]
        },
        {
          "output_type": "stream",
          "name": "stdout",
          "text": [
            "[LightGBM] [Warning] lambda_l1 is set=3.308690599354453, reg_alpha=0.0 will be ignored. Current value: lambda_l1=3.308690599354453\n",
            "[LightGBM] [Warning] lambda_l2 is set=2.4071715470593, reg_lambda=0.0 will be ignored. Current value: lambda_l2=2.4071715470593\n"
          ]
        },
        {
          "output_type": "stream",
          "name": "stderr",
          "text": [
            "'verbose' argument is deprecated and will be removed in a future release of LightGBM. Pass 'log_evaluation()' callback via 'callbacks' argument instead.\n"
          ]
        },
        {
          "output_type": "stream",
          "name": "stdout",
          "text": [
            "[LightGBM] [Warning] lambda_l1 is set=3.308690599354453, reg_alpha=0.0 will be ignored. Current value: lambda_l1=3.308690599354453\n",
            "[LightGBM] [Warning] lambda_l2 is set=2.4071715470593, reg_lambda=0.0 will be ignored. Current value: lambda_l2=2.4071715470593\n"
          ]
        },
        {
          "output_type": "stream",
          "name": "stderr",
          "text": [
            "'verbose' argument is deprecated and will be removed in a future release of LightGBM. Pass 'log_evaluation()' callback via 'callbacks' argument instead.\n"
          ]
        },
        {
          "output_type": "stream",
          "name": "stdout",
          "text": [
            "[LightGBM] [Warning] lambda_l1 is set=3.308690599354453, reg_alpha=0.0 will be ignored. Current value: lambda_l1=3.308690599354453\n",
            "[LightGBM] [Warning] lambda_l2 is set=2.4071715470593, reg_lambda=0.0 will be ignored. Current value: lambda_l2=2.4071715470593\n"
          ]
        },
        {
          "output_type": "stream",
          "name": "stderr",
          "text": [
            "'verbose' argument is deprecated and will be removed in a future release of LightGBM. Pass 'log_evaluation()' callback via 'callbacks' argument instead.\n"
          ]
        },
        {
          "output_type": "stream",
          "name": "stdout",
          "text": [
            "[LightGBM] [Warning] lambda_l1 is set=3.308690599354453, reg_alpha=0.0 will be ignored. Current value: lambda_l1=3.308690599354453\n",
            "[LightGBM] [Warning] lambda_l2 is set=2.4071715470593, reg_lambda=0.0 will be ignored. Current value: lambda_l2=2.4071715470593\n"
          ]
        },
        {
          "output_type": "stream",
          "name": "stderr",
          "text": [
            "'verbose' argument is deprecated and will be removed in a future release of LightGBM. Pass 'log_evaluation()' callback via 'callbacks' argument instead.\n"
          ]
        },
        {
          "output_type": "stream",
          "name": "stdout",
          "text": [
            "[LightGBM] [Warning] lambda_l1 is set=3.308690599354453, reg_alpha=0.0 will be ignored. Current value: lambda_l1=3.308690599354453\n",
            "[LightGBM] [Warning] lambda_l2 is set=2.4071715470593, reg_lambda=0.0 will be ignored. Current value: lambda_l2=2.4071715470593\n"
          ]
        },
        {
          "output_type": "stream",
          "name": "stderr",
          "text": [
            "'verbose' argument is deprecated and will be removed in a future release of LightGBM. Pass 'log_evaluation()' callback via 'callbacks' argument instead.\n"
          ]
        },
        {
          "output_type": "stream",
          "name": "stdout",
          "text": [
            "[LightGBM] [Warning] lambda_l1 is set=3.308690599354453, reg_alpha=0.0 will be ignored. Current value: lambda_l1=3.308690599354453\n",
            "[LightGBM] [Warning] lambda_l2 is set=2.4071715470593, reg_lambda=0.0 will be ignored. Current value: lambda_l2=2.4071715470593\n"
          ]
        },
        {
          "output_type": "stream",
          "name": "stderr",
          "text": [
            "'verbose' argument is deprecated and will be removed in a future release of LightGBM. Pass 'log_evaluation()' callback via 'callbacks' argument instead.\n"
          ]
        },
        {
          "output_type": "stream",
          "name": "stdout",
          "text": [
            "[LightGBM] [Warning] lambda_l1 is set=3.308690599354453, reg_alpha=0.0 will be ignored. Current value: lambda_l1=3.308690599354453\n",
            "[LightGBM] [Warning] lambda_l2 is set=2.4071715470593, reg_lambda=0.0 will be ignored. Current value: lambda_l2=2.4071715470593\n"
          ]
        },
        {
          "output_type": "stream",
          "name": "stderr",
          "text": [
            "'verbose' argument is deprecated and will be removed in a future release of LightGBM. Pass 'log_evaluation()' callback via 'callbacks' argument instead.\n"
          ]
        },
        {
          "output_type": "stream",
          "name": "stdout",
          "text": [
            "[LightGBM] [Warning] lambda_l1 is set=3.308690599354453, reg_alpha=0.0 will be ignored. Current value: lambda_l1=3.308690599354453\n",
            "[LightGBM] [Warning] lambda_l2 is set=2.4071715470593, reg_lambda=0.0 will be ignored. Current value: lambda_l2=2.4071715470593\n"
          ]
        },
        {
          "output_type": "stream",
          "name": "stderr",
          "text": [
            "'verbose' argument is deprecated and will be removed in a future release of LightGBM. Pass 'log_evaluation()' callback via 'callbacks' argument instead.\n"
          ]
        },
        {
          "output_type": "stream",
          "name": "stdout",
          "text": [
            "[LightGBM] [Warning] lambda_l1 is set=3.308690599354453, reg_alpha=0.0 will be ignored. Current value: lambda_l1=3.308690599354453\n",
            "[LightGBM] [Warning] lambda_l2 is set=2.4071715470593, reg_lambda=0.0 will be ignored. Current value: lambda_l2=2.4071715470593\n"
          ]
        },
        {
          "output_type": "stream",
          "name": "stderr",
          "text": [
            "'verbose' argument is deprecated and will be removed in a future release of LightGBM. Pass 'log_evaluation()' callback via 'callbacks' argument instead.\n"
          ]
        },
        {
          "output_type": "stream",
          "name": "stdout",
          "text": [
            "[LightGBM] [Warning] lambda_l1 is set=3.308690599354453, reg_alpha=0.0 will be ignored. Current value: lambda_l1=3.308690599354453\n",
            "[LightGBM] [Warning] lambda_l2 is set=2.4071715470593, reg_lambda=0.0 will be ignored. Current value: lambda_l2=2.4071715470593\n"
          ]
        },
        {
          "output_type": "stream",
          "name": "stderr",
          "text": [
            "\u001b[32m[I 2023-04-24 03:48:29,083]\u001b[0m Trial 5 finished with value: 29056.67106763968 and parameters: {'n_estimators': 271, 'num_leaves': 63, 'max_depth': 46, 'learning_rate': 0.02122685074641951, 'colsample_bytree': 0.8693001451513387, 'subsample': 0.797770869217578, 'lambda_l1': 3.308690599354453, 'lambda_l2': 2.4071715470593, 'min_child_weight': 47.848043134008336}. Best is trial 0 with value: 28730.975425994846.\u001b[0m\n",
            "suggest_loguniform has been deprecated in v3.0.0. This feature will be removed in v6.0.0. See https://github.com/optuna/optuna/releases/tag/v3.0.0. Use :func:`~optuna.trial.Trial.suggest_float` instead.\n",
            "The least populated class in y has only 1 members, which is less than n_splits=10.\n",
            "'verbose' argument is deprecated and will be removed in a future release of LightGBM. Pass 'log_evaluation()' callback via 'callbacks' argument instead.\n"
          ]
        },
        {
          "output_type": "stream",
          "name": "stdout",
          "text": [
            "[LightGBM] [Warning] lambda_l1 is set=0.45037456076757854, reg_alpha=0.0 will be ignored. Current value: lambda_l1=0.45037456076757854\n",
            "[LightGBM] [Warning] lambda_l2 is set=1.9163129285499263, reg_lambda=0.0 will be ignored. Current value: lambda_l2=1.9163129285499263\n"
          ]
        },
        {
          "output_type": "stream",
          "name": "stderr",
          "text": [
            "'verbose' argument is deprecated and will be removed in a future release of LightGBM. Pass 'log_evaluation()' callback via 'callbacks' argument instead.\n"
          ]
        },
        {
          "output_type": "stream",
          "name": "stdout",
          "text": [
            "[LightGBM] [Warning] lambda_l1 is set=0.45037456076757854, reg_alpha=0.0 will be ignored. Current value: lambda_l1=0.45037456076757854\n",
            "[LightGBM] [Warning] lambda_l2 is set=1.9163129285499263, reg_lambda=0.0 will be ignored. Current value: lambda_l2=1.9163129285499263\n"
          ]
        },
        {
          "output_type": "stream",
          "name": "stderr",
          "text": [
            "'verbose' argument is deprecated and will be removed in a future release of LightGBM. Pass 'log_evaluation()' callback via 'callbacks' argument instead.\n"
          ]
        },
        {
          "output_type": "stream",
          "name": "stdout",
          "text": [
            "[LightGBM] [Warning] lambda_l1 is set=0.45037456076757854, reg_alpha=0.0 will be ignored. Current value: lambda_l1=0.45037456076757854\n",
            "[LightGBM] [Warning] lambda_l2 is set=1.9163129285499263, reg_lambda=0.0 will be ignored. Current value: lambda_l2=1.9163129285499263\n"
          ]
        },
        {
          "output_type": "stream",
          "name": "stderr",
          "text": [
            "'verbose' argument is deprecated and will be removed in a future release of LightGBM. Pass 'log_evaluation()' callback via 'callbacks' argument instead.\n"
          ]
        },
        {
          "output_type": "stream",
          "name": "stdout",
          "text": [
            "[LightGBM] [Warning] lambda_l1 is set=0.45037456076757854, reg_alpha=0.0 will be ignored. Current value: lambda_l1=0.45037456076757854\n",
            "[LightGBM] [Warning] lambda_l2 is set=1.9163129285499263, reg_lambda=0.0 will be ignored. Current value: lambda_l2=1.9163129285499263\n"
          ]
        },
        {
          "output_type": "stream",
          "name": "stderr",
          "text": [
            "'verbose' argument is deprecated and will be removed in a future release of LightGBM. Pass 'log_evaluation()' callback via 'callbacks' argument instead.\n"
          ]
        },
        {
          "output_type": "stream",
          "name": "stdout",
          "text": [
            "[LightGBM] [Warning] lambda_l1 is set=0.45037456076757854, reg_alpha=0.0 will be ignored. Current value: lambda_l1=0.45037456076757854\n",
            "[LightGBM] [Warning] lambda_l2 is set=1.9163129285499263, reg_lambda=0.0 will be ignored. Current value: lambda_l2=1.9163129285499263\n"
          ]
        },
        {
          "output_type": "stream",
          "name": "stderr",
          "text": [
            "'verbose' argument is deprecated and will be removed in a future release of LightGBM. Pass 'log_evaluation()' callback via 'callbacks' argument instead.\n"
          ]
        },
        {
          "output_type": "stream",
          "name": "stdout",
          "text": [
            "[LightGBM] [Warning] lambda_l1 is set=0.45037456076757854, reg_alpha=0.0 will be ignored. Current value: lambda_l1=0.45037456076757854\n",
            "[LightGBM] [Warning] lambda_l2 is set=1.9163129285499263, reg_lambda=0.0 will be ignored. Current value: lambda_l2=1.9163129285499263\n"
          ]
        },
        {
          "output_type": "stream",
          "name": "stderr",
          "text": [
            "'verbose' argument is deprecated and will be removed in a future release of LightGBM. Pass 'log_evaluation()' callback via 'callbacks' argument instead.\n"
          ]
        },
        {
          "output_type": "stream",
          "name": "stdout",
          "text": [
            "[LightGBM] [Warning] lambda_l1 is set=0.45037456076757854, reg_alpha=0.0 will be ignored. Current value: lambda_l1=0.45037456076757854\n",
            "[LightGBM] [Warning] lambda_l2 is set=1.9163129285499263, reg_lambda=0.0 will be ignored. Current value: lambda_l2=1.9163129285499263\n"
          ]
        },
        {
          "output_type": "stream",
          "name": "stderr",
          "text": [
            "'verbose' argument is deprecated and will be removed in a future release of LightGBM. Pass 'log_evaluation()' callback via 'callbacks' argument instead.\n"
          ]
        },
        {
          "output_type": "stream",
          "name": "stdout",
          "text": [
            "[LightGBM] [Warning] lambda_l1 is set=0.45037456076757854, reg_alpha=0.0 will be ignored. Current value: lambda_l1=0.45037456076757854\n",
            "[LightGBM] [Warning] lambda_l2 is set=1.9163129285499263, reg_lambda=0.0 will be ignored. Current value: lambda_l2=1.9163129285499263\n"
          ]
        },
        {
          "output_type": "stream",
          "name": "stderr",
          "text": [
            "'verbose' argument is deprecated and will be removed in a future release of LightGBM. Pass 'log_evaluation()' callback via 'callbacks' argument instead.\n"
          ]
        },
        {
          "output_type": "stream",
          "name": "stdout",
          "text": [
            "[LightGBM] [Warning] lambda_l1 is set=0.45037456076757854, reg_alpha=0.0 will be ignored. Current value: lambda_l1=0.45037456076757854\n",
            "[LightGBM] [Warning] lambda_l2 is set=1.9163129285499263, reg_lambda=0.0 will be ignored. Current value: lambda_l2=1.9163129285499263\n"
          ]
        },
        {
          "output_type": "stream",
          "name": "stderr",
          "text": [
            "'verbose' argument is deprecated and will be removed in a future release of LightGBM. Pass 'log_evaluation()' callback via 'callbacks' argument instead.\n"
          ]
        },
        {
          "output_type": "stream",
          "name": "stdout",
          "text": [
            "[LightGBM] [Warning] lambda_l1 is set=0.45037456076757854, reg_alpha=0.0 will be ignored. Current value: lambda_l1=0.45037456076757854\n",
            "[LightGBM] [Warning] lambda_l2 is set=1.9163129285499263, reg_lambda=0.0 will be ignored. Current value: lambda_l2=1.9163129285499263\n"
          ]
        },
        {
          "output_type": "stream",
          "name": "stderr",
          "text": [
            "\u001b[32m[I 2023-04-24 03:48:36,697]\u001b[0m Trial 6 finished with value: 28907.88679580969 and parameters: {'n_estimators': 917, 'num_leaves': 89, 'max_depth': 7, 'learning_rate': 0.018926393615997704, 'colsample_bytree': 0.6305830768896847, 'subsample': 0.791798009977906, 'lambda_l1': 0.45037456076757854, 'lambda_l2': 1.9163129285499263, 'min_child_weight': 47.01987081858936}. Best is trial 0 with value: 28730.975425994846.\u001b[0m\n",
            "suggest_loguniform has been deprecated in v3.0.0. This feature will be removed in v6.0.0. See https://github.com/optuna/optuna/releases/tag/v3.0.0. Use :func:`~optuna.trial.Trial.suggest_float` instead.\n",
            "The least populated class in y has only 1 members, which is less than n_splits=10.\n",
            "'verbose' argument is deprecated and will be removed in a future release of LightGBM. Pass 'log_evaluation()' callback via 'callbacks' argument instead.\n"
          ]
        },
        {
          "output_type": "stream",
          "name": "stdout",
          "text": [
            "[LightGBM] [Warning] lambda_l1 is set=3.3065696573671177, reg_alpha=0.0 will be ignored. Current value: lambda_l1=3.3065696573671177\n",
            "[LightGBM] [Warning] lambda_l2 is set=1.5518308894088562, reg_lambda=0.0 will be ignored. Current value: lambda_l2=1.5518308894088562\n"
          ]
        },
        {
          "output_type": "stream",
          "name": "stderr",
          "text": [
            "'verbose' argument is deprecated and will be removed in a future release of LightGBM. Pass 'log_evaluation()' callback via 'callbacks' argument instead.\n"
          ]
        },
        {
          "output_type": "stream",
          "name": "stdout",
          "text": [
            "[LightGBM] [Warning] lambda_l1 is set=3.3065696573671177, reg_alpha=0.0 will be ignored. Current value: lambda_l1=3.3065696573671177\n",
            "[LightGBM] [Warning] lambda_l2 is set=1.5518308894088562, reg_lambda=0.0 will be ignored. Current value: lambda_l2=1.5518308894088562\n"
          ]
        },
        {
          "output_type": "stream",
          "name": "stderr",
          "text": [
            "'verbose' argument is deprecated and will be removed in a future release of LightGBM. Pass 'log_evaluation()' callback via 'callbacks' argument instead.\n"
          ]
        },
        {
          "output_type": "stream",
          "name": "stdout",
          "text": [
            "[LightGBM] [Warning] lambda_l1 is set=3.3065696573671177, reg_alpha=0.0 will be ignored. Current value: lambda_l1=3.3065696573671177\n",
            "[LightGBM] [Warning] lambda_l2 is set=1.5518308894088562, reg_lambda=0.0 will be ignored. Current value: lambda_l2=1.5518308894088562\n"
          ]
        },
        {
          "output_type": "stream",
          "name": "stderr",
          "text": [
            "'verbose' argument is deprecated and will be removed in a future release of LightGBM. Pass 'log_evaluation()' callback via 'callbacks' argument instead.\n"
          ]
        },
        {
          "output_type": "stream",
          "name": "stdout",
          "text": [
            "[LightGBM] [Warning] lambda_l1 is set=3.3065696573671177, reg_alpha=0.0 will be ignored. Current value: lambda_l1=3.3065696573671177\n",
            "[LightGBM] [Warning] lambda_l2 is set=1.5518308894088562, reg_lambda=0.0 will be ignored. Current value: lambda_l2=1.5518308894088562\n"
          ]
        },
        {
          "output_type": "stream",
          "name": "stderr",
          "text": [
            "'verbose' argument is deprecated and will be removed in a future release of LightGBM. Pass 'log_evaluation()' callback via 'callbacks' argument instead.\n"
          ]
        },
        {
          "output_type": "stream",
          "name": "stdout",
          "text": [
            "[LightGBM] [Warning] lambda_l1 is set=3.3065696573671177, reg_alpha=0.0 will be ignored. Current value: lambda_l1=3.3065696573671177\n",
            "[LightGBM] [Warning] lambda_l2 is set=1.5518308894088562, reg_lambda=0.0 will be ignored. Current value: lambda_l2=1.5518308894088562\n"
          ]
        },
        {
          "output_type": "stream",
          "name": "stderr",
          "text": [
            "'verbose' argument is deprecated and will be removed in a future release of LightGBM. Pass 'log_evaluation()' callback via 'callbacks' argument instead.\n"
          ]
        },
        {
          "output_type": "stream",
          "name": "stdout",
          "text": [
            "[LightGBM] [Warning] lambda_l1 is set=3.3065696573671177, reg_alpha=0.0 will be ignored. Current value: lambda_l1=3.3065696573671177\n",
            "[LightGBM] [Warning] lambda_l2 is set=1.5518308894088562, reg_lambda=0.0 will be ignored. Current value: lambda_l2=1.5518308894088562\n"
          ]
        },
        {
          "output_type": "stream",
          "name": "stderr",
          "text": [
            "'verbose' argument is deprecated and will be removed in a future release of LightGBM. Pass 'log_evaluation()' callback via 'callbacks' argument instead.\n"
          ]
        },
        {
          "output_type": "stream",
          "name": "stdout",
          "text": [
            "[LightGBM] [Warning] lambda_l1 is set=3.3065696573671177, reg_alpha=0.0 will be ignored. Current value: lambda_l1=3.3065696573671177\n",
            "[LightGBM] [Warning] lambda_l2 is set=1.5518308894088562, reg_lambda=0.0 will be ignored. Current value: lambda_l2=1.5518308894088562\n"
          ]
        },
        {
          "output_type": "stream",
          "name": "stderr",
          "text": [
            "'verbose' argument is deprecated and will be removed in a future release of LightGBM. Pass 'log_evaluation()' callback via 'callbacks' argument instead.\n"
          ]
        },
        {
          "output_type": "stream",
          "name": "stdout",
          "text": [
            "[LightGBM] [Warning] lambda_l1 is set=3.3065696573671177, reg_alpha=0.0 will be ignored. Current value: lambda_l1=3.3065696573671177\n",
            "[LightGBM] [Warning] lambda_l2 is set=1.5518308894088562, reg_lambda=0.0 will be ignored. Current value: lambda_l2=1.5518308894088562\n"
          ]
        },
        {
          "output_type": "stream",
          "name": "stderr",
          "text": [
            "'verbose' argument is deprecated and will be removed in a future release of LightGBM. Pass 'log_evaluation()' callback via 'callbacks' argument instead.\n"
          ]
        },
        {
          "output_type": "stream",
          "name": "stdout",
          "text": [
            "[LightGBM] [Warning] lambda_l1 is set=3.3065696573671177, reg_alpha=0.0 will be ignored. Current value: lambda_l1=3.3065696573671177\n",
            "[LightGBM] [Warning] lambda_l2 is set=1.5518308894088562, reg_lambda=0.0 will be ignored. Current value: lambda_l2=1.5518308894088562\n"
          ]
        },
        {
          "output_type": "stream",
          "name": "stderr",
          "text": [
            "'verbose' argument is deprecated and will be removed in a future release of LightGBM. Pass 'log_evaluation()' callback via 'callbacks' argument instead.\n"
          ]
        },
        {
          "output_type": "stream",
          "name": "stdout",
          "text": [
            "[LightGBM] [Warning] lambda_l1 is set=3.3065696573671177, reg_alpha=0.0 will be ignored. Current value: lambda_l1=3.3065696573671177\n",
            "[LightGBM] [Warning] lambda_l2 is set=1.5518308894088562, reg_lambda=0.0 will be ignored. Current value: lambda_l2=1.5518308894088562\n"
          ]
        },
        {
          "output_type": "stream",
          "name": "stderr",
          "text": [
            "\u001b[32m[I 2023-04-24 03:48:42,167]\u001b[0m Trial 7 finished with value: 28597.975229325606 and parameters: {'n_estimators': 944, 'num_leaves': 38, 'max_depth': 7, 'learning_rate': 0.040849755411382034, 'colsample_bytree': 0.617695664527441, 'subsample': 0.7068645523211731, 'lambda_l1': 3.3065696573671177, 'lambda_l2': 1.5518308894088562, 'min_child_weight': 29.22496505126758}. Best is trial 7 with value: 28597.975229325606.\u001b[0m\n",
            "suggest_loguniform has been deprecated in v3.0.0. This feature will be removed in v6.0.0. See https://github.com/optuna/optuna/releases/tag/v3.0.0. Use :func:`~optuna.trial.Trial.suggest_float` instead.\n",
            "The least populated class in y has only 1 members, which is less than n_splits=10.\n",
            "'verbose' argument is deprecated and will be removed in a future release of LightGBM. Pass 'log_evaluation()' callback via 'callbacks' argument instead.\n",
            "'verbose' argument is deprecated and will be removed in a future release of LightGBM. Pass 'log_evaluation()' callback via 'callbacks' argument instead.\n"
          ]
        },
        {
          "output_type": "stream",
          "name": "stdout",
          "text": [
            "[LightGBM] [Warning] lambda_l1 is set=2.854244334957767, reg_alpha=0.0 will be ignored. Current value: lambda_l1=2.854244334957767\n",
            "[LightGBM] [Warning] lambda_l2 is set=2.351574513468662, reg_lambda=0.0 will be ignored. Current value: lambda_l2=2.351574513468662\n",
            "[LightGBM] [Warning] lambda_l1 is set=2.854244334957767, reg_alpha=0.0 will be ignored. Current value: lambda_l1=2.854244334957767\n",
            "[LightGBM] [Warning] lambda_l2 is set=2.351574513468662, reg_lambda=0.0 will be ignored. Current value: lambda_l2=2.351574513468662\n"
          ]
        },
        {
          "output_type": "stream",
          "name": "stderr",
          "text": [
            "'verbose' argument is deprecated and will be removed in a future release of LightGBM. Pass 'log_evaluation()' callback via 'callbacks' argument instead.\n",
            "'verbose' argument is deprecated and will be removed in a future release of LightGBM. Pass 'log_evaluation()' callback via 'callbacks' argument instead.\n"
          ]
        },
        {
          "output_type": "stream",
          "name": "stdout",
          "text": [
            "[LightGBM] [Warning] lambda_l1 is set=2.854244334957767, reg_alpha=0.0 will be ignored. Current value: lambda_l1=2.854244334957767\n",
            "[LightGBM] [Warning] lambda_l2 is set=2.351574513468662, reg_lambda=0.0 will be ignored. Current value: lambda_l2=2.351574513468662\n"
          ]
        },
        {
          "output_type": "stream",
          "name": "stderr",
          "text": [
            "'verbose' argument is deprecated and will be removed in a future release of LightGBM. Pass 'log_evaluation()' callback via 'callbacks' argument instead.\n"
          ]
        },
        {
          "output_type": "stream",
          "name": "stdout",
          "text": [
            "[LightGBM] [Warning] lambda_l1 is set=2.854244334957767, reg_alpha=0.0 will be ignored. Current value: lambda_l1=2.854244334957767\n",
            "[LightGBM] [Warning] lambda_l2 is set=2.351574513468662, reg_lambda=0.0 will be ignored. Current value: lambda_l2=2.351574513468662\n",
            "[LightGBM] [Warning] lambda_l1 is set=2.854244334957767, reg_alpha=0.0 will be ignored. Current value: lambda_l1=2.854244334957767\n",
            "[LightGBM] [Warning] lambda_l2 is set=2.351574513468662, reg_lambda=0.0 will be ignored. Current value: lambda_l2=2.351574513468662\n"
          ]
        },
        {
          "output_type": "stream",
          "name": "stderr",
          "text": [
            "'verbose' argument is deprecated and will be removed in a future release of LightGBM. Pass 'log_evaluation()' callback via 'callbacks' argument instead.\n",
            "'verbose' argument is deprecated and will be removed in a future release of LightGBM. Pass 'log_evaluation()' callback via 'callbacks' argument instead.\n"
          ]
        },
        {
          "output_type": "stream",
          "name": "stdout",
          "text": [
            "[LightGBM] [Warning] lambda_l1 is set=2.854244334957767, reg_alpha=0.0 will be ignored. Current value: lambda_l1=2.854244334957767\n",
            "[LightGBM] [Warning] lambda_l2 is set=2.351574513468662, reg_lambda=0.0 will be ignored. Current value: lambda_l2=2.351574513468662\n",
            "[LightGBM] [Warning] lambda_l1 is set=2.854244334957767, reg_alpha=0.0 will be ignored. Current value: lambda_l1=2.854244334957767\n",
            "[LightGBM] [Warning] lambda_l2 is set=2.351574513468662, reg_lambda=0.0 will be ignored. Current value: lambda_l2=2.351574513468662\n"
          ]
        },
        {
          "output_type": "stream",
          "name": "stderr",
          "text": [
            "'verbose' argument is deprecated and will be removed in a future release of LightGBM. Pass 'log_evaluation()' callback via 'callbacks' argument instead.\n",
            "'verbose' argument is deprecated and will be removed in a future release of LightGBM. Pass 'log_evaluation()' callback via 'callbacks' argument instead.\n"
          ]
        },
        {
          "output_type": "stream",
          "name": "stdout",
          "text": [
            "[LightGBM] [Warning] lambda_l1 is set=2.854244334957767, reg_alpha=0.0 will be ignored. Current value: lambda_l1=2.854244334957767\n",
            "[LightGBM] [Warning] lambda_l2 is set=2.351574513468662, reg_lambda=0.0 will be ignored. Current value: lambda_l2=2.351574513468662\n",
            "[LightGBM] [Warning] lambda_l1 is set=2.854244334957767, reg_alpha=0.0 will be ignored. Current value: lambda_l1=2.854244334957767\n",
            "[LightGBM] [Warning] lambda_l2 is set=2.351574513468662, reg_lambda=0.0 will be ignored. Current value: lambda_l2=2.351574513468662\n"
          ]
        },
        {
          "output_type": "stream",
          "name": "stderr",
          "text": [
            "'verbose' argument is deprecated and will be removed in a future release of LightGBM. Pass 'log_evaluation()' callback via 'callbacks' argument instead.\n",
            "\u001b[32m[I 2023-04-24 03:48:44,126]\u001b[0m Trial 8 finished with value: 34881.78180777956 and parameters: {'n_estimators': 156, 'num_leaves': 44, 'max_depth': 36, 'learning_rate': 0.010926038441898872, 'colsample_bytree': 0.7968007688915609, 'subsample': 0.725340373288514, 'lambda_l1': 2.854244334957767, 'lambda_l2': 2.351574513468662, 'min_child_weight': 29.867363888317318}. Best is trial 7 with value: 28597.975229325606.\u001b[0m\n",
            "suggest_loguniform has been deprecated in v3.0.0. This feature will be removed in v6.0.0. See https://github.com/optuna/optuna/releases/tag/v3.0.0. Use :func:`~optuna.trial.Trial.suggest_float` instead.\n"
          ]
        },
        {
          "output_type": "stream",
          "name": "stdout",
          "text": [
            "[LightGBM] [Warning] lambda_l1 is set=2.854244334957767, reg_alpha=0.0 will be ignored. Current value: lambda_l1=2.854244334957767\n",
            "[LightGBM] [Warning] lambda_l2 is set=2.351574513468662, reg_lambda=0.0 will be ignored. Current value: lambda_l2=2.351574513468662\n"
          ]
        },
        {
          "output_type": "stream",
          "name": "stderr",
          "text": [
            "The least populated class in y has only 1 members, which is less than n_splits=10.\n",
            "'verbose' argument is deprecated and will be removed in a future release of LightGBM. Pass 'log_evaluation()' callback via 'callbacks' argument instead.\n"
          ]
        },
        {
          "output_type": "stream",
          "name": "stdout",
          "text": [
            "[LightGBM] [Warning] lambda_l1 is set=0.9830188692042108, reg_alpha=0.0 will be ignored. Current value: lambda_l1=0.9830188692042108\n",
            "[LightGBM] [Warning] lambda_l2 is set=1.4592507547033629, reg_lambda=0.0 will be ignored. Current value: lambda_l2=1.4592507547033629\n"
          ]
        },
        {
          "output_type": "stream",
          "name": "stderr",
          "text": [
            "'verbose' argument is deprecated and will be removed in a future release of LightGBM. Pass 'log_evaluation()' callback via 'callbacks' argument instead.\n"
          ]
        },
        {
          "output_type": "stream",
          "name": "stdout",
          "text": [
            "[LightGBM] [Warning] lambda_l1 is set=0.9830188692042108, reg_alpha=0.0 will be ignored. Current value: lambda_l1=0.9830188692042108\n",
            "[LightGBM] [Warning] lambda_l2 is set=1.4592507547033629, reg_lambda=0.0 will be ignored. Current value: lambda_l2=1.4592507547033629\n"
          ]
        },
        {
          "output_type": "stream",
          "name": "stderr",
          "text": [
            "'verbose' argument is deprecated and will be removed in a future release of LightGBM. Pass 'log_evaluation()' callback via 'callbacks' argument instead.\n"
          ]
        },
        {
          "output_type": "stream",
          "name": "stdout",
          "text": [
            "[LightGBM] [Warning] lambda_l1 is set=0.9830188692042108, reg_alpha=0.0 will be ignored. Current value: lambda_l1=0.9830188692042108\n",
            "[LightGBM] [Warning] lambda_l2 is set=1.4592507547033629, reg_lambda=0.0 will be ignored. Current value: lambda_l2=1.4592507547033629\n"
          ]
        },
        {
          "output_type": "stream",
          "name": "stderr",
          "text": [
            "'verbose' argument is deprecated and will be removed in a future release of LightGBM. Pass 'log_evaluation()' callback via 'callbacks' argument instead.\n"
          ]
        },
        {
          "output_type": "stream",
          "name": "stdout",
          "text": [
            "[LightGBM] [Warning] lambda_l1 is set=0.9830188692042108, reg_alpha=0.0 will be ignored. Current value: lambda_l1=0.9830188692042108\n",
            "[LightGBM] [Warning] lambda_l2 is set=1.4592507547033629, reg_lambda=0.0 will be ignored. Current value: lambda_l2=1.4592507547033629\n"
          ]
        },
        {
          "output_type": "stream",
          "name": "stderr",
          "text": [
            "'verbose' argument is deprecated and will be removed in a future release of LightGBM. Pass 'log_evaluation()' callback via 'callbacks' argument instead.\n"
          ]
        },
        {
          "output_type": "stream",
          "name": "stdout",
          "text": [
            "[LightGBM] [Warning] lambda_l1 is set=0.9830188692042108, reg_alpha=0.0 will be ignored. Current value: lambda_l1=0.9830188692042108\n",
            "[LightGBM] [Warning] lambda_l2 is set=1.4592507547033629, reg_lambda=0.0 will be ignored. Current value: lambda_l2=1.4592507547033629\n"
          ]
        },
        {
          "output_type": "stream",
          "name": "stderr",
          "text": [
            "'verbose' argument is deprecated and will be removed in a future release of LightGBM. Pass 'log_evaluation()' callback via 'callbacks' argument instead.\n"
          ]
        },
        {
          "output_type": "stream",
          "name": "stdout",
          "text": [
            "[LightGBM] [Warning] lambda_l1 is set=0.9830188692042108, reg_alpha=0.0 will be ignored. Current value: lambda_l1=0.9830188692042108\n",
            "[LightGBM] [Warning] lambda_l2 is set=1.4592507547033629, reg_lambda=0.0 will be ignored. Current value: lambda_l2=1.4592507547033629\n"
          ]
        },
        {
          "output_type": "stream",
          "name": "stderr",
          "text": [
            "'verbose' argument is deprecated and will be removed in a future release of LightGBM. Pass 'log_evaluation()' callback via 'callbacks' argument instead.\n"
          ]
        },
        {
          "output_type": "stream",
          "name": "stdout",
          "text": [
            "[LightGBM] [Warning] lambda_l1 is set=0.9830188692042108, reg_alpha=0.0 will be ignored. Current value: lambda_l1=0.9830188692042108\n",
            "[LightGBM] [Warning] lambda_l2 is set=1.4592507547033629, reg_lambda=0.0 will be ignored. Current value: lambda_l2=1.4592507547033629\n"
          ]
        },
        {
          "output_type": "stream",
          "name": "stderr",
          "text": [
            "'verbose' argument is deprecated and will be removed in a future release of LightGBM. Pass 'log_evaluation()' callback via 'callbacks' argument instead.\n"
          ]
        },
        {
          "output_type": "stream",
          "name": "stdout",
          "text": [
            "[LightGBM] [Warning] lambda_l1 is set=0.9830188692042108, reg_alpha=0.0 will be ignored. Current value: lambda_l1=0.9830188692042108\n",
            "[LightGBM] [Warning] lambda_l2 is set=1.4592507547033629, reg_lambda=0.0 will be ignored. Current value: lambda_l2=1.4592507547033629\n"
          ]
        },
        {
          "output_type": "stream",
          "name": "stderr",
          "text": [
            "'verbose' argument is deprecated and will be removed in a future release of LightGBM. Pass 'log_evaluation()' callback via 'callbacks' argument instead.\n"
          ]
        },
        {
          "output_type": "stream",
          "name": "stdout",
          "text": [
            "[LightGBM] [Warning] lambda_l1 is set=0.9830188692042108, reg_alpha=0.0 will be ignored. Current value: lambda_l1=0.9830188692042108\n",
            "[LightGBM] [Warning] lambda_l2 is set=1.4592507547033629, reg_lambda=0.0 will be ignored. Current value: lambda_l2=1.4592507547033629\n"
          ]
        },
        {
          "output_type": "stream",
          "name": "stderr",
          "text": [
            "'verbose' argument is deprecated and will be removed in a future release of LightGBM. Pass 'log_evaluation()' callback via 'callbacks' argument instead.\n"
          ]
        },
        {
          "output_type": "stream",
          "name": "stdout",
          "text": [
            "[LightGBM] [Warning] lambda_l1 is set=0.9830188692042108, reg_alpha=0.0 will be ignored. Current value: lambda_l1=0.9830188692042108\n",
            "[LightGBM] [Warning] lambda_l2 is set=1.4592507547033629, reg_lambda=0.0 will be ignored. Current value: lambda_l2=1.4592507547033629\n"
          ]
        },
        {
          "output_type": "stream",
          "name": "stderr",
          "text": [
            "\u001b[32m[I 2023-04-24 03:48:56,108]\u001b[0m Trial 9 finished with value: 28299.339550490266 and parameters: {'n_estimators': 780, 'num_leaves': 32, 'max_depth': 32, 'learning_rate': 0.010327810811826063, 'colsample_bytree': 0.7067218308627243, 'subsample': 0.7937265537557316, 'lambda_l1': 0.9830188692042108, 'lambda_l2': 1.4592507547033629, 'min_child_weight': 6.044630112000712}. Best is trial 9 with value: 28299.339550490266.\u001b[0m\n",
            "suggest_loguniform has been deprecated in v3.0.0. This feature will be removed in v6.0.0. See https://github.com/optuna/optuna/releases/tag/v3.0.0. Use :func:`~optuna.trial.Trial.suggest_float` instead.\n",
            "The least populated class in y has only 1 members, which is less than n_splits=10.\n",
            "'verbose' argument is deprecated and will be removed in a future release of LightGBM. Pass 'log_evaluation()' callback via 'callbacks' argument instead.\n"
          ]
        },
        {
          "output_type": "stream",
          "name": "stdout",
          "text": [
            "[LightGBM] [Warning] lambda_l1 is set=4.475609043670212, reg_alpha=0.0 will be ignored. Current value: lambda_l1=4.475609043670212\n",
            "[LightGBM] [Warning] lambda_l2 is set=0.17331525873612907, reg_lambda=0.0 will be ignored. Current value: lambda_l2=0.17331525873612907\n"
          ]
        },
        {
          "output_type": "stream",
          "name": "stderr",
          "text": [
            "'verbose' argument is deprecated and will be removed in a future release of LightGBM. Pass 'log_evaluation()' callback via 'callbacks' argument instead.\n"
          ]
        },
        {
          "output_type": "stream",
          "name": "stdout",
          "text": [
            "[LightGBM] [Warning] lambda_l1 is set=4.475609043670212, reg_alpha=0.0 will be ignored. Current value: lambda_l1=4.475609043670212\n",
            "[LightGBM] [Warning] lambda_l2 is set=0.17331525873612907, reg_lambda=0.0 will be ignored. Current value: lambda_l2=0.17331525873612907\n"
          ]
        },
        {
          "output_type": "stream",
          "name": "stderr",
          "text": [
            "'verbose' argument is deprecated and will be removed in a future release of LightGBM. Pass 'log_evaluation()' callback via 'callbacks' argument instead.\n"
          ]
        },
        {
          "output_type": "stream",
          "name": "stdout",
          "text": [
            "[LightGBM] [Warning] lambda_l1 is set=4.475609043670212, reg_alpha=0.0 will be ignored. Current value: lambda_l1=4.475609043670212\n",
            "[LightGBM] [Warning] lambda_l2 is set=0.17331525873612907, reg_lambda=0.0 will be ignored. Current value: lambda_l2=0.17331525873612907\n"
          ]
        },
        {
          "output_type": "stream",
          "name": "stderr",
          "text": [
            "'verbose' argument is deprecated and will be removed in a future release of LightGBM. Pass 'log_evaluation()' callback via 'callbacks' argument instead.\n"
          ]
        },
        {
          "output_type": "stream",
          "name": "stdout",
          "text": [
            "[LightGBM] [Warning] lambda_l1 is set=4.475609043670212, reg_alpha=0.0 will be ignored. Current value: lambda_l1=4.475609043670212\n",
            "[LightGBM] [Warning] lambda_l2 is set=0.17331525873612907, reg_lambda=0.0 will be ignored. Current value: lambda_l2=0.17331525873612907\n"
          ]
        },
        {
          "output_type": "stream",
          "name": "stderr",
          "text": [
            "'verbose' argument is deprecated and will be removed in a future release of LightGBM. Pass 'log_evaluation()' callback via 'callbacks' argument instead.\n"
          ]
        },
        {
          "output_type": "stream",
          "name": "stdout",
          "text": [
            "[LightGBM] [Warning] lambda_l1 is set=4.475609043670212, reg_alpha=0.0 will be ignored. Current value: lambda_l1=4.475609043670212\n",
            "[LightGBM] [Warning] lambda_l2 is set=0.17331525873612907, reg_lambda=0.0 will be ignored. Current value: lambda_l2=0.17331525873612907\n"
          ]
        },
        {
          "output_type": "stream",
          "name": "stderr",
          "text": [
            "'verbose' argument is deprecated and will be removed in a future release of LightGBM. Pass 'log_evaluation()' callback via 'callbacks' argument instead.\n"
          ]
        },
        {
          "output_type": "stream",
          "name": "stdout",
          "text": [
            "[LightGBM] [Warning] lambda_l1 is set=4.475609043670212, reg_alpha=0.0 will be ignored. Current value: lambda_l1=4.475609043670212\n",
            "[LightGBM] [Warning] lambda_l2 is set=0.17331525873612907, reg_lambda=0.0 will be ignored. Current value: lambda_l2=0.17331525873612907\n"
          ]
        },
        {
          "output_type": "stream",
          "name": "stderr",
          "text": [
            "'verbose' argument is deprecated and will be removed in a future release of LightGBM. Pass 'log_evaluation()' callback via 'callbacks' argument instead.\n"
          ]
        },
        {
          "output_type": "stream",
          "name": "stdout",
          "text": [
            "[LightGBM] [Warning] lambda_l1 is set=4.475609043670212, reg_alpha=0.0 will be ignored. Current value: lambda_l1=4.475609043670212\n",
            "[LightGBM] [Warning] lambda_l2 is set=0.17331525873612907, reg_lambda=0.0 will be ignored. Current value: lambda_l2=0.17331525873612907\n"
          ]
        },
        {
          "output_type": "stream",
          "name": "stderr",
          "text": [
            "'verbose' argument is deprecated and will be removed in a future release of LightGBM. Pass 'log_evaluation()' callback via 'callbacks' argument instead.\n"
          ]
        },
        {
          "output_type": "stream",
          "name": "stdout",
          "text": [
            "[LightGBM] [Warning] lambda_l1 is set=4.475609043670212, reg_alpha=0.0 will be ignored. Current value: lambda_l1=4.475609043670212\n",
            "[LightGBM] [Warning] lambda_l2 is set=0.17331525873612907, reg_lambda=0.0 will be ignored. Current value: lambda_l2=0.17331525873612907\n"
          ]
        },
        {
          "output_type": "stream",
          "name": "stderr",
          "text": [
            "'verbose' argument is deprecated and will be removed in a future release of LightGBM. Pass 'log_evaluation()' callback via 'callbacks' argument instead.\n"
          ]
        },
        {
          "output_type": "stream",
          "name": "stdout",
          "text": [
            "[LightGBM] [Warning] lambda_l1 is set=4.475609043670212, reg_alpha=0.0 will be ignored. Current value: lambda_l1=4.475609043670212\n",
            "[LightGBM] [Warning] lambda_l2 is set=0.17331525873612907, reg_lambda=0.0 will be ignored. Current value: lambda_l2=0.17331525873612907\n"
          ]
        },
        {
          "output_type": "stream",
          "name": "stderr",
          "text": [
            "'verbose' argument is deprecated and will be removed in a future release of LightGBM. Pass 'log_evaluation()' callback via 'callbacks' argument instead.\n"
          ]
        },
        {
          "output_type": "stream",
          "name": "stdout",
          "text": [
            "[LightGBM] [Warning] lambda_l1 is set=4.475609043670212, reg_alpha=0.0 will be ignored. Current value: lambda_l1=4.475609043670212\n",
            "[LightGBM] [Warning] lambda_l2 is set=0.17331525873612907, reg_lambda=0.0 will be ignored. Current value: lambda_l2=0.17331525873612907\n"
          ]
        },
        {
          "output_type": "stream",
          "name": "stderr",
          "text": [
            "\u001b[32m[I 2023-04-24 03:49:03,015]\u001b[0m Trial 10 finished with value: 28098.61837102964 and parameters: {'n_estimators': 645, 'num_leaves': 21, 'max_depth': 22, 'learning_rate': 0.03746140700355959, 'colsample_bytree': 0.5004685600165342, 'subsample': 0.7759069786997025, 'lambda_l1': 4.475609043670212, 'lambda_l2': 0.17331525873612907, 'min_child_weight': 4.108357927169521}. Best is trial 10 with value: 28098.61837102964.\u001b[0m\n",
            "suggest_loguniform has been deprecated in v3.0.0. This feature will be removed in v6.0.0. See https://github.com/optuna/optuna/releases/tag/v3.0.0. Use :func:`~optuna.trial.Trial.suggest_float` instead.\n",
            "The least populated class in y has only 1 members, which is less than n_splits=10.\n",
            "'verbose' argument is deprecated and will be removed in a future release of LightGBM. Pass 'log_evaluation()' callback via 'callbacks' argument instead.\n"
          ]
        },
        {
          "output_type": "stream",
          "name": "stdout",
          "text": [
            "[LightGBM] [Warning] lambda_l1 is set=4.963452788988035, reg_alpha=0.0 will be ignored. Current value: lambda_l1=4.963452788988035\n",
            "[LightGBM] [Warning] lambda_l2 is set=0.006699347792185062, reg_lambda=0.0 will be ignored. Current value: lambda_l2=0.006699347792185062\n"
          ]
        },
        {
          "output_type": "stream",
          "name": "stderr",
          "text": [
            "'verbose' argument is deprecated and will be removed in a future release of LightGBM. Pass 'log_evaluation()' callback via 'callbacks' argument instead.\n"
          ]
        },
        {
          "output_type": "stream",
          "name": "stdout",
          "text": [
            "[LightGBM] [Warning] lambda_l1 is set=4.963452788988035, reg_alpha=0.0 will be ignored. Current value: lambda_l1=4.963452788988035\n",
            "[LightGBM] [Warning] lambda_l2 is set=0.006699347792185062, reg_lambda=0.0 will be ignored. Current value: lambda_l2=0.006699347792185062\n"
          ]
        },
        {
          "output_type": "stream",
          "name": "stderr",
          "text": [
            "'verbose' argument is deprecated and will be removed in a future release of LightGBM. Pass 'log_evaluation()' callback via 'callbacks' argument instead.\n"
          ]
        },
        {
          "output_type": "stream",
          "name": "stdout",
          "text": [
            "[LightGBM] [Warning] lambda_l1 is set=4.963452788988035, reg_alpha=0.0 will be ignored. Current value: lambda_l1=4.963452788988035\n",
            "[LightGBM] [Warning] lambda_l2 is set=0.006699347792185062, reg_lambda=0.0 will be ignored. Current value: lambda_l2=0.006699347792185062\n"
          ]
        },
        {
          "output_type": "stream",
          "name": "stderr",
          "text": [
            "'verbose' argument is deprecated and will be removed in a future release of LightGBM. Pass 'log_evaluation()' callback via 'callbacks' argument instead.\n"
          ]
        },
        {
          "output_type": "stream",
          "name": "stdout",
          "text": [
            "[LightGBM] [Warning] lambda_l1 is set=4.963452788988035, reg_alpha=0.0 will be ignored. Current value: lambda_l1=4.963452788988035\n",
            "[LightGBM] [Warning] lambda_l2 is set=0.006699347792185062, reg_lambda=0.0 will be ignored. Current value: lambda_l2=0.006699347792185062\n"
          ]
        },
        {
          "output_type": "stream",
          "name": "stderr",
          "text": [
            "'verbose' argument is deprecated and will be removed in a future release of LightGBM. Pass 'log_evaluation()' callback via 'callbacks' argument instead.\n"
          ]
        },
        {
          "output_type": "stream",
          "name": "stdout",
          "text": [
            "[LightGBM] [Warning] lambda_l1 is set=4.963452788988035, reg_alpha=0.0 will be ignored. Current value: lambda_l1=4.963452788988035\n",
            "[LightGBM] [Warning] lambda_l2 is set=0.006699347792185062, reg_lambda=0.0 will be ignored. Current value: lambda_l2=0.006699347792185062\n"
          ]
        },
        {
          "output_type": "stream",
          "name": "stderr",
          "text": [
            "'verbose' argument is deprecated and will be removed in a future release of LightGBM. Pass 'log_evaluation()' callback via 'callbacks' argument instead.\n"
          ]
        },
        {
          "output_type": "stream",
          "name": "stdout",
          "text": [
            "[LightGBM] [Warning] lambda_l1 is set=4.963452788988035, reg_alpha=0.0 will be ignored. Current value: lambda_l1=4.963452788988035\n",
            "[LightGBM] [Warning] lambda_l2 is set=0.006699347792185062, reg_lambda=0.0 will be ignored. Current value: lambda_l2=0.006699347792185062\n"
          ]
        },
        {
          "output_type": "stream",
          "name": "stderr",
          "text": [
            "'verbose' argument is deprecated and will be removed in a future release of LightGBM. Pass 'log_evaluation()' callback via 'callbacks' argument instead.\n"
          ]
        },
        {
          "output_type": "stream",
          "name": "stdout",
          "text": [
            "[LightGBM] [Warning] lambda_l1 is set=4.963452788988035, reg_alpha=0.0 will be ignored. Current value: lambda_l1=4.963452788988035\n",
            "[LightGBM] [Warning] lambda_l2 is set=0.006699347792185062, reg_lambda=0.0 will be ignored. Current value: lambda_l2=0.006699347792185062\n"
          ]
        },
        {
          "output_type": "stream",
          "name": "stderr",
          "text": [
            "'verbose' argument is deprecated and will be removed in a future release of LightGBM. Pass 'log_evaluation()' callback via 'callbacks' argument instead.\n"
          ]
        },
        {
          "output_type": "stream",
          "name": "stdout",
          "text": [
            "[LightGBM] [Warning] lambda_l1 is set=4.963452788988035, reg_alpha=0.0 will be ignored. Current value: lambda_l1=4.963452788988035\n",
            "[LightGBM] [Warning] lambda_l2 is set=0.006699347792185062, reg_lambda=0.0 will be ignored. Current value: lambda_l2=0.006699347792185062\n"
          ]
        },
        {
          "output_type": "stream",
          "name": "stderr",
          "text": [
            "'verbose' argument is deprecated and will be removed in a future release of LightGBM. Pass 'log_evaluation()' callback via 'callbacks' argument instead.\n"
          ]
        },
        {
          "output_type": "stream",
          "name": "stdout",
          "text": [
            "[LightGBM] [Warning] lambda_l1 is set=4.963452788988035, reg_alpha=0.0 will be ignored. Current value: lambda_l1=4.963452788988035\n",
            "[LightGBM] [Warning] lambda_l2 is set=0.006699347792185062, reg_lambda=0.0 will be ignored. Current value: lambda_l2=0.006699347792185062\n"
          ]
        },
        {
          "output_type": "stream",
          "name": "stderr",
          "text": [
            "'verbose' argument is deprecated and will be removed in a future release of LightGBM. Pass 'log_evaluation()' callback via 'callbacks' argument instead.\n"
          ]
        },
        {
          "output_type": "stream",
          "name": "stdout",
          "text": [
            "[LightGBM] [Warning] lambda_l1 is set=4.963452788988035, reg_alpha=0.0 will be ignored. Current value: lambda_l1=4.963452788988035\n",
            "[LightGBM] [Warning] lambda_l2 is set=0.006699347792185062, reg_lambda=0.0 will be ignored. Current value: lambda_l2=0.006699347792185062\n"
          ]
        },
        {
          "output_type": "stream",
          "name": "stderr",
          "text": [
            "\u001b[32m[I 2023-04-24 03:49:08,887]\u001b[0m Trial 11 finished with value: 28017.287584230042 and parameters: {'n_estimators': 657, 'num_leaves': 20, 'max_depth': 25, 'learning_rate': 0.03831625680598642, 'colsample_bytree': 0.503133429155677, 'subsample': 0.7767407900638205, 'lambda_l1': 4.963452788988035, 'lambda_l2': 0.006699347792185062, 'min_child_weight': 3.3870950442913017}. Best is trial 11 with value: 28017.287584230042.\u001b[0m\n",
            "suggest_loguniform has been deprecated in v3.0.0. This feature will be removed in v6.0.0. See https://github.com/optuna/optuna/releases/tag/v3.0.0. Use :func:`~optuna.trial.Trial.suggest_float` instead.\n",
            "The least populated class in y has only 1 members, which is less than n_splits=10.\n",
            "'verbose' argument is deprecated and will be removed in a future release of LightGBM. Pass 'log_evaluation()' callback via 'callbacks' argument instead.\n"
          ]
        },
        {
          "output_type": "stream",
          "name": "stdout",
          "text": [
            "[LightGBM] [Warning] lambda_l1 is set=4.932799898801142, reg_alpha=0.0 will be ignored. Current value: lambda_l1=4.932799898801142\n",
            "[LightGBM] [Warning] lambda_l2 is set=0.27482546022310855, reg_lambda=0.0 will be ignored. Current value: lambda_l2=0.27482546022310855\n"
          ]
        },
        {
          "output_type": "stream",
          "name": "stderr",
          "text": [
            "'verbose' argument is deprecated and will be removed in a future release of LightGBM. Pass 'log_evaluation()' callback via 'callbacks' argument instead.\n"
          ]
        },
        {
          "output_type": "stream",
          "name": "stdout",
          "text": [
            "[LightGBM] [Warning] lambda_l1 is set=4.932799898801142, reg_alpha=0.0 will be ignored. Current value: lambda_l1=4.932799898801142\n",
            "[LightGBM] [Warning] lambda_l2 is set=0.27482546022310855, reg_lambda=0.0 will be ignored. Current value: lambda_l2=0.27482546022310855\n"
          ]
        },
        {
          "output_type": "stream",
          "name": "stderr",
          "text": [
            "'verbose' argument is deprecated and will be removed in a future release of LightGBM. Pass 'log_evaluation()' callback via 'callbacks' argument instead.\n"
          ]
        },
        {
          "output_type": "stream",
          "name": "stdout",
          "text": [
            "[LightGBM] [Warning] lambda_l1 is set=4.932799898801142, reg_alpha=0.0 will be ignored. Current value: lambda_l1=4.932799898801142\n",
            "[LightGBM] [Warning] lambda_l2 is set=0.27482546022310855, reg_lambda=0.0 will be ignored. Current value: lambda_l2=0.27482546022310855\n"
          ]
        },
        {
          "output_type": "stream",
          "name": "stderr",
          "text": [
            "'verbose' argument is deprecated and will be removed in a future release of LightGBM. Pass 'log_evaluation()' callback via 'callbacks' argument instead.\n"
          ]
        },
        {
          "output_type": "stream",
          "name": "stdout",
          "text": [
            "[LightGBM] [Warning] lambda_l1 is set=4.932799898801142, reg_alpha=0.0 will be ignored. Current value: lambda_l1=4.932799898801142\n",
            "[LightGBM] [Warning] lambda_l2 is set=0.27482546022310855, reg_lambda=0.0 will be ignored. Current value: lambda_l2=0.27482546022310855\n"
          ]
        },
        {
          "output_type": "stream",
          "name": "stderr",
          "text": [
            "'verbose' argument is deprecated and will be removed in a future release of LightGBM. Pass 'log_evaluation()' callback via 'callbacks' argument instead.\n"
          ]
        },
        {
          "output_type": "stream",
          "name": "stdout",
          "text": [
            "[LightGBM] [Warning] lambda_l1 is set=4.932799898801142, reg_alpha=0.0 will be ignored. Current value: lambda_l1=4.932799898801142\n",
            "[LightGBM] [Warning] lambda_l2 is set=0.27482546022310855, reg_lambda=0.0 will be ignored. Current value: lambda_l2=0.27482546022310855\n"
          ]
        },
        {
          "output_type": "stream",
          "name": "stderr",
          "text": [
            "'verbose' argument is deprecated and will be removed in a future release of LightGBM. Pass 'log_evaluation()' callback via 'callbacks' argument instead.\n"
          ]
        },
        {
          "output_type": "stream",
          "name": "stdout",
          "text": [
            "[LightGBM] [Warning] lambda_l1 is set=4.932799898801142, reg_alpha=0.0 will be ignored. Current value: lambda_l1=4.932799898801142\n",
            "[LightGBM] [Warning] lambda_l2 is set=0.27482546022310855, reg_lambda=0.0 will be ignored. Current value: lambda_l2=0.27482546022310855\n"
          ]
        },
        {
          "output_type": "stream",
          "name": "stderr",
          "text": [
            "'verbose' argument is deprecated and will be removed in a future release of LightGBM. Pass 'log_evaluation()' callback via 'callbacks' argument instead.\n"
          ]
        },
        {
          "output_type": "stream",
          "name": "stdout",
          "text": [
            "[LightGBM] [Warning] lambda_l1 is set=4.932799898801142, reg_alpha=0.0 will be ignored. Current value: lambda_l1=4.932799898801142\n",
            "[LightGBM] [Warning] lambda_l2 is set=0.27482546022310855, reg_lambda=0.0 will be ignored. Current value: lambda_l2=0.27482546022310855\n"
          ]
        },
        {
          "output_type": "stream",
          "name": "stderr",
          "text": [
            "'verbose' argument is deprecated and will be removed in a future release of LightGBM. Pass 'log_evaluation()' callback via 'callbacks' argument instead.\n"
          ]
        },
        {
          "output_type": "stream",
          "name": "stdout",
          "text": [
            "[LightGBM] [Warning] lambda_l1 is set=4.932799898801142, reg_alpha=0.0 will be ignored. Current value: lambda_l1=4.932799898801142\n",
            "[LightGBM] [Warning] lambda_l2 is set=0.27482546022310855, reg_lambda=0.0 will be ignored. Current value: lambda_l2=0.27482546022310855\n"
          ]
        },
        {
          "output_type": "stream",
          "name": "stderr",
          "text": [
            "'verbose' argument is deprecated and will be removed in a future release of LightGBM. Pass 'log_evaluation()' callback via 'callbacks' argument instead.\n"
          ]
        },
        {
          "output_type": "stream",
          "name": "stdout",
          "text": [
            "[LightGBM] [Warning] lambda_l1 is set=4.932799898801142, reg_alpha=0.0 will be ignored. Current value: lambda_l1=4.932799898801142\n",
            "[LightGBM] [Warning] lambda_l2 is set=0.27482546022310855, reg_lambda=0.0 will be ignored. Current value: lambda_l2=0.27482546022310855\n"
          ]
        },
        {
          "output_type": "stream",
          "name": "stderr",
          "text": [
            "'verbose' argument is deprecated and will be removed in a future release of LightGBM. Pass 'log_evaluation()' callback via 'callbacks' argument instead.\n"
          ]
        },
        {
          "output_type": "stream",
          "name": "stdout",
          "text": [
            "[LightGBM] [Warning] lambda_l1 is set=4.932799898801142, reg_alpha=0.0 will be ignored. Current value: lambda_l1=4.932799898801142\n",
            "[LightGBM] [Warning] lambda_l2 is set=0.27482546022310855, reg_lambda=0.0 will be ignored. Current value: lambda_l2=0.27482546022310855\n"
          ]
        },
        {
          "output_type": "stream",
          "name": "stderr",
          "text": [
            "\u001b[32m[I 2023-04-24 03:49:13,783]\u001b[0m Trial 12 finished with value: 28322.320327372006 and parameters: {'n_estimators': 596, 'num_leaves': 20, 'max_depth': 21, 'learning_rate': 0.04554723473125056, 'colsample_bytree': 0.5130282387846522, 'subsample': 0.7740870883957757, 'lambda_l1': 4.932799898801142, 'lambda_l2': 0.27482546022310855, 'min_child_weight': 2.255628058828708}. Best is trial 11 with value: 28017.287584230042.\u001b[0m\n",
            "suggest_loguniform has been deprecated in v3.0.0. This feature will be removed in v6.0.0. See https://github.com/optuna/optuna/releases/tag/v3.0.0. Use :func:`~optuna.trial.Trial.suggest_float` instead.\n",
            "The least populated class in y has only 1 members, which is less than n_splits=10.\n",
            "'verbose' argument is deprecated and will be removed in a future release of LightGBM. Pass 'log_evaluation()' callback via 'callbacks' argument instead.\n"
          ]
        },
        {
          "output_type": "stream",
          "name": "stdout",
          "text": [
            "[LightGBM] [Warning] lambda_l1 is set=4.875162043479842, reg_alpha=0.0 will be ignored. Current value: lambda_l1=4.875162043479842\n",
            "[LightGBM] [Warning] lambda_l2 is set=0.009869137925743399, reg_lambda=0.0 will be ignored. Current value: lambda_l2=0.009869137925743399\n"
          ]
        },
        {
          "output_type": "stream",
          "name": "stderr",
          "text": [
            "'verbose' argument is deprecated and will be removed in a future release of LightGBM. Pass 'log_evaluation()' callback via 'callbacks' argument instead.\n"
          ]
        },
        {
          "output_type": "stream",
          "name": "stdout",
          "text": [
            "[LightGBM] [Warning] lambda_l1 is set=4.875162043479842, reg_alpha=0.0 will be ignored. Current value: lambda_l1=4.875162043479842\n",
            "[LightGBM] [Warning] lambda_l2 is set=0.009869137925743399, reg_lambda=0.0 will be ignored. Current value: lambda_l2=0.009869137925743399\n"
          ]
        },
        {
          "output_type": "stream",
          "name": "stderr",
          "text": [
            "'verbose' argument is deprecated and will be removed in a future release of LightGBM. Pass 'log_evaluation()' callback via 'callbacks' argument instead.\n"
          ]
        },
        {
          "output_type": "stream",
          "name": "stdout",
          "text": [
            "[LightGBM] [Warning] lambda_l1 is set=4.875162043479842, reg_alpha=0.0 will be ignored. Current value: lambda_l1=4.875162043479842\n",
            "[LightGBM] [Warning] lambda_l2 is set=0.009869137925743399, reg_lambda=0.0 will be ignored. Current value: lambda_l2=0.009869137925743399\n"
          ]
        },
        {
          "output_type": "stream",
          "name": "stderr",
          "text": [
            "'verbose' argument is deprecated and will be removed in a future release of LightGBM. Pass 'log_evaluation()' callback via 'callbacks' argument instead.\n"
          ]
        },
        {
          "output_type": "stream",
          "name": "stdout",
          "text": [
            "[LightGBM] [Warning] lambda_l1 is set=4.875162043479842, reg_alpha=0.0 will be ignored. Current value: lambda_l1=4.875162043479842\n",
            "[LightGBM] [Warning] lambda_l2 is set=0.009869137925743399, reg_lambda=0.0 will be ignored. Current value: lambda_l2=0.009869137925743399\n"
          ]
        },
        {
          "output_type": "stream",
          "name": "stderr",
          "text": [
            "'verbose' argument is deprecated and will be removed in a future release of LightGBM. Pass 'log_evaluation()' callback via 'callbacks' argument instead.\n"
          ]
        },
        {
          "output_type": "stream",
          "name": "stdout",
          "text": [
            "[LightGBM] [Warning] lambda_l1 is set=4.875162043479842, reg_alpha=0.0 will be ignored. Current value: lambda_l1=4.875162043479842\n",
            "[LightGBM] [Warning] lambda_l2 is set=0.009869137925743399, reg_lambda=0.0 will be ignored. Current value: lambda_l2=0.009869137925743399\n"
          ]
        },
        {
          "output_type": "stream",
          "name": "stderr",
          "text": [
            "'verbose' argument is deprecated and will be removed in a future release of LightGBM. Pass 'log_evaluation()' callback via 'callbacks' argument instead.\n"
          ]
        },
        {
          "output_type": "stream",
          "name": "stdout",
          "text": [
            "[LightGBM] [Warning] lambda_l1 is set=4.875162043479842, reg_alpha=0.0 will be ignored. Current value: lambda_l1=4.875162043479842\n",
            "[LightGBM] [Warning] lambda_l2 is set=0.009869137925743399, reg_lambda=0.0 will be ignored. Current value: lambda_l2=0.009869137925743399\n"
          ]
        },
        {
          "output_type": "stream",
          "name": "stderr",
          "text": [
            "'verbose' argument is deprecated and will be removed in a future release of LightGBM. Pass 'log_evaluation()' callback via 'callbacks' argument instead.\n"
          ]
        },
        {
          "output_type": "stream",
          "name": "stdout",
          "text": [
            "[LightGBM] [Warning] lambda_l1 is set=4.875162043479842, reg_alpha=0.0 will be ignored. Current value: lambda_l1=4.875162043479842\n",
            "[LightGBM] [Warning] lambda_l2 is set=0.009869137925743399, reg_lambda=0.0 will be ignored. Current value: lambda_l2=0.009869137925743399\n"
          ]
        },
        {
          "output_type": "stream",
          "name": "stderr",
          "text": [
            "'verbose' argument is deprecated and will be removed in a future release of LightGBM. Pass 'log_evaluation()' callback via 'callbacks' argument instead.\n"
          ]
        },
        {
          "output_type": "stream",
          "name": "stdout",
          "text": [
            "[LightGBM] [Warning] lambda_l1 is set=4.875162043479842, reg_alpha=0.0 will be ignored. Current value: lambda_l1=4.875162043479842\n",
            "[LightGBM] [Warning] lambda_l2 is set=0.009869137925743399, reg_lambda=0.0 will be ignored. Current value: lambda_l2=0.009869137925743399\n"
          ]
        },
        {
          "output_type": "stream",
          "name": "stderr",
          "text": [
            "'verbose' argument is deprecated and will be removed in a future release of LightGBM. Pass 'log_evaluation()' callback via 'callbacks' argument instead.\n"
          ]
        },
        {
          "output_type": "stream",
          "name": "stdout",
          "text": [
            "[LightGBM] [Warning] lambda_l1 is set=4.875162043479842, reg_alpha=0.0 will be ignored. Current value: lambda_l1=4.875162043479842\n",
            "[LightGBM] [Warning] lambda_l2 is set=0.009869137925743399, reg_lambda=0.0 will be ignored. Current value: lambda_l2=0.009869137925743399\n"
          ]
        },
        {
          "output_type": "stream",
          "name": "stderr",
          "text": [
            "'verbose' argument is deprecated and will be removed in a future release of LightGBM. Pass 'log_evaluation()' callback via 'callbacks' argument instead.\n"
          ]
        },
        {
          "output_type": "stream",
          "name": "stdout",
          "text": [
            "[LightGBM] [Warning] lambda_l1 is set=4.875162043479842, reg_alpha=0.0 will be ignored. Current value: lambda_l1=4.875162043479842\n",
            "[LightGBM] [Warning] lambda_l2 is set=0.009869137925743399, reg_lambda=0.0 will be ignored. Current value: lambda_l2=0.009869137925743399\n"
          ]
        },
        {
          "output_type": "stream",
          "name": "stderr",
          "text": [
            "\u001b[32m[I 2023-04-24 03:49:22,421]\u001b[0m Trial 13 finished with value: 28046.16263666043 and parameters: {'n_estimators': 678, 'num_leaves': 21, 'max_depth': 20, 'learning_rate': 0.03606950046971728, 'colsample_bytree': 0.5013178828216265, 'subsample': 0.7714515560950548, 'lambda_l1': 4.875162043479842, 'lambda_l2': 0.009869137925743399, 'min_child_weight': 11.194922976021475}. Best is trial 11 with value: 28017.287584230042.\u001b[0m\n",
            "suggest_loguniform has been deprecated in v3.0.0. This feature will be removed in v6.0.0. See https://github.com/optuna/optuna/releases/tag/v3.0.0. Use :func:`~optuna.trial.Trial.suggest_float` instead.\n",
            "The least populated class in y has only 1 members, which is less than n_splits=10.\n",
            "'verbose' argument is deprecated and will be removed in a future release of LightGBM. Pass 'log_evaluation()' callback via 'callbacks' argument instead.\n"
          ]
        },
        {
          "output_type": "stream",
          "name": "stdout",
          "text": [
            "[LightGBM] [Warning] lambda_l1 is set=4.274173490365461, reg_alpha=0.0 will be ignored. Current value: lambda_l1=4.274173490365461\n",
            "[LightGBM] [Warning] lambda_l2 is set=0.08127950161162471, reg_lambda=0.0 will be ignored. Current value: lambda_l2=0.08127950161162471\n"
          ]
        },
        {
          "output_type": "stream",
          "name": "stderr",
          "text": [
            "'verbose' argument is deprecated and will be removed in a future release of LightGBM. Pass 'log_evaluation()' callback via 'callbacks' argument instead.\n"
          ]
        },
        {
          "output_type": "stream",
          "name": "stdout",
          "text": [
            "[LightGBM] [Warning] lambda_l1 is set=4.274173490365461, reg_alpha=0.0 will be ignored. Current value: lambda_l1=4.274173490365461\n",
            "[LightGBM] [Warning] lambda_l2 is set=0.08127950161162471, reg_lambda=0.0 will be ignored. Current value: lambda_l2=0.08127950161162471\n"
          ]
        },
        {
          "output_type": "stream",
          "name": "stderr",
          "text": [
            "'verbose' argument is deprecated and will be removed in a future release of LightGBM. Pass 'log_evaluation()' callback via 'callbacks' argument instead.\n"
          ]
        },
        {
          "output_type": "stream",
          "name": "stdout",
          "text": [
            "[LightGBM] [Warning] lambda_l1 is set=4.274173490365461, reg_alpha=0.0 will be ignored. Current value: lambda_l1=4.274173490365461\n",
            "[LightGBM] [Warning] lambda_l2 is set=0.08127950161162471, reg_lambda=0.0 will be ignored. Current value: lambda_l2=0.08127950161162471\n"
          ]
        },
        {
          "output_type": "stream",
          "name": "stderr",
          "text": [
            "'verbose' argument is deprecated and will be removed in a future release of LightGBM. Pass 'log_evaluation()' callback via 'callbacks' argument instead.\n"
          ]
        },
        {
          "output_type": "stream",
          "name": "stdout",
          "text": [
            "[LightGBM] [Warning] lambda_l1 is set=4.274173490365461, reg_alpha=0.0 will be ignored. Current value: lambda_l1=4.274173490365461\n",
            "[LightGBM] [Warning] lambda_l2 is set=0.08127950161162471, reg_lambda=0.0 will be ignored. Current value: lambda_l2=0.08127950161162471\n"
          ]
        },
        {
          "output_type": "stream",
          "name": "stderr",
          "text": [
            "'verbose' argument is deprecated and will be removed in a future release of LightGBM. Pass 'log_evaluation()' callback via 'callbacks' argument instead.\n"
          ]
        },
        {
          "output_type": "stream",
          "name": "stdout",
          "text": [
            "[LightGBM] [Warning] lambda_l1 is set=4.274173490365461, reg_alpha=0.0 will be ignored. Current value: lambda_l1=4.274173490365461\n",
            "[LightGBM] [Warning] lambda_l2 is set=0.08127950161162471, reg_lambda=0.0 will be ignored. Current value: lambda_l2=0.08127950161162471\n"
          ]
        },
        {
          "output_type": "stream",
          "name": "stderr",
          "text": [
            "'verbose' argument is deprecated and will be removed in a future release of LightGBM. Pass 'log_evaluation()' callback via 'callbacks' argument instead.\n"
          ]
        },
        {
          "output_type": "stream",
          "name": "stdout",
          "text": [
            "[LightGBM] [Warning] lambda_l1 is set=4.274173490365461, reg_alpha=0.0 will be ignored. Current value: lambda_l1=4.274173490365461\n",
            "[LightGBM] [Warning] lambda_l2 is set=0.08127950161162471, reg_lambda=0.0 will be ignored. Current value: lambda_l2=0.08127950161162471\n"
          ]
        },
        {
          "output_type": "stream",
          "name": "stderr",
          "text": [
            "'verbose' argument is deprecated and will be removed in a future release of LightGBM. Pass 'log_evaluation()' callback via 'callbacks' argument instead.\n"
          ]
        },
        {
          "output_type": "stream",
          "name": "stdout",
          "text": [
            "[LightGBM] [Warning] lambda_l1 is set=4.274173490365461, reg_alpha=0.0 will be ignored. Current value: lambda_l1=4.274173490365461\n",
            "[LightGBM] [Warning] lambda_l2 is set=0.08127950161162471, reg_lambda=0.0 will be ignored. Current value: lambda_l2=0.08127950161162471\n"
          ]
        },
        {
          "output_type": "stream",
          "name": "stderr",
          "text": [
            "'verbose' argument is deprecated and will be removed in a future release of LightGBM. Pass 'log_evaluation()' callback via 'callbacks' argument instead.\n"
          ]
        },
        {
          "output_type": "stream",
          "name": "stdout",
          "text": [
            "[LightGBM] [Warning] lambda_l1 is set=4.274173490365461, reg_alpha=0.0 will be ignored. Current value: lambda_l1=4.274173490365461\n",
            "[LightGBM] [Warning] lambda_l2 is set=0.08127950161162471, reg_lambda=0.0 will be ignored. Current value: lambda_l2=0.08127950161162471\n"
          ]
        },
        {
          "output_type": "stream",
          "name": "stderr",
          "text": [
            "'verbose' argument is deprecated and will be removed in a future release of LightGBM. Pass 'log_evaluation()' callback via 'callbacks' argument instead.\n"
          ]
        },
        {
          "output_type": "stream",
          "name": "stdout",
          "text": [
            "[LightGBM] [Warning] lambda_l1 is set=4.274173490365461, reg_alpha=0.0 will be ignored. Current value: lambda_l1=4.274173490365461\n",
            "[LightGBM] [Warning] lambda_l2 is set=0.08127950161162471, reg_lambda=0.0 will be ignored. Current value: lambda_l2=0.08127950161162471\n"
          ]
        },
        {
          "output_type": "stream",
          "name": "stderr",
          "text": [
            "'verbose' argument is deprecated and will be removed in a future release of LightGBM. Pass 'log_evaluation()' callback via 'callbacks' argument instead.\n"
          ]
        },
        {
          "output_type": "stream",
          "name": "stdout",
          "text": [
            "[LightGBM] [Warning] lambda_l1 is set=4.274173490365461, reg_alpha=0.0 will be ignored. Current value: lambda_l1=4.274173490365461\n",
            "[LightGBM] [Warning] lambda_l2 is set=0.08127950161162471, reg_lambda=0.0 will be ignored. Current value: lambda_l2=0.08127950161162471\n"
          ]
        },
        {
          "output_type": "stream",
          "name": "stderr",
          "text": [
            "\u001b[32m[I 2023-04-24 03:49:30,606]\u001b[0m Trial 14 finished with value: 28399.64399121661 and parameters: {'n_estimators': 712, 'num_leaves': 52, 'max_depth': 14, 'learning_rate': 0.029604581800238904, 'colsample_bytree': 0.5477948968339369, 'subsample': 0.7559433495054977, 'lambda_l1': 4.274173490365461, 'lambda_l2': 0.08127950161162471, 'min_child_weight': 12.627310932407395}. Best is trial 11 with value: 28017.287584230042.\u001b[0m\n",
            "suggest_loguniform has been deprecated in v3.0.0. This feature will be removed in v6.0.0. See https://github.com/optuna/optuna/releases/tag/v3.0.0. Use :func:`~optuna.trial.Trial.suggest_float` instead.\n",
            "The least populated class in y has only 1 members, which is less than n_splits=10.\n",
            "'verbose' argument is deprecated and will be removed in a future release of LightGBM. Pass 'log_evaluation()' callback via 'callbacks' argument instead.\n"
          ]
        },
        {
          "output_type": "stream",
          "name": "stdout",
          "text": [
            "[LightGBM] [Warning] lambda_l1 is set=4.989749338165982, reg_alpha=0.0 will be ignored. Current value: lambda_l1=4.989749338165982\n",
            "[LightGBM] [Warning] lambda_l2 is set=0.7308196481735233, reg_lambda=0.0 will be ignored. Current value: lambda_l2=0.7308196481735233\n"
          ]
        },
        {
          "output_type": "stream",
          "name": "stderr",
          "text": [
            "'verbose' argument is deprecated and will be removed in a future release of LightGBM. Pass 'log_evaluation()' callback via 'callbacks' argument instead.\n"
          ]
        },
        {
          "output_type": "stream",
          "name": "stdout",
          "text": [
            "[LightGBM] [Warning] lambda_l1 is set=4.989749338165982, reg_alpha=0.0 will be ignored. Current value: lambda_l1=4.989749338165982\n",
            "[LightGBM] [Warning] lambda_l2 is set=0.7308196481735233, reg_lambda=0.0 will be ignored. Current value: lambda_l2=0.7308196481735233\n"
          ]
        },
        {
          "output_type": "stream",
          "name": "stderr",
          "text": [
            "'verbose' argument is deprecated and will be removed in a future release of LightGBM. Pass 'log_evaluation()' callback via 'callbacks' argument instead.\n"
          ]
        },
        {
          "output_type": "stream",
          "name": "stdout",
          "text": [
            "[LightGBM] [Warning] lambda_l1 is set=4.989749338165982, reg_alpha=0.0 will be ignored. Current value: lambda_l1=4.989749338165982\n",
            "[LightGBM] [Warning] lambda_l2 is set=0.7308196481735233, reg_lambda=0.0 will be ignored. Current value: lambda_l2=0.7308196481735233\n"
          ]
        },
        {
          "output_type": "stream",
          "name": "stderr",
          "text": [
            "'verbose' argument is deprecated and will be removed in a future release of LightGBM. Pass 'log_evaluation()' callback via 'callbacks' argument instead.\n"
          ]
        },
        {
          "output_type": "stream",
          "name": "stdout",
          "text": [
            "[LightGBM] [Warning] lambda_l1 is set=4.989749338165982, reg_alpha=0.0 will be ignored. Current value: lambda_l1=4.989749338165982\n",
            "[LightGBM] [Warning] lambda_l2 is set=0.7308196481735233, reg_lambda=0.0 will be ignored. Current value: lambda_l2=0.7308196481735233\n"
          ]
        },
        {
          "output_type": "stream",
          "name": "stderr",
          "text": [
            "'verbose' argument is deprecated and will be removed in a future release of LightGBM. Pass 'log_evaluation()' callback via 'callbacks' argument instead.\n"
          ]
        },
        {
          "output_type": "stream",
          "name": "stdout",
          "text": [
            "[LightGBM] [Warning] lambda_l1 is set=4.989749338165982, reg_alpha=0.0 will be ignored. Current value: lambda_l1=4.989749338165982\n",
            "[LightGBM] [Warning] lambda_l2 is set=0.7308196481735233, reg_lambda=0.0 will be ignored. Current value: lambda_l2=0.7308196481735233\n"
          ]
        },
        {
          "output_type": "stream",
          "name": "stderr",
          "text": [
            "'verbose' argument is deprecated and will be removed in a future release of LightGBM. Pass 'log_evaluation()' callback via 'callbacks' argument instead.\n"
          ]
        },
        {
          "output_type": "stream",
          "name": "stdout",
          "text": [
            "[LightGBM] [Warning] lambda_l1 is set=4.989749338165982, reg_alpha=0.0 will be ignored. Current value: lambda_l1=4.989749338165982\n",
            "[LightGBM] [Warning] lambda_l2 is set=0.7308196481735233, reg_lambda=0.0 will be ignored. Current value: lambda_l2=0.7308196481735233\n"
          ]
        },
        {
          "output_type": "stream",
          "name": "stderr",
          "text": [
            "'verbose' argument is deprecated and will be removed in a future release of LightGBM. Pass 'log_evaluation()' callback via 'callbacks' argument instead.\n"
          ]
        },
        {
          "output_type": "stream",
          "name": "stdout",
          "text": [
            "[LightGBM] [Warning] lambda_l1 is set=4.989749338165982, reg_alpha=0.0 will be ignored. Current value: lambda_l1=4.989749338165982\n",
            "[LightGBM] [Warning] lambda_l2 is set=0.7308196481735233, reg_lambda=0.0 will be ignored. Current value: lambda_l2=0.7308196481735233\n"
          ]
        },
        {
          "output_type": "stream",
          "name": "stderr",
          "text": [
            "'verbose' argument is deprecated and will be removed in a future release of LightGBM. Pass 'log_evaluation()' callback via 'callbacks' argument instead.\n"
          ]
        },
        {
          "output_type": "stream",
          "name": "stdout",
          "text": [
            "[LightGBM] [Warning] lambda_l1 is set=4.989749338165982, reg_alpha=0.0 will be ignored. Current value: lambda_l1=4.989749338165982\n",
            "[LightGBM] [Warning] lambda_l2 is set=0.7308196481735233, reg_lambda=0.0 will be ignored. Current value: lambda_l2=0.7308196481735233\n"
          ]
        },
        {
          "output_type": "stream",
          "name": "stderr",
          "text": [
            "'verbose' argument is deprecated and will be removed in a future release of LightGBM. Pass 'log_evaluation()' callback via 'callbacks' argument instead.\n"
          ]
        },
        {
          "output_type": "stream",
          "name": "stdout",
          "text": [
            "[LightGBM] [Warning] lambda_l1 is set=4.989749338165982, reg_alpha=0.0 will be ignored. Current value: lambda_l1=4.989749338165982\n",
            "[LightGBM] [Warning] lambda_l2 is set=0.7308196481735233, reg_lambda=0.0 will be ignored. Current value: lambda_l2=0.7308196481735233\n"
          ]
        },
        {
          "output_type": "stream",
          "name": "stderr",
          "text": [
            "'verbose' argument is deprecated and will be removed in a future release of LightGBM. Pass 'log_evaluation()' callback via 'callbacks' argument instead.\n"
          ]
        },
        {
          "output_type": "stream",
          "name": "stdout",
          "text": [
            "[LightGBM] [Warning] lambda_l1 is set=4.989749338165982, reg_alpha=0.0 will be ignored. Current value: lambda_l1=4.989749338165982\n",
            "[LightGBM] [Warning] lambda_l2 is set=0.7308196481735233, reg_lambda=0.0 will be ignored. Current value: lambda_l2=0.7308196481735233\n"
          ]
        },
        {
          "output_type": "stream",
          "name": "stderr",
          "text": [
            "\u001b[32m[I 2023-04-24 03:49:37,897]\u001b[0m Trial 15 finished with value: 28620.877811829403 and parameters: {'n_estimators': 364, 'num_leaves': 79, 'max_depth': 29, 'learning_rate': 0.06506615286627089, 'colsample_bytree': 0.5666829189565752, 'subsample': 0.7732582118474096, 'lambda_l1': 4.989749338165982, 'lambda_l2': 0.7308196481735233, 'min_child_weight': 16.470622480692697}. Best is trial 11 with value: 28017.287584230042.\u001b[0m\n",
            "suggest_loguniform has been deprecated in v3.0.0. This feature will be removed in v6.0.0. See https://github.com/optuna/optuna/releases/tag/v3.0.0. Use :func:`~optuna.trial.Trial.suggest_float` instead.\n",
            "The least populated class in y has only 1 members, which is less than n_splits=10.\n",
            "'verbose' argument is deprecated and will be removed in a future release of LightGBM. Pass 'log_evaluation()' callback via 'callbacks' argument instead.\n"
          ]
        },
        {
          "output_type": "stream",
          "name": "stdout",
          "text": [
            "[LightGBM] [Warning] lambda_l1 is set=4.095926305193354, reg_alpha=0.0 will be ignored. Current value: lambda_l1=4.095926305193354\n",
            "[LightGBM] [Warning] lambda_l2 is set=0.05388083230371121, reg_lambda=0.0 will be ignored. Current value: lambda_l2=0.05388083230371121\n"
          ]
        },
        {
          "output_type": "stream",
          "name": "stderr",
          "text": [
            "'verbose' argument is deprecated and will be removed in a future release of LightGBM. Pass 'log_evaluation()' callback via 'callbacks' argument instead.\n"
          ]
        },
        {
          "output_type": "stream",
          "name": "stdout",
          "text": [
            "[LightGBM] [Warning] lambda_l1 is set=4.095926305193354, reg_alpha=0.0 will be ignored. Current value: lambda_l1=4.095926305193354\n",
            "[LightGBM] [Warning] lambda_l2 is set=0.05388083230371121, reg_lambda=0.0 will be ignored. Current value: lambda_l2=0.05388083230371121\n"
          ]
        },
        {
          "output_type": "stream",
          "name": "stderr",
          "text": [
            "'verbose' argument is deprecated and will be removed in a future release of LightGBM. Pass 'log_evaluation()' callback via 'callbacks' argument instead.\n"
          ]
        },
        {
          "output_type": "stream",
          "name": "stdout",
          "text": [
            "[LightGBM] [Warning] lambda_l1 is set=4.095926305193354, reg_alpha=0.0 will be ignored. Current value: lambda_l1=4.095926305193354\n",
            "[LightGBM] [Warning] lambda_l2 is set=0.05388083230371121, reg_lambda=0.0 will be ignored. Current value: lambda_l2=0.05388083230371121\n"
          ]
        },
        {
          "output_type": "stream",
          "name": "stderr",
          "text": [
            "'verbose' argument is deprecated and will be removed in a future release of LightGBM. Pass 'log_evaluation()' callback via 'callbacks' argument instead.\n"
          ]
        },
        {
          "output_type": "stream",
          "name": "stdout",
          "text": [
            "[LightGBM] [Warning] lambda_l1 is set=4.095926305193354, reg_alpha=0.0 will be ignored. Current value: lambda_l1=4.095926305193354\n",
            "[LightGBM] [Warning] lambda_l2 is set=0.05388083230371121, reg_lambda=0.0 will be ignored. Current value: lambda_l2=0.05388083230371121\n"
          ]
        },
        {
          "output_type": "stream",
          "name": "stderr",
          "text": [
            "'verbose' argument is deprecated and will be removed in a future release of LightGBM. Pass 'log_evaluation()' callback via 'callbacks' argument instead.\n"
          ]
        },
        {
          "output_type": "stream",
          "name": "stdout",
          "text": [
            "[LightGBM] [Warning] lambda_l1 is set=4.095926305193354, reg_alpha=0.0 will be ignored. Current value: lambda_l1=4.095926305193354\n",
            "[LightGBM] [Warning] lambda_l2 is set=0.05388083230371121, reg_lambda=0.0 will be ignored. Current value: lambda_l2=0.05388083230371121\n"
          ]
        },
        {
          "output_type": "stream",
          "name": "stderr",
          "text": [
            "'verbose' argument is deprecated and will be removed in a future release of LightGBM. Pass 'log_evaluation()' callback via 'callbacks' argument instead.\n"
          ]
        },
        {
          "output_type": "stream",
          "name": "stdout",
          "text": [
            "[LightGBM] [Warning] lambda_l1 is set=4.095926305193354, reg_alpha=0.0 will be ignored. Current value: lambda_l1=4.095926305193354\n",
            "[LightGBM] [Warning] lambda_l2 is set=0.05388083230371121, reg_lambda=0.0 will be ignored. Current value: lambda_l2=0.05388083230371121\n"
          ]
        },
        {
          "output_type": "stream",
          "name": "stderr",
          "text": [
            "'verbose' argument is deprecated and will be removed in a future release of LightGBM. Pass 'log_evaluation()' callback via 'callbacks' argument instead.\n"
          ]
        },
        {
          "output_type": "stream",
          "name": "stdout",
          "text": [
            "[LightGBM] [Warning] lambda_l1 is set=4.095926305193354, reg_alpha=0.0 will be ignored. Current value: lambda_l1=4.095926305193354\n",
            "[LightGBM] [Warning] lambda_l2 is set=0.05388083230371121, reg_lambda=0.0 will be ignored. Current value: lambda_l2=0.05388083230371121\n"
          ]
        },
        {
          "output_type": "stream",
          "name": "stderr",
          "text": [
            "'verbose' argument is deprecated and will be removed in a future release of LightGBM. Pass 'log_evaluation()' callback via 'callbacks' argument instead.\n"
          ]
        },
        {
          "output_type": "stream",
          "name": "stdout",
          "text": [
            "[LightGBM] [Warning] lambda_l1 is set=4.095926305193354, reg_alpha=0.0 will be ignored. Current value: lambda_l1=4.095926305193354\n",
            "[LightGBM] [Warning] lambda_l2 is set=0.05388083230371121, reg_lambda=0.0 will be ignored. Current value: lambda_l2=0.05388083230371121\n"
          ]
        },
        {
          "output_type": "stream",
          "name": "stderr",
          "text": [
            "'verbose' argument is deprecated and will be removed in a future release of LightGBM. Pass 'log_evaluation()' callback via 'callbacks' argument instead.\n"
          ]
        },
        {
          "output_type": "stream",
          "name": "stdout",
          "text": [
            "[LightGBM] [Warning] lambda_l1 is set=4.095926305193354, reg_alpha=0.0 will be ignored. Current value: lambda_l1=4.095926305193354\n",
            "[LightGBM] [Warning] lambda_l2 is set=0.05388083230371121, reg_lambda=0.0 will be ignored. Current value: lambda_l2=0.05388083230371121\n"
          ]
        },
        {
          "output_type": "stream",
          "name": "stderr",
          "text": [
            "'verbose' argument is deprecated and will be removed in a future release of LightGBM. Pass 'log_evaluation()' callback via 'callbacks' argument instead.\n"
          ]
        },
        {
          "output_type": "stream",
          "name": "stdout",
          "text": [
            "[LightGBM] [Warning] lambda_l1 is set=4.095926305193354, reg_alpha=0.0 will be ignored. Current value: lambda_l1=4.095926305193354\n",
            "[LightGBM] [Warning] lambda_l2 is set=0.05388083230371121, reg_lambda=0.0 will be ignored. Current value: lambda_l2=0.05388083230371121\n"
          ]
        },
        {
          "output_type": "stream",
          "name": "stderr",
          "text": [
            "\u001b[32m[I 2023-04-24 03:49:42,183]\u001b[0m Trial 16 finished with value: 28250.02957491832 and parameters: {'n_estimators': 437, 'num_leaves': 27, 'max_depth': 16, 'learning_rate': 0.02815537094091735, 'colsample_bytree': 0.5549212760631826, 'subsample': 0.7478714465312585, 'lambda_l1': 4.095926305193354, 'lambda_l2': 0.05388083230371121, 'min_child_weight': 19.09640804139018}. Best is trial 11 with value: 28017.287584230042.\u001b[0m\n",
            "suggest_loguniform has been deprecated in v3.0.0. This feature will be removed in v6.0.0. See https://github.com/optuna/optuna/releases/tag/v3.0.0. Use :func:`~optuna.trial.Trial.suggest_float` instead.\n",
            "The least populated class in y has only 1 members, which is less than n_splits=10.\n",
            "'verbose' argument is deprecated and will be removed in a future release of LightGBM. Pass 'log_evaluation()' callback via 'callbacks' argument instead.\n"
          ]
        },
        {
          "output_type": "stream",
          "name": "stdout",
          "text": [
            "[LightGBM] [Warning] lambda_l1 is set=4.050014971863287, reg_alpha=0.0 will be ignored. Current value: lambda_l1=4.050014971863287\n",
            "[LightGBM] [Warning] lambda_l2 is set=0.3867466519542383, reg_lambda=0.0 will be ignored. Current value: lambda_l2=0.3867466519542383\n"
          ]
        },
        {
          "output_type": "stream",
          "name": "stderr",
          "text": [
            "'verbose' argument is deprecated and will be removed in a future release of LightGBM. Pass 'log_evaluation()' callback via 'callbacks' argument instead.\n"
          ]
        },
        {
          "output_type": "stream",
          "name": "stdout",
          "text": [
            "[LightGBM] [Warning] lambda_l1 is set=4.050014971863287, reg_alpha=0.0 will be ignored. Current value: lambda_l1=4.050014971863287\n",
            "[LightGBM] [Warning] lambda_l2 is set=0.3867466519542383, reg_lambda=0.0 will be ignored. Current value: lambda_l2=0.3867466519542383\n"
          ]
        },
        {
          "output_type": "stream",
          "name": "stderr",
          "text": [
            "'verbose' argument is deprecated and will be removed in a future release of LightGBM. Pass 'log_evaluation()' callback via 'callbacks' argument instead.\n"
          ]
        },
        {
          "output_type": "stream",
          "name": "stdout",
          "text": [
            "[LightGBM] [Warning] lambda_l1 is set=4.050014971863287, reg_alpha=0.0 will be ignored. Current value: lambda_l1=4.050014971863287\n",
            "[LightGBM] [Warning] lambda_l2 is set=0.3867466519542383, reg_lambda=0.0 will be ignored. Current value: lambda_l2=0.3867466519542383\n"
          ]
        },
        {
          "output_type": "stream",
          "name": "stderr",
          "text": [
            "'verbose' argument is deprecated and will be removed in a future release of LightGBM. Pass 'log_evaluation()' callback via 'callbacks' argument instead.\n"
          ]
        },
        {
          "output_type": "stream",
          "name": "stdout",
          "text": [
            "[LightGBM] [Warning] lambda_l1 is set=4.050014971863287, reg_alpha=0.0 will be ignored. Current value: lambda_l1=4.050014971863287\n",
            "[LightGBM] [Warning] lambda_l2 is set=0.3867466519542383, reg_lambda=0.0 will be ignored. Current value: lambda_l2=0.3867466519542383\n"
          ]
        },
        {
          "output_type": "stream",
          "name": "stderr",
          "text": [
            "'verbose' argument is deprecated and will be removed in a future release of LightGBM. Pass 'log_evaluation()' callback via 'callbacks' argument instead.\n"
          ]
        },
        {
          "output_type": "stream",
          "name": "stdout",
          "text": [
            "[LightGBM] [Warning] lambda_l1 is set=4.050014971863287, reg_alpha=0.0 will be ignored. Current value: lambda_l1=4.050014971863287\n",
            "[LightGBM] [Warning] lambda_l2 is set=0.3867466519542383, reg_lambda=0.0 will be ignored. Current value: lambda_l2=0.3867466519542383\n"
          ]
        },
        {
          "output_type": "stream",
          "name": "stderr",
          "text": [
            "'verbose' argument is deprecated and will be removed in a future release of LightGBM. Pass 'log_evaluation()' callback via 'callbacks' argument instead.\n"
          ]
        },
        {
          "output_type": "stream",
          "name": "stdout",
          "text": [
            "[LightGBM] [Warning] lambda_l1 is set=4.050014971863287, reg_alpha=0.0 will be ignored. Current value: lambda_l1=4.050014971863287\n",
            "[LightGBM] [Warning] lambda_l2 is set=0.3867466519542383, reg_lambda=0.0 will be ignored. Current value: lambda_l2=0.3867466519542383\n"
          ]
        },
        {
          "output_type": "stream",
          "name": "stderr",
          "text": [
            "'verbose' argument is deprecated and will be removed in a future release of LightGBM. Pass 'log_evaluation()' callback via 'callbacks' argument instead.\n"
          ]
        },
        {
          "output_type": "stream",
          "name": "stdout",
          "text": [
            "[LightGBM] [Warning] lambda_l1 is set=4.050014971863287, reg_alpha=0.0 will be ignored. Current value: lambda_l1=4.050014971863287\n",
            "[LightGBM] [Warning] lambda_l2 is set=0.3867466519542383, reg_lambda=0.0 will be ignored. Current value: lambda_l2=0.3867466519542383\n"
          ]
        },
        {
          "output_type": "stream",
          "name": "stderr",
          "text": [
            "'verbose' argument is deprecated and will be removed in a future release of LightGBM. Pass 'log_evaluation()' callback via 'callbacks' argument instead.\n"
          ]
        },
        {
          "output_type": "stream",
          "name": "stdout",
          "text": [
            "[LightGBM] [Warning] lambda_l1 is set=4.050014971863287, reg_alpha=0.0 will be ignored. Current value: lambda_l1=4.050014971863287\n",
            "[LightGBM] [Warning] lambda_l2 is set=0.3867466519542383, reg_lambda=0.0 will be ignored. Current value: lambda_l2=0.3867466519542383\n"
          ]
        },
        {
          "output_type": "stream",
          "name": "stderr",
          "text": [
            "'verbose' argument is deprecated and will be removed in a future release of LightGBM. Pass 'log_evaluation()' callback via 'callbacks' argument instead.\n"
          ]
        },
        {
          "output_type": "stream",
          "name": "stdout",
          "text": [
            "[LightGBM] [Warning] lambda_l1 is set=4.050014971863287, reg_alpha=0.0 will be ignored. Current value: lambda_l1=4.050014971863287\n",
            "[LightGBM] [Warning] lambda_l2 is set=0.3867466519542383, reg_lambda=0.0 will be ignored. Current value: lambda_l2=0.3867466519542383\n"
          ]
        },
        {
          "output_type": "stream",
          "name": "stderr",
          "text": [
            "'verbose' argument is deprecated and will be removed in a future release of LightGBM. Pass 'log_evaluation()' callback via 'callbacks' argument instead.\n"
          ]
        },
        {
          "output_type": "stream",
          "name": "stdout",
          "text": [
            "[LightGBM] [Warning] lambda_l1 is set=4.050014971863287, reg_alpha=0.0 will be ignored. Current value: lambda_l1=4.050014971863287\n",
            "[LightGBM] [Warning] lambda_l2 is set=0.3867466519542383, reg_lambda=0.0 will be ignored. Current value: lambda_l2=0.3867466519542383\n"
          ]
        },
        {
          "output_type": "stream",
          "name": "stderr",
          "text": [
            "\u001b[32m[I 2023-04-24 03:49:54,540]\u001b[0m Trial 17 finished with value: 28077.996573764365 and parameters: {'n_estimators': 703, 'num_leaves': 74, 'max_depth': 25, 'learning_rate': 0.057057186629069265, 'colsample_bytree': 0.504215157959859, 'subsample': 0.7829696268779318, 'lambda_l1': 4.050014971863287, 'lambda_l2': 0.3867466519542383, 'min_child_weight': 11.503023921385317}. Best is trial 11 with value: 28017.287584230042.\u001b[0m\n",
            "suggest_loguniform has been deprecated in v3.0.0. This feature will be removed in v6.0.0. See https://github.com/optuna/optuna/releases/tag/v3.0.0. Use :func:`~optuna.trial.Trial.suggest_float` instead.\n",
            "The least populated class in y has only 1 members, which is less than n_splits=10.\n",
            "'verbose' argument is deprecated and will be removed in a future release of LightGBM. Pass 'log_evaluation()' callback via 'callbacks' argument instead.\n"
          ]
        },
        {
          "output_type": "stream",
          "name": "stdout",
          "text": [
            "[LightGBM] [Warning] lambda_l1 is set=4.5889254409214, reg_alpha=0.0 will be ignored. Current value: lambda_l1=4.5889254409214\n",
            "[LightGBM] [Warning] lambda_l2 is set=2.953229854259559, reg_lambda=0.0 will be ignored. Current value: lambda_l2=2.953229854259559\n"
          ]
        },
        {
          "output_type": "stream",
          "name": "stderr",
          "text": [
            "'verbose' argument is deprecated and will be removed in a future release of LightGBM. Pass 'log_evaluation()' callback via 'callbacks' argument instead.\n"
          ]
        },
        {
          "output_type": "stream",
          "name": "stdout",
          "text": [
            "[LightGBM] [Warning] lambda_l1 is set=4.5889254409214, reg_alpha=0.0 will be ignored. Current value: lambda_l1=4.5889254409214\n",
            "[LightGBM] [Warning] lambda_l2 is set=2.953229854259559, reg_lambda=0.0 will be ignored. Current value: lambda_l2=2.953229854259559\n"
          ]
        },
        {
          "output_type": "stream",
          "name": "stderr",
          "text": [
            "'verbose' argument is deprecated and will be removed in a future release of LightGBM. Pass 'log_evaluation()' callback via 'callbacks' argument instead.\n"
          ]
        },
        {
          "output_type": "stream",
          "name": "stdout",
          "text": [
            "[LightGBM] [Warning] lambda_l1 is set=4.5889254409214, reg_alpha=0.0 will be ignored. Current value: lambda_l1=4.5889254409214\n",
            "[LightGBM] [Warning] lambda_l2 is set=2.953229854259559, reg_lambda=0.0 will be ignored. Current value: lambda_l2=2.953229854259559\n"
          ]
        },
        {
          "output_type": "stream",
          "name": "stderr",
          "text": [
            "'verbose' argument is deprecated and will be removed in a future release of LightGBM. Pass 'log_evaluation()' callback via 'callbacks' argument instead.\n"
          ]
        },
        {
          "output_type": "stream",
          "name": "stdout",
          "text": [
            "[LightGBM] [Warning] lambda_l1 is set=4.5889254409214, reg_alpha=0.0 will be ignored. Current value: lambda_l1=4.5889254409214\n",
            "[LightGBM] [Warning] lambda_l2 is set=2.953229854259559, reg_lambda=0.0 will be ignored. Current value: lambda_l2=2.953229854259559\n"
          ]
        },
        {
          "output_type": "stream",
          "name": "stderr",
          "text": [
            "'verbose' argument is deprecated and will be removed in a future release of LightGBM. Pass 'log_evaluation()' callback via 'callbacks' argument instead.\n"
          ]
        },
        {
          "output_type": "stream",
          "name": "stdout",
          "text": [
            "[LightGBM] [Warning] lambda_l1 is set=4.5889254409214, reg_alpha=0.0 will be ignored. Current value: lambda_l1=4.5889254409214\n",
            "[LightGBM] [Warning] lambda_l2 is set=2.953229854259559, reg_lambda=0.0 will be ignored. Current value: lambda_l2=2.953229854259559\n"
          ]
        },
        {
          "output_type": "stream",
          "name": "stderr",
          "text": [
            "'verbose' argument is deprecated and will be removed in a future release of LightGBM. Pass 'log_evaluation()' callback via 'callbacks' argument instead.\n"
          ]
        },
        {
          "output_type": "stream",
          "name": "stdout",
          "text": [
            "[LightGBM] [Warning] lambda_l1 is set=4.5889254409214, reg_alpha=0.0 will be ignored. Current value: lambda_l1=4.5889254409214\n",
            "[LightGBM] [Warning] lambda_l2 is set=2.953229854259559, reg_lambda=0.0 will be ignored. Current value: lambda_l2=2.953229854259559\n"
          ]
        },
        {
          "output_type": "stream",
          "name": "stderr",
          "text": [
            "'verbose' argument is deprecated and will be removed in a future release of LightGBM. Pass 'log_evaluation()' callback via 'callbacks' argument instead.\n"
          ]
        },
        {
          "output_type": "stream",
          "name": "stdout",
          "text": [
            "[LightGBM] [Warning] lambda_l1 is set=4.5889254409214, reg_alpha=0.0 will be ignored. Current value: lambda_l1=4.5889254409214\n",
            "[LightGBM] [Warning] lambda_l2 is set=2.953229854259559, reg_lambda=0.0 will be ignored. Current value: lambda_l2=2.953229854259559\n"
          ]
        },
        {
          "output_type": "stream",
          "name": "stderr",
          "text": [
            "'verbose' argument is deprecated and will be removed in a future release of LightGBM. Pass 'log_evaluation()' callback via 'callbacks' argument instead.\n"
          ]
        },
        {
          "output_type": "stream",
          "name": "stdout",
          "text": [
            "[LightGBM] [Warning] lambda_l1 is set=4.5889254409214, reg_alpha=0.0 will be ignored. Current value: lambda_l1=4.5889254409214\n",
            "[LightGBM] [Warning] lambda_l2 is set=2.953229854259559, reg_lambda=0.0 will be ignored. Current value: lambda_l2=2.953229854259559\n"
          ]
        },
        {
          "output_type": "stream",
          "name": "stderr",
          "text": [
            "'verbose' argument is deprecated and will be removed in a future release of LightGBM. Pass 'log_evaluation()' callback via 'callbacks' argument instead.\n"
          ]
        },
        {
          "output_type": "stream",
          "name": "stdout",
          "text": [
            "[LightGBM] [Warning] lambda_l1 is set=4.5889254409214, reg_alpha=0.0 will be ignored. Current value: lambda_l1=4.5889254409214\n",
            "[LightGBM] [Warning] lambda_l2 is set=2.953229854259559, reg_lambda=0.0 will be ignored. Current value: lambda_l2=2.953229854259559\n"
          ]
        },
        {
          "output_type": "stream",
          "name": "stderr",
          "text": [
            "'verbose' argument is deprecated and will be removed in a future release of LightGBM. Pass 'log_evaluation()' callback via 'callbacks' argument instead.\n"
          ]
        },
        {
          "output_type": "stream",
          "name": "stdout",
          "text": [
            "[LightGBM] [Warning] lambda_l1 is set=4.5889254409214, reg_alpha=0.0 will be ignored. Current value: lambda_l1=4.5889254409214\n",
            "[LightGBM] [Warning] lambda_l2 is set=2.953229854259559, reg_lambda=0.0 will be ignored. Current value: lambda_l2=2.953229854259559\n"
          ]
        },
        {
          "output_type": "stream",
          "name": "stderr",
          "text": [
            "\u001b[32m[I 2023-04-24 03:50:00,569]\u001b[0m Trial 18 finished with value: 28665.303542198097 and parameters: {'n_estimators': 425, 'num_leaves': 50, 'max_depth': 17, 'learning_rate': 0.07862556086542145, 'colsample_bytree': 0.5878757847812739, 'subsample': 0.76474278004164, 'lambda_l1': 4.5889254409214, 'lambda_l2': 2.953229854259559, 'min_child_weight': 21.135065474505023}. Best is trial 11 with value: 28017.287584230042.\u001b[0m\n",
            "suggest_loguniform has been deprecated in v3.0.0. This feature will be removed in v6.0.0. See https://github.com/optuna/optuna/releases/tag/v3.0.0. Use :func:`~optuna.trial.Trial.suggest_float` instead.\n",
            "The least populated class in y has only 1 members, which is less than n_splits=10.\n",
            "'verbose' argument is deprecated and will be removed in a future release of LightGBM. Pass 'log_evaluation()' callback via 'callbacks' argument instead.\n"
          ]
        },
        {
          "output_type": "stream",
          "name": "stdout",
          "text": [
            "[LightGBM] [Warning] lambda_l1 is set=3.8763103029165795, reg_alpha=0.0 will be ignored. Current value: lambda_l1=3.8763103029165795\n",
            "[LightGBM] [Warning] lambda_l2 is set=0.010599727373254764, reg_lambda=0.0 will be ignored. Current value: lambda_l2=0.010599727373254764\n"
          ]
        },
        {
          "output_type": "stream",
          "name": "stderr",
          "text": [
            "'verbose' argument is deprecated and will be removed in a future release of LightGBM. Pass 'log_evaluation()' callback via 'callbacks' argument instead.\n"
          ]
        },
        {
          "output_type": "stream",
          "name": "stdout",
          "text": [
            "[LightGBM] [Warning] lambda_l1 is set=3.8763103029165795, reg_alpha=0.0 will be ignored. Current value: lambda_l1=3.8763103029165795\n",
            "[LightGBM] [Warning] lambda_l2 is set=0.010599727373254764, reg_lambda=0.0 will be ignored. Current value: lambda_l2=0.010599727373254764\n"
          ]
        },
        {
          "output_type": "stream",
          "name": "stderr",
          "text": [
            "'verbose' argument is deprecated and will be removed in a future release of LightGBM. Pass 'log_evaluation()' callback via 'callbacks' argument instead.\n"
          ]
        },
        {
          "output_type": "stream",
          "name": "stdout",
          "text": [
            "[LightGBM] [Warning] lambda_l1 is set=3.8763103029165795, reg_alpha=0.0 will be ignored. Current value: lambda_l1=3.8763103029165795\n",
            "[LightGBM] [Warning] lambda_l2 is set=0.010599727373254764, reg_lambda=0.0 will be ignored. Current value: lambda_l2=0.010599727373254764\n"
          ]
        },
        {
          "output_type": "stream",
          "name": "stderr",
          "text": [
            "'verbose' argument is deprecated and will be removed in a future release of LightGBM. Pass 'log_evaluation()' callback via 'callbacks' argument instead.\n"
          ]
        },
        {
          "output_type": "stream",
          "name": "stdout",
          "text": [
            "[LightGBM] [Warning] lambda_l1 is set=3.8763103029165795, reg_alpha=0.0 will be ignored. Current value: lambda_l1=3.8763103029165795\n",
            "[LightGBM] [Warning] lambda_l2 is set=0.010599727373254764, reg_lambda=0.0 will be ignored. Current value: lambda_l2=0.010599727373254764\n"
          ]
        },
        {
          "output_type": "stream",
          "name": "stderr",
          "text": [
            "'verbose' argument is deprecated and will be removed in a future release of LightGBM. Pass 'log_evaluation()' callback via 'callbacks' argument instead.\n"
          ]
        },
        {
          "output_type": "stream",
          "name": "stdout",
          "text": [
            "[LightGBM] [Warning] lambda_l1 is set=3.8763103029165795, reg_alpha=0.0 will be ignored. Current value: lambda_l1=3.8763103029165795\n",
            "[LightGBM] [Warning] lambda_l2 is set=0.010599727373254764, reg_lambda=0.0 will be ignored. Current value: lambda_l2=0.010599727373254764\n"
          ]
        },
        {
          "output_type": "stream",
          "name": "stderr",
          "text": [
            "'verbose' argument is deprecated and will be removed in a future release of LightGBM. Pass 'log_evaluation()' callback via 'callbacks' argument instead.\n"
          ]
        },
        {
          "output_type": "stream",
          "name": "stdout",
          "text": [
            "[LightGBM] [Warning] lambda_l1 is set=3.8763103029165795, reg_alpha=0.0 will be ignored. Current value: lambda_l1=3.8763103029165795\n",
            "[LightGBM] [Warning] lambda_l2 is set=0.010599727373254764, reg_lambda=0.0 will be ignored. Current value: lambda_l2=0.010599727373254764\n"
          ]
        },
        {
          "output_type": "stream",
          "name": "stderr",
          "text": [
            "'verbose' argument is deprecated and will be removed in a future release of LightGBM. Pass 'log_evaluation()' callback via 'callbacks' argument instead.\n"
          ]
        },
        {
          "output_type": "stream",
          "name": "stdout",
          "text": [
            "[LightGBM] [Warning] lambda_l1 is set=3.8763103029165795, reg_alpha=0.0 will be ignored. Current value: lambda_l1=3.8763103029165795\n",
            "[LightGBM] [Warning] lambda_l2 is set=0.010599727373254764, reg_lambda=0.0 will be ignored. Current value: lambda_l2=0.010599727373254764\n"
          ]
        },
        {
          "output_type": "stream",
          "name": "stderr",
          "text": [
            "'verbose' argument is deprecated and will be removed in a future release of LightGBM. Pass 'log_evaluation()' callback via 'callbacks' argument instead.\n"
          ]
        },
        {
          "output_type": "stream",
          "name": "stdout",
          "text": [
            "[LightGBM] [Warning] lambda_l1 is set=3.8763103029165795, reg_alpha=0.0 will be ignored. Current value: lambda_l1=3.8763103029165795\n",
            "[LightGBM] [Warning] lambda_l2 is set=0.010599727373254764, reg_lambda=0.0 will be ignored. Current value: lambda_l2=0.010599727373254764\n"
          ]
        },
        {
          "output_type": "stream",
          "name": "stderr",
          "text": [
            "'verbose' argument is deprecated and will be removed in a future release of LightGBM. Pass 'log_evaluation()' callback via 'callbacks' argument instead.\n"
          ]
        },
        {
          "output_type": "stream",
          "name": "stdout",
          "text": [
            "[LightGBM] [Warning] lambda_l1 is set=3.8763103029165795, reg_alpha=0.0 will be ignored. Current value: lambda_l1=3.8763103029165795\n",
            "[LightGBM] [Warning] lambda_l2 is set=0.010599727373254764, reg_lambda=0.0 will be ignored. Current value: lambda_l2=0.010599727373254764\n"
          ]
        },
        {
          "output_type": "stream",
          "name": "stderr",
          "text": [
            "'verbose' argument is deprecated and will be removed in a future release of LightGBM. Pass 'log_evaluation()' callback via 'callbacks' argument instead.\n"
          ]
        },
        {
          "output_type": "stream",
          "name": "stdout",
          "text": [
            "[LightGBM] [Warning] lambda_l1 is set=3.8763103029165795, reg_alpha=0.0 will be ignored. Current value: lambda_l1=3.8763103029165795\n",
            "[LightGBM] [Warning] lambda_l2 is set=0.010599727373254764, reg_lambda=0.0 will be ignored. Current value: lambda_l2=0.010599727373254764\n"
          ]
        },
        {
          "output_type": "stream",
          "name": "stderr",
          "text": [
            "\u001b[32m[I 2023-04-24 03:50:12,321]\u001b[0m Trial 19 finished with value: 28290.960010004008 and parameters: {'n_estimators': 989, 'num_leaves': 28, 'max_depth': 29, 'learning_rate': 0.03042233329266553, 'colsample_bytree': 0.5381235221629627, 'subsample': 0.7841111251625502, 'lambda_l1': 3.8763103029165795, 'lambda_l2': 0.010599727373254764, 'min_child_weight': 10.323878397396488}. Best is trial 11 with value: 28017.287584230042.\u001b[0m\n"
          ]
        },
        {
          "output_type": "stream",
          "name": "stdout",
          "text": [
            "[LightGBM] [Warning] lambda_l1 is set=4.963452788988035, reg_alpha=0.0 will be ignored. Current value: lambda_l1=4.963452788988035\n",
            "[LightGBM] [Warning] lambda_l2 is set=0.006699347792185062, reg_lambda=0.0 will be ignored. Current value: lambda_l2=0.006699347792185062\n"
          ]
        },
        {
          "output_type": "execute_result",
          "data": {
            "text/plain": [
              "LGBMRegressor(colsample_bytree=0.503133429155677, lambda_l1=4.963452788988035,\n",
              "              lambda_l2=0.006699347792185062, learning_rate=0.03831625680598642,\n",
              "              max_depth=25, min_child_weight=3.3870950442913017,\n",
              "              n_estimators=657, num_leaves=20, subsample=0.7767407900638205)"
            ],
            "text/html": [
              "<style>#sk-container-id-1 {color: black;background-color: white;}#sk-container-id-1 pre{padding: 0;}#sk-container-id-1 div.sk-toggleable {background-color: white;}#sk-container-id-1 label.sk-toggleable__label {cursor: pointer;display: block;width: 100%;margin-bottom: 0;padding: 0.3em;box-sizing: border-box;text-align: center;}#sk-container-id-1 label.sk-toggleable__label-arrow:before {content: \"▸\";float: left;margin-right: 0.25em;color: #696969;}#sk-container-id-1 label.sk-toggleable__label-arrow:hover:before {color: black;}#sk-container-id-1 div.sk-estimator:hover label.sk-toggleable__label-arrow:before {color: black;}#sk-container-id-1 div.sk-toggleable__content {max-height: 0;max-width: 0;overflow: hidden;text-align: left;background-color: #f0f8ff;}#sk-container-id-1 div.sk-toggleable__content pre {margin: 0.2em;color: black;border-radius: 0.25em;background-color: #f0f8ff;}#sk-container-id-1 input.sk-toggleable__control:checked~div.sk-toggleable__content {max-height: 200px;max-width: 100%;overflow: auto;}#sk-container-id-1 input.sk-toggleable__control:checked~label.sk-toggleable__label-arrow:before {content: \"▾\";}#sk-container-id-1 div.sk-estimator input.sk-toggleable__control:checked~label.sk-toggleable__label {background-color: #d4ebff;}#sk-container-id-1 div.sk-label input.sk-toggleable__control:checked~label.sk-toggleable__label {background-color: #d4ebff;}#sk-container-id-1 input.sk-hidden--visually {border: 0;clip: rect(1px 1px 1px 1px);clip: rect(1px, 1px, 1px, 1px);height: 1px;margin: -1px;overflow: hidden;padding: 0;position: absolute;width: 1px;}#sk-container-id-1 div.sk-estimator {font-family: monospace;background-color: #f0f8ff;border: 1px dotted black;border-radius: 0.25em;box-sizing: border-box;margin-bottom: 0.5em;}#sk-container-id-1 div.sk-estimator:hover {background-color: #d4ebff;}#sk-container-id-1 div.sk-parallel-item::after {content: \"\";width: 100%;border-bottom: 1px solid gray;flex-grow: 1;}#sk-container-id-1 div.sk-label:hover label.sk-toggleable__label {background-color: #d4ebff;}#sk-container-id-1 div.sk-serial::before {content: \"\";position: absolute;border-left: 1px solid gray;box-sizing: border-box;top: 0;bottom: 0;left: 50%;z-index: 0;}#sk-container-id-1 div.sk-serial {display: flex;flex-direction: column;align-items: center;background-color: white;padding-right: 0.2em;padding-left: 0.2em;position: relative;}#sk-container-id-1 div.sk-item {position: relative;z-index: 1;}#sk-container-id-1 div.sk-parallel {display: flex;align-items: stretch;justify-content: center;background-color: white;position: relative;}#sk-container-id-1 div.sk-item::before, #sk-container-id-1 div.sk-parallel-item::before {content: \"\";position: absolute;border-left: 1px solid gray;box-sizing: border-box;top: 0;bottom: 0;left: 50%;z-index: -1;}#sk-container-id-1 div.sk-parallel-item {display: flex;flex-direction: column;z-index: 1;position: relative;background-color: white;}#sk-container-id-1 div.sk-parallel-item:first-child::after {align-self: flex-end;width: 50%;}#sk-container-id-1 div.sk-parallel-item:last-child::after {align-self: flex-start;width: 50%;}#sk-container-id-1 div.sk-parallel-item:only-child::after {width: 0;}#sk-container-id-1 div.sk-dashed-wrapped {border: 1px dashed gray;margin: 0 0.4em 0.5em 0.4em;box-sizing: border-box;padding-bottom: 0.4em;background-color: white;}#sk-container-id-1 div.sk-label label {font-family: monospace;font-weight: bold;display: inline-block;line-height: 1.2em;}#sk-container-id-1 div.sk-label-container {text-align: center;}#sk-container-id-1 div.sk-container {/* jupyter's `normalize.less` sets `[hidden] { display: none; }` but bootstrap.min.css set `[hidden] { display: none !important; }` so we also need the `!important` here to be able to override the default hidden behavior on the sphinx rendered scikit-learn.org. See: https://github.com/scikit-learn/scikit-learn/issues/21755 */display: inline-block !important;position: relative;}#sk-container-id-1 div.sk-text-repr-fallback {display: none;}</style><div id=\"sk-container-id-1\" class=\"sk-top-container\"><div class=\"sk-text-repr-fallback\"><pre>LGBMRegressor(colsample_bytree=0.503133429155677, lambda_l1=4.963452788988035,\n",
              "              lambda_l2=0.006699347792185062, learning_rate=0.03831625680598642,\n",
              "              max_depth=25, min_child_weight=3.3870950442913017,\n",
              "              n_estimators=657, num_leaves=20, subsample=0.7767407900638205)</pre><b>In a Jupyter environment, please rerun this cell to show the HTML representation or trust the notebook. <br />On GitHub, the HTML representation is unable to render, please try loading this page with nbviewer.org.</b></div><div class=\"sk-container\" hidden><div class=\"sk-item\"><div class=\"sk-estimator sk-toggleable\"><input class=\"sk-toggleable__control sk-hidden--visually\" id=\"sk-estimator-id-1\" type=\"checkbox\" checked><label for=\"sk-estimator-id-1\" class=\"sk-toggleable__label sk-toggleable__label-arrow\">LGBMRegressor</label><div class=\"sk-toggleable__content\"><pre>LGBMRegressor(colsample_bytree=0.503133429155677, lambda_l1=4.963452788988035,\n",
              "              lambda_l2=0.006699347792185062, learning_rate=0.03831625680598642,\n",
              "              max_depth=25, min_child_weight=3.3870950442913017,\n",
              "              n_estimators=657, num_leaves=20, subsample=0.7767407900638205)</pre></div></div></div></div></div>"
            ]
          },
          "metadata": {},
          "execution_count": 7
        }
      ],
      "source": [
        "# Create Optuna study\n",
        "study = optuna.create_study(direction='minimize')\n",
        "\n",
        "# Optimize hyperparameters\n",
        "study.optimize(objective, n_trials=20)\n",
        "\n",
        "# Get the best hyperparameters\n",
        "best_params = study.best_params\n",
        "\n",
        "# Train the final model with the best hyperparameters\n",
        "best_model = lgb.LGBMRegressor(**best_params)\n",
        "best_model.fit(X, y)"
      ]
    },
    {
      "cell_type": "code",
      "execution_count": 8,
      "metadata": {
        "colab": {
          "base_uri": "https://localhost:8080/"
        },
        "id": "Ft7Gkq0TPXtf",
        "outputId": "cad02cd9-6c28-4a33-8cc2-a46783a7ecc8"
      },
      "outputs": [
        {
          "output_type": "stream",
          "name": "stdout",
          "text": [
            "28017.287584230042\n"
          ]
        }
      ],
      "source": [
        "print(study.best_value)"
      ]
    },
    {
      "cell_type": "markdown",
      "source": [
        "\n",
        "<h1>Explain the model's predictions on the entire dataset<h1>\n",
        "<h2>What is SHAP?</h2>\n",
        "<h4>SHAP (SHapley Additive exPlanations) is a method used in machine learning to explain the predictions made by a model. It provides a way to attribute a prediction to different input variables or features, by deconstructing the prediction into contributions from each input variable. SHAP values are based on cooperative game theory and provide a fair way to allocate the prediction's value to the individual input variables, considering their interactions and dependencies. SHAP values can help interpret the decision-making process of machine learning models and understand the relative importance of different features in making predictions.</h4>\n",
        "\n",
        "<h2>SHAP Summary Plot</h2>\n",
        "<h4>It tells which features are most important, and also their range of effects over the dataset. The color allows us match how changes in the value of a feature effect the change in house price prediction.</h4>"
      ],
      "metadata": {
        "id": "Tqw7F6dVVOp2"
      }
    },
    {
      "cell_type": "code",
      "execution_count": null,
      "metadata": {
        "colab": {
          "base_uri": "https://localhost:8080/",
          "height": 975
        },
        "id": "o7jBUgFE4AZw",
        "outputId": "bbb55e2c-83be-4ba9-e882-5b3a43f13ba7"
      },
      "outputs": [
        {
          "output_type": "stream",
          "name": "stderr",
          "text": [
            "No data for colormapping provided via 'c'. Parameters 'vmin', 'vmax' will be ignored\n"
          ]
        },
        {
          "output_type": "display_data",
          "data": {
            "text/plain": [
              "<Figure size 800x950 with 2 Axes>"
            ],
            "image/png": "[encoded data removed]"
          },
          "metadata": {}
        }
      ],
      "source": [
        "shap_values = shap.TreeExplainer(best_model).shap_values(X)\n",
        "shap.summary_plot(shap_values, X)"
      ]
    },
    {
      "cell_type": "markdown",
      "source": [
        "<h2>SHAP Interaction Value Summary Plot</h2>\n",
        "<h4>A SHAP Interaction Value Summary Plot is a graphical representation that shows a matrix of summary plots, where the main effects of features are displayed on the diagonal, and the interaction effects between pairs of features are shown off the diagonal.</h4>\n"
      ],
      "metadata": {
        "id": "LjtjoLB2VaAw"
      }
    },
    {
      "cell_type": "code",
      "source": [
        "shap_interaction_values = shap.TreeExplainer(best_model).shap_interaction_values(X.iloc[:,:])\n",
        "shap.summary_plot(shap_interaction_values, X.iloc[:,:])"
      ],
      "metadata": {
        "colab": {
          "base_uri": "https://localhost:8080/",
          "height": 667
        },
        "id": "2Q9E5o6oMEwi",
        "outputId": "f8e25f2b-c3f6-46e3-b860-0ebe250a7558"
      },
      "execution_count": null,
      "outputs": [
        {
          "output_type": "stream",
          "name": "stderr",
          "text": [
            "No data for colormapping provided via 'c'. Parameters 'vmin', 'vmax' will be ignored\n"
          ]
        },
        {
          "output_type": "display_data",
          "data": {
            "text/plain": [
              "<Figure size 1150x660 with 7 Axes>"
            ],
            "image/png": "[encoded data removed]"
          },
          "metadata": {}
        }
      ]
    },
    {
      "cell_type": "markdown",
      "source": [
        "Predict on test data"
      ],
      "metadata": {
        "id": "awDPilPBVir3"
      }
    },
    {
      "cell_type": "code",
      "source": [
        "predictLGBM = best_model.predict(df_test)\n",
        "submissionLGBM = pd.DataFrame({'SalePrice':predictLGBM})\n",
        "display(submissionLGBM.head())\n",
        "# print(submissionLGBM.iloc[0].values)"
      ],
      "metadata": {
        "colab": {
          "base_uri": "https://localhost:8080/",
          "height": 206
        },
        "id": "hfmrYR9_NNh3",
        "outputId": "f29468e3-6625-4af1-d924-858fdea45b31"
      },
      "execution_count": null,
      "outputs": [
        {
          "output_type": "display_data",
          "data": {
            "text/plain": [
              "       SalePrice\n",
              "0  127368.782722\n",
              "1  156700.928621\n",
              "2  180422.435175\n",
              "3  183877.895502\n",
              "4  186021.015175"
            ],
            "text/html": [
              "\n",
              "  <div id=\"df-654b1138-3d05-4a35-8590-556a51c11fbd\">\n",
              "    <div class=\"colab-df-container\">\n",
              "      <div>\n",
              "<style scoped>\n",
              "    .dataframe tbody tr th:only-of-type {\n",
              "        vertical-align: middle;\n",
              "    }\n",
              "\n",
              "    .dataframe tbody tr th {\n",
              "        vertical-align: top;\n",
              "    }\n",
              "\n",
              "    .dataframe thead th {\n",
              "        text-align: right;\n",
              "    }\n",
              "</style>\n",
              "<table border=\"1\" class=\"dataframe\">\n",
              "  <thead>\n",
              "    <tr style=\"text-align: right;\">\n",
              "      <th></th>\n",
              "      <th>SalePrice</th>\n",
              "    </tr>\n",
              "  </thead>\n",
              "  <tbody>\n",
              "    <tr>\n",
              "      <th>0</th>\n",
              "      <td>127368.782722</td>\n",
              "    </tr>\n",
              "    <tr>\n",
              "      <th>1</th>\n",
              "      <td>156700.928621</td>\n",
              "    </tr>\n",
              "    <tr>\n",
              "      <th>2</th>\n",
              "      <td>180422.435175</td>\n",
              "    </tr>\n",
              "    <tr>\n",
              "      <th>3</th>\n",
              "      <td>183877.895502</td>\n",
              "    </tr>\n",
              "    <tr>\n",
              "      <th>4</th>\n",
              "      <td>186021.015175</td>\n",
              "    </tr>\n",
              "  </tbody>\n",
              "</table>\n",
              "</div>\n",
              "      <button class=\"colab-df-convert\" onclick=\"convertToInteractive('df-654b1138-3d05-4a35-8590-556a51c11fbd')\"\n",
              "              title=\"Convert this dataframe to an interactive table.\"\n",
              "              style=\"display:none;\">\n",
              "        \n",
              "  <svg xmlns=\"http://www.w3.org/2000/svg\" height=\"24px\"viewBox=\"0 0 24 24\"\n",
              "       width=\"24px\">\n",
              "    <path d=\"M0 0h24v24H0V0z\" fill=\"none\"/>\n",
              "    <path d=\"M18.56 5.44l.94 2.06.94-2.06 2.06-.94-2.06-.94-.94-2.06-.94 2.06-2.06.94zm-11 1L8.5 8.5l.94-2.06 2.06-.94-2.06-.94L8.5 2.5l-.94 2.06-2.06.94zm10 10l.94 2.06.94-2.06 2.06-.94-2.06-.94-.94-2.06-.94 2.06-2.06.94z\"/><path d=\"M17.41 7.96l-1.37-1.37c-.4-.4-.92-.59-1.43-.59-.52 0-1.04.2-1.43.59L10.3 9.45l-7.72 7.72c-.78.78-.78 2.05 0 2.83L4 21.41c.39.39.9.59 1.41.59.51 0 1.02-.2 1.41-.59l7.78-7.78 2.81-2.81c.8-.78.8-2.07 0-2.86zM5.41 20L4 18.59l7.72-7.72 1.47 1.35L5.41 20z\"/>\n",
              "  </svg>\n",
              "      </button>\n",
              "      \n",
              "  <style>\n",
              "    .colab-df-container {\n",
              "      display:flex;\n",
              "      flex-wrap:wrap;\n",
              "      gap: 12px;\n",
              "    }\n",
              "\n",
              "    .colab-df-convert {\n",
              "      background-color: #E8F0FE;\n",
              "      border: none;\n",
              "      border-radius: 50%;\n",
              "      cursor: pointer;\n",
              "      display: none;\n",
              "      fill: #1967D2;\n",
              "      height: 32px;\n",
              "      padding: 0 0 0 0;\n",
              "      width: 32px;\n",
              "    }\n",
              "\n",
              "    .colab-df-convert:hover {\n",
              "      background-color: #E2EBFA;\n",
              "      box-shadow: 0px 1px 2px rgba(60, 64, 67, 0.3), 0px 1px 3px 1px rgba(60, 64, 67, 0.15);\n",
              "      fill: #174EA6;\n",
              "    }\n",
              "\n",
              "    [theme=dark] .colab-df-convert {\n",
              "      background-color: #3B4455;\n",
              "      fill: #D2E3FC;\n",
              "    }\n",
              "\n",
              "    [theme=dark] .colab-df-convert:hover {\n",
              "      background-color: #434B5C;\n",
              "      box-shadow: 0px 1px 3px 1px rgba(0, 0, 0, 0.15);\n",
              "      filter: drop-shadow(0px 1px 2px rgba(0, 0, 0, 0.3));\n",
              "      fill: #FFFFFF;\n",
              "    }\n",
              "  </style>\n",
              "\n",
              "      <script>\n",
              "        const buttonEl =\n",
              "          document.querySelector('#df-654b1138-3d05-4a35-8590-556a51c11fbd button.colab-df-convert');\n",
              "        buttonEl.style.display =\n",
              "          google.colab.kernel.accessAllowed ? 'block' : 'none';\n",
              "\n",
              "        async function convertToInteractive(key) {\n",
              "          const element = document.querySelector('#df-654b1138-3d05-4a35-8590-556a51c11fbd');\n",
              "          const dataTable =\n",
              "            await google.colab.kernel.invokeFunction('convertToInteractive',\n",
              "                                                     [key], {});\n",
              "          if (!dataTable) return;\n",
              "\n",
              "          const docLinkHtml = 'Like what you see? Visit the ' +\n",
              "            '<a target=\"_blank\" href=https://colab.research.google.com/notebooks/data_table.ipynb>data table notebook</a>'\n",
              "            + ' to learn more about interactive tables.';\n",
              "          element.innerHTML = '';\n",
              "          dataTable['output_type'] = 'display_data';\n",
              "          await google.colab.output.renderOutput(dataTable, element);\n",
              "          const docLink = document.createElement('div');\n",
              "          docLink.innerHTML = docLinkHtml;\n",
              "          element.appendChild(docLink);\n",
              "        }\n",
              "      </script>\n",
              "    </div>\n",
              "  </div>\n",
              "  "
            ]
          },
          "metadata": {}
        }
      ]
    }
  ],
  "metadata": {
    "colab": {
      "provenance": []
    },
    "kernelspec": {
      "display_name": "Python 3",
      "name": "python3"
    },
    "language_info": {
      "name": "python"
    }
  },
  "nbformat": 4,
  "nbformat_minor": 0
}