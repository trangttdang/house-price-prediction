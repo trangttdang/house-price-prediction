{
  "cells": [
    {
      "cell_type": "code",
      "execution_count": 104,
      "metadata": {
        "colab": {
          "base_uri": "https://localhost:8080/"
        },
        "id": "OPwEv0eJJ687",
        "outputId": "9b9af3c5-9620-4b0b-ec32-fc1d3d008205"
      },
      "outputs": [
        {
          "output_type": "stream",
          "name": "stdout",
          "text": [
            "Drive already mounted at /content/drive; to attempt to forcibly remount, call drive.mount(\"/content/drive\", force_remount=True).\n"
          ]
        }
      ],
      "source": [
        "import pandas as pd\n",
        "from google.colab import drive\n",
        "drive.mount('/content/drive')\n",
        "# load data from a csv file\n",
        "df = pd.read_csv('/content/sample_data/train.csv')\n",
        "df = df.drop('Id', axis=1)\n",
        "df_test = pd.read_csv('/content/sample_data/test.csv')"
      ]
    },
    {
      "cell_type": "code",
      "execution_count": 99,
      "metadata": {
        "id": "diqOZBHgKMr0"
      },
      "outputs": [],
      "source": [
        "# !pip install lightgbm\n",
        "# !pip install optuna\n",
        "# !pip install shap\n",
        "import shap\n",
        "import optuna\n",
        "import lightgbm as lgb\n",
        "import numpy as np\n",
        "from sklearn.model_selection import train_test_split\n",
        "from sklearn.metrics import mean_squared_error\n",
        "from sklearn.model_selection import StratifiedKFold\n",
        "# Plotting \n",
        "import matplotlib.pyplot as plt\n",
        "import plotly.express as px\n",
        "import seaborn as sns"
      ]
    },
    {
      "cell_type": "code",
      "execution_count": 105,
      "metadata": {
        "id": "0t8PXhn56WX0"
      },
      "outputs": [],
      "source": [
        "selected_columns = ['OverallQual', 'GrLivArea', 'TotalBsmtSF', 'YearBuilt', 'BsmtFinSF1',\n",
        "       'GarageCars', 'OverallCond', 'LotArea', 'YearRemodAdd', '1stFlrSF',\n",
        "       'Fireplaces', 'GarageArea','OpenPorchSF', '2ndFlrSF',\n",
        "       'TotRmsAbvGrd', 'FullBath', 'HalfBath', 'MSSubClass', 'BedroomAbvGr', 'KitchenAbvGr', 'SalePrice']\n",
        "df = df[selected_columns]\n",
        "df_test = df_test[selected_columns[:-1]]"
      ]
    },
    {
      "cell_type": "code",
      "source": [
        "X, y = df.drop(\"SalePrice\", axis=1), df[\"SalePrice\"]"
      ],
      "metadata": {
        "id": "KEinrk1WUlVz"
      },
      "execution_count": 117,
      "outputs": []
    },
    {
      "cell_type": "code",
      "execution_count": 91,
      "metadata": {
        "id": "Bb02-G3CKSoX"
      },
      "outputs": [],
      "source": [
        "# Define objective function for Optuna\n",
        "def objective(trial):\n",
        "    params = {\n",
        "        'objective': 'regression',\n",
        "        'metric': 'rmse',\n",
        "        'boosting_type': 'gbdt',\n",
        "        \"n_estimators\": trial.suggest_int('n_estimators', 50, 1000),\n",
        "        'num_leaves': trial.suggest_int('num_leaves', 20, 100),\n",
        "        'max_depth': trial.suggest_int(\"max_depth\", 5, 50),\n",
        "        'learning_rate': trial.suggest_loguniform('learning_rate', 0.01, 0.3),\n",
        "        'colsample_bytree': trial.suggest_float('colsample_bytree', 0.5, 0.9),\n",
        "        'subsample': trial.suggest_float('subsample', 0.7, 0.8),\n",
        "        \"lambda_l1\": trial.suggest_float(\"lambda_l1\", 0, 5),\n",
        "        \"lambda_l2\": trial.suggest_float(\"lambda_l2\", 0, 3),\n",
        "        'min_child_weight': trial.suggest_float('min_child_weight', 2, 50),\n",
        "    }\n",
        "\n",
        "    cv = StratifiedKFold(n_splits=10, shuffle=True, random_state=42)\n",
        "    rmse_scores = []\n",
        "    for train_idx, val_idx in cv.split(X, y):\n",
        "        X_train, X_test = X.iloc[train_idx], X.iloc[val_idx]\n",
        "        y_train, y_test = y[train_idx], y[val_idx]\n",
        "\n",
        "        model = lgb.LGBMRegressor(**params)\n",
        "\n",
        "        # Fit the model on training data\n",
        "        model.fit(X_train, y_train, eval_set=[(X_test, y_test)], verbose = False)\n",
        "\n",
        "        y_pred_val = model.predict(X_test)\n",
        "        rmse = np.sqrt(mean_squared_error(y_test, y_pred_val))\n",
        "        rmse_scores.append(rmse)\n",
        "\n",
        "    # Calculate mean RMSE score across cross-validation folds\n",
        "    mean_rmse = np.mean(rmse_scores)\n",
        "\n",
        "    return mean_rmse\n"
      ]
    },
    {
      "cell_type": "code",
      "execution_count": 92,
      "metadata": {
        "colab": {
          "base_uri": "https://localhost:8080/",
          "height": 1000
        },
        "id": "uIAVdfjOKdUZ",
        "outputId": "50ecf5ac-92ab-4b96-a36f-a914abcc49a2"
      },
      "outputs": [
        {
          "output_type": "stream",
          "name": "stderr",
          "text": [
            "\u001b[32m[I 2023-04-17 03:09:58,951]\u001b[0m A new study created in memory with name: no-name-66b78dca-99fb-441d-89f0-8be456444005\u001b[0m\n",
            "suggest_loguniform has been deprecated in v3.0.0. This feature will be removed in v6.0.0. See https://github.com/optuna/optuna/releases/tag/v3.0.0. Use :func:`~optuna.trial.Trial.suggest_float` instead.\n",
            "The least populated class in y has only 1 members, which is less than n_splits=10.\n",
            "'verbose' argument is deprecated and will be removed in a future release of LightGBM. Pass 'log_evaluation()' callback via 'callbacks' argument instead.\n"
          ]
        },
        {
          "output_type": "stream",
          "name": "stdout",
          "text": [
            "[LightGBM] [Warning] lambda_l1 is set=3.0613318583976126, reg_alpha=0.0 will be ignored. Current value: lambda_l1=3.0613318583976126\n",
            "[LightGBM] [Warning] lambda_l2 is set=2.898081857451396, reg_lambda=0.0 will be ignored. Current value: lambda_l2=2.898081857451396\n"
          ]
        },
        {
          "output_type": "stream",
          "name": "stderr",
          "text": [
            "'verbose' argument is deprecated and will be removed in a future release of LightGBM. Pass 'log_evaluation()' callback via 'callbacks' argument instead.\n"
          ]
        },
        {
          "output_type": "stream",
          "name": "stdout",
          "text": [
            "[LightGBM] [Warning] lambda_l1 is set=3.0613318583976126, reg_alpha=0.0 will be ignored. Current value: lambda_l1=3.0613318583976126\n",
            "[LightGBM] [Warning] lambda_l2 is set=2.898081857451396, reg_lambda=0.0 will be ignored. Current value: lambda_l2=2.898081857451396\n"
          ]
        },
        {
          "output_type": "stream",
          "name": "stderr",
          "text": [
            "'verbose' argument is deprecated and will be removed in a future release of LightGBM. Pass 'log_evaluation()' callback via 'callbacks' argument instead.\n"
          ]
        },
        {
          "output_type": "stream",
          "name": "stdout",
          "text": [
            "[LightGBM] [Warning] lambda_l1 is set=3.0613318583976126, reg_alpha=0.0 will be ignored. Current value: lambda_l1=3.0613318583976126\n",
            "[LightGBM] [Warning] lambda_l2 is set=2.898081857451396, reg_lambda=0.0 will be ignored. Current value: lambda_l2=2.898081857451396\n"
          ]
        },
        {
          "output_type": "stream",
          "name": "stderr",
          "text": [
            "'verbose' argument is deprecated and will be removed in a future release of LightGBM. Pass 'log_evaluation()' callback via 'callbacks' argument instead.\n"
          ]
        },
        {
          "output_type": "stream",
          "name": "stdout",
          "text": [
            "[LightGBM] [Warning] lambda_l1 is set=3.0613318583976126, reg_alpha=0.0 will be ignored. Current value: lambda_l1=3.0613318583976126\n",
            "[LightGBM] [Warning] lambda_l2 is set=2.898081857451396, reg_lambda=0.0 will be ignored. Current value: lambda_l2=2.898081857451396\n"
          ]
        },
        {
          "output_type": "stream",
          "name": "stderr",
          "text": [
            "'verbose' argument is deprecated and will be removed in a future release of LightGBM. Pass 'log_evaluation()' callback via 'callbacks' argument instead.\n"
          ]
        },
        {
          "output_type": "stream",
          "name": "stdout",
          "text": [
            "[LightGBM] [Warning] lambda_l1 is set=3.0613318583976126, reg_alpha=0.0 will be ignored. Current value: lambda_l1=3.0613318583976126\n",
            "[LightGBM] [Warning] lambda_l2 is set=2.898081857451396, reg_lambda=0.0 will be ignored. Current value: lambda_l2=2.898081857451396\n"
          ]
        },
        {
          "output_type": "stream",
          "name": "stderr",
          "text": [
            "'verbose' argument is deprecated and will be removed in a future release of LightGBM. Pass 'log_evaluation()' callback via 'callbacks' argument instead.\n"
          ]
        },
        {
          "output_type": "stream",
          "name": "stdout",
          "text": [
            "[LightGBM] [Warning] lambda_l1 is set=3.0613318583976126, reg_alpha=0.0 will be ignored. Current value: lambda_l1=3.0613318583976126\n",
            "[LightGBM] [Warning] lambda_l2 is set=2.898081857451396, reg_lambda=0.0 will be ignored. Current value: lambda_l2=2.898081857451396\n"
          ]
        },
        {
          "output_type": "stream",
          "name": "stderr",
          "text": [
            "'verbose' argument is deprecated and will be removed in a future release of LightGBM. Pass 'log_evaluation()' callback via 'callbacks' argument instead.\n"
          ]
        },
        {
          "output_type": "stream",
          "name": "stdout",
          "text": [
            "[LightGBM] [Warning] lambda_l1 is set=3.0613318583976126, reg_alpha=0.0 will be ignored. Current value: lambda_l1=3.0613318583976126\n",
            "[LightGBM] [Warning] lambda_l2 is set=2.898081857451396, reg_lambda=0.0 will be ignored. Current value: lambda_l2=2.898081857451396\n"
          ]
        },
        {
          "output_type": "stream",
          "name": "stderr",
          "text": [
            "'verbose' argument is deprecated and will be removed in a future release of LightGBM. Pass 'log_evaluation()' callback via 'callbacks' argument instead.\n"
          ]
        },
        {
          "output_type": "stream",
          "name": "stdout",
          "text": [
            "[LightGBM] [Warning] lambda_l1 is set=3.0613318583976126, reg_alpha=0.0 will be ignored. Current value: lambda_l1=3.0613318583976126\n",
            "[LightGBM] [Warning] lambda_l2 is set=2.898081857451396, reg_lambda=0.0 will be ignored. Current value: lambda_l2=2.898081857451396\n"
          ]
        },
        {
          "output_type": "stream",
          "name": "stderr",
          "text": [
            "'verbose' argument is deprecated and will be removed in a future release of LightGBM. Pass 'log_evaluation()' callback via 'callbacks' argument instead.\n"
          ]
        },
        {
          "output_type": "stream",
          "name": "stdout",
          "text": [
            "[LightGBM] [Warning] lambda_l1 is set=3.0613318583976126, reg_alpha=0.0 will be ignored. Current value: lambda_l1=3.0613318583976126\n",
            "[LightGBM] [Warning] lambda_l2 is set=2.898081857451396, reg_lambda=0.0 will be ignored. Current value: lambda_l2=2.898081857451396\n"
          ]
        },
        {
          "output_type": "stream",
          "name": "stderr",
          "text": [
            "'verbose' argument is deprecated and will be removed in a future release of LightGBM. Pass 'log_evaluation()' callback via 'callbacks' argument instead.\n"
          ]
        },
        {
          "output_type": "stream",
          "name": "stdout",
          "text": [
            "[LightGBM] [Warning] lambda_l1 is set=3.0613318583976126, reg_alpha=0.0 will be ignored. Current value: lambda_l1=3.0613318583976126\n",
            "[LightGBM] [Warning] lambda_l2 is set=2.898081857451396, reg_lambda=0.0 will be ignored. Current value: lambda_l2=2.898081857451396\n"
          ]
        },
        {
          "output_type": "stream",
          "name": "stderr",
          "text": [
            "\u001b[32m[I 2023-04-17 03:10:05,089]\u001b[0m Trial 0 finished with value: 28488.588680892244 and parameters: {'n_estimators': 663, 'num_leaves': 68, 'max_depth': 17, 'learning_rate': 0.040089638161383695, 'colsample_bytree': 0.5990595054470451, 'subsample': 0.7990162762912074, 'lambda_l1': 3.0613318583976126, 'lambda_l2': 2.898081857451396, 'min_child_weight': 12.238529667783745}. Best is trial 0 with value: 28488.588680892244.\u001b[0m\n",
            "suggest_loguniform has been deprecated in v3.0.0. This feature will be removed in v6.0.0. See https://github.com/optuna/optuna/releases/tag/v3.0.0. Use :func:`~optuna.trial.Trial.suggest_float` instead.\n",
            "The least populated class in y has only 1 members, which is less than n_splits=10.\n",
            "'verbose' argument is deprecated and will be removed in a future release of LightGBM. Pass 'log_evaluation()' callback via 'callbacks' argument instead.\n"
          ]
        },
        {
          "output_type": "stream",
          "name": "stdout",
          "text": [
            "[LightGBM] [Warning] lambda_l1 is set=0.7405193204307797, reg_alpha=0.0 will be ignored. Current value: lambda_l1=0.7405193204307797\n",
            "[LightGBM] [Warning] lambda_l2 is set=1.2965421507562418, reg_lambda=0.0 will be ignored. Current value: lambda_l2=1.2965421507562418\n"
          ]
        },
        {
          "output_type": "stream",
          "name": "stderr",
          "text": [
            "'verbose' argument is deprecated and will be removed in a future release of LightGBM. Pass 'log_evaluation()' callback via 'callbacks' argument instead.\n"
          ]
        },
        {
          "output_type": "stream",
          "name": "stdout",
          "text": [
            "[LightGBM] [Warning] lambda_l1 is set=0.7405193204307797, reg_alpha=0.0 will be ignored. Current value: lambda_l1=0.7405193204307797\n",
            "[LightGBM] [Warning] lambda_l2 is set=1.2965421507562418, reg_lambda=0.0 will be ignored. Current value: lambda_l2=1.2965421507562418\n"
          ]
        },
        {
          "output_type": "stream",
          "name": "stderr",
          "text": [
            "'verbose' argument is deprecated and will be removed in a future release of LightGBM. Pass 'log_evaluation()' callback via 'callbacks' argument instead.\n"
          ]
        },
        {
          "output_type": "stream",
          "name": "stdout",
          "text": [
            "[LightGBM] [Warning] lambda_l1 is set=0.7405193204307797, reg_alpha=0.0 will be ignored. Current value: lambda_l1=0.7405193204307797\n",
            "[LightGBM] [Warning] lambda_l2 is set=1.2965421507562418, reg_lambda=0.0 will be ignored. Current value: lambda_l2=1.2965421507562418\n"
          ]
        },
        {
          "output_type": "stream",
          "name": "stderr",
          "text": [
            "'verbose' argument is deprecated and will be removed in a future release of LightGBM. Pass 'log_evaluation()' callback via 'callbacks' argument instead.\n"
          ]
        },
        {
          "output_type": "stream",
          "name": "stdout",
          "text": [
            "[LightGBM] [Warning] lambda_l1 is set=0.7405193204307797, reg_alpha=0.0 will be ignored. Current value: lambda_l1=0.7405193204307797\n",
            "[LightGBM] [Warning] lambda_l2 is set=1.2965421507562418, reg_lambda=0.0 will be ignored. Current value: lambda_l2=1.2965421507562418\n"
          ]
        },
        {
          "output_type": "stream",
          "name": "stderr",
          "text": [
            "'verbose' argument is deprecated and will be removed in a future release of LightGBM. Pass 'log_evaluation()' callback via 'callbacks' argument instead.\n"
          ]
        },
        {
          "output_type": "stream",
          "name": "stdout",
          "text": [
            "[LightGBM] [Warning] lambda_l1 is set=0.7405193204307797, reg_alpha=0.0 will be ignored. Current value: lambda_l1=0.7405193204307797\n",
            "[LightGBM] [Warning] lambda_l2 is set=1.2965421507562418, reg_lambda=0.0 will be ignored. Current value: lambda_l2=1.2965421507562418\n"
          ]
        },
        {
          "output_type": "stream",
          "name": "stderr",
          "text": [
            "'verbose' argument is deprecated and will be removed in a future release of LightGBM. Pass 'log_evaluation()' callback via 'callbacks' argument instead.\n"
          ]
        },
        {
          "output_type": "stream",
          "name": "stdout",
          "text": [
            "[LightGBM] [Warning] lambda_l1 is set=0.7405193204307797, reg_alpha=0.0 will be ignored. Current value: lambda_l1=0.7405193204307797\n",
            "[LightGBM] [Warning] lambda_l2 is set=1.2965421507562418, reg_lambda=0.0 will be ignored. Current value: lambda_l2=1.2965421507562418\n"
          ]
        },
        {
          "output_type": "stream",
          "name": "stderr",
          "text": [
            "'verbose' argument is deprecated and will be removed in a future release of LightGBM. Pass 'log_evaluation()' callback via 'callbacks' argument instead.\n"
          ]
        },
        {
          "output_type": "stream",
          "name": "stdout",
          "text": [
            "[LightGBM] [Warning] lambda_l1 is set=0.7405193204307797, reg_alpha=0.0 will be ignored. Current value: lambda_l1=0.7405193204307797\n",
            "[LightGBM] [Warning] lambda_l2 is set=1.2965421507562418, reg_lambda=0.0 will be ignored. Current value: lambda_l2=1.2965421507562418\n"
          ]
        },
        {
          "output_type": "stream",
          "name": "stderr",
          "text": [
            "'verbose' argument is deprecated and will be removed in a future release of LightGBM. Pass 'log_evaluation()' callback via 'callbacks' argument instead.\n"
          ]
        },
        {
          "output_type": "stream",
          "name": "stdout",
          "text": [
            "[LightGBM] [Warning] lambda_l1 is set=0.7405193204307797, reg_alpha=0.0 will be ignored. Current value: lambda_l1=0.7405193204307797\n",
            "[LightGBM] [Warning] lambda_l2 is set=1.2965421507562418, reg_lambda=0.0 will be ignored. Current value: lambda_l2=1.2965421507562418\n"
          ]
        },
        {
          "output_type": "stream",
          "name": "stderr",
          "text": [
            "'verbose' argument is deprecated and will be removed in a future release of LightGBM. Pass 'log_evaluation()' callback via 'callbacks' argument instead.\n"
          ]
        },
        {
          "output_type": "stream",
          "name": "stdout",
          "text": [
            "[LightGBM] [Warning] lambda_l1 is set=0.7405193204307797, reg_alpha=0.0 will be ignored. Current value: lambda_l1=0.7405193204307797\n",
            "[LightGBM] [Warning] lambda_l2 is set=1.2965421507562418, reg_lambda=0.0 will be ignored. Current value: lambda_l2=1.2965421507562418\n"
          ]
        },
        {
          "output_type": "stream",
          "name": "stderr",
          "text": [
            "'verbose' argument is deprecated and will be removed in a future release of LightGBM. Pass 'log_evaluation()' callback via 'callbacks' argument instead.\n"
          ]
        },
        {
          "output_type": "stream",
          "name": "stdout",
          "text": [
            "[LightGBM] [Warning] lambda_l1 is set=0.7405193204307797, reg_alpha=0.0 will be ignored. Current value: lambda_l1=0.7405193204307797\n",
            "[LightGBM] [Warning] lambda_l2 is set=1.2965421507562418, reg_lambda=0.0 will be ignored. Current value: lambda_l2=1.2965421507562418\n"
          ]
        },
        {
          "output_type": "stream",
          "name": "stderr",
          "text": [
            "\u001b[32m[I 2023-04-17 03:10:08,627]\u001b[0m Trial 1 finished with value: 28750.97776790942 and parameters: {'n_estimators': 551, 'num_leaves': 23, 'max_depth': 27, 'learning_rate': 0.028051956470765846, 'colsample_bytree': 0.5603733890395156, 'subsample': 0.7303949032858605, 'lambda_l1': 0.7405193204307797, 'lambda_l2': 1.2965421507562418, 'min_child_weight': 43.14829689104152}. Best is trial 0 with value: 28488.588680892244.\u001b[0m\n",
            "suggest_loguniform has been deprecated in v3.0.0. This feature will be removed in v6.0.0. See https://github.com/optuna/optuna/releases/tag/v3.0.0. Use :func:`~optuna.trial.Trial.suggest_float` instead.\n",
            "The least populated class in y has only 1 members, which is less than n_splits=10.\n",
            "'verbose' argument is deprecated and will be removed in a future release of LightGBM. Pass 'log_evaluation()' callback via 'callbacks' argument instead.\n"
          ]
        },
        {
          "output_type": "stream",
          "name": "stdout",
          "text": [
            "[LightGBM] [Warning] lambda_l1 is set=1.6523997640014387, reg_alpha=0.0 will be ignored. Current value: lambda_l1=1.6523997640014387\n",
            "[LightGBM] [Warning] lambda_l2 is set=1.155915876240728, reg_lambda=0.0 will be ignored. Current value: lambda_l2=1.155915876240728\n"
          ]
        },
        {
          "output_type": "stream",
          "name": "stderr",
          "text": [
            "'verbose' argument is deprecated and will be removed in a future release of LightGBM. Pass 'log_evaluation()' callback via 'callbacks' argument instead.\n"
          ]
        },
        {
          "output_type": "stream",
          "name": "stdout",
          "text": [
            "[LightGBM] [Warning] lambda_l1 is set=1.6523997640014387, reg_alpha=0.0 will be ignored. Current value: lambda_l1=1.6523997640014387\n",
            "[LightGBM] [Warning] lambda_l2 is set=1.155915876240728, reg_lambda=0.0 will be ignored. Current value: lambda_l2=1.155915876240728\n"
          ]
        },
        {
          "output_type": "stream",
          "name": "stderr",
          "text": [
            "'verbose' argument is deprecated and will be removed in a future release of LightGBM. Pass 'log_evaluation()' callback via 'callbacks' argument instead.\n"
          ]
        },
        {
          "output_type": "stream",
          "name": "stdout",
          "text": [
            "[LightGBM] [Warning] lambda_l1 is set=1.6523997640014387, reg_alpha=0.0 will be ignored. Current value: lambda_l1=1.6523997640014387\n",
            "[LightGBM] [Warning] lambda_l2 is set=1.155915876240728, reg_lambda=0.0 will be ignored. Current value: lambda_l2=1.155915876240728\n"
          ]
        },
        {
          "output_type": "stream",
          "name": "stderr",
          "text": [
            "'verbose' argument is deprecated and will be removed in a future release of LightGBM. Pass 'log_evaluation()' callback via 'callbacks' argument instead.\n"
          ]
        },
        {
          "output_type": "stream",
          "name": "stdout",
          "text": [
            "[LightGBM] [Warning] lambda_l1 is set=1.6523997640014387, reg_alpha=0.0 will be ignored. Current value: lambda_l1=1.6523997640014387\n",
            "[LightGBM] [Warning] lambda_l2 is set=1.155915876240728, reg_lambda=0.0 will be ignored. Current value: lambda_l2=1.155915876240728\n"
          ]
        },
        {
          "output_type": "stream",
          "name": "stderr",
          "text": [
            "'verbose' argument is deprecated and will be removed in a future release of LightGBM. Pass 'log_evaluation()' callback via 'callbacks' argument instead.\n"
          ]
        },
        {
          "output_type": "stream",
          "name": "stdout",
          "text": [
            "[LightGBM] [Warning] lambda_l1 is set=1.6523997640014387, reg_alpha=0.0 will be ignored. Current value: lambda_l1=1.6523997640014387\n",
            "[LightGBM] [Warning] lambda_l2 is set=1.155915876240728, reg_lambda=0.0 will be ignored. Current value: lambda_l2=1.155915876240728\n"
          ]
        },
        {
          "output_type": "stream",
          "name": "stderr",
          "text": [
            "'verbose' argument is deprecated and will be removed in a future release of LightGBM. Pass 'log_evaluation()' callback via 'callbacks' argument instead.\n"
          ]
        },
        {
          "output_type": "stream",
          "name": "stdout",
          "text": [
            "[LightGBM] [Warning] lambda_l1 is set=1.6523997640014387, reg_alpha=0.0 will be ignored. Current value: lambda_l1=1.6523997640014387\n",
            "[LightGBM] [Warning] lambda_l2 is set=1.155915876240728, reg_lambda=0.0 will be ignored. Current value: lambda_l2=1.155915876240728\n"
          ]
        },
        {
          "output_type": "stream",
          "name": "stderr",
          "text": [
            "'verbose' argument is deprecated and will be removed in a future release of LightGBM. Pass 'log_evaluation()' callback via 'callbacks' argument instead.\n"
          ]
        },
        {
          "output_type": "stream",
          "name": "stdout",
          "text": [
            "[LightGBM] [Warning] lambda_l1 is set=1.6523997640014387, reg_alpha=0.0 will be ignored. Current value: lambda_l1=1.6523997640014387\n",
            "[LightGBM] [Warning] lambda_l2 is set=1.155915876240728, reg_lambda=0.0 will be ignored. Current value: lambda_l2=1.155915876240728\n"
          ]
        },
        {
          "output_type": "stream",
          "name": "stderr",
          "text": [
            "'verbose' argument is deprecated and will be removed in a future release of LightGBM. Pass 'log_evaluation()' callback via 'callbacks' argument instead.\n"
          ]
        },
        {
          "output_type": "stream",
          "name": "stdout",
          "text": [
            "[LightGBM] [Warning] lambda_l1 is set=1.6523997640014387, reg_alpha=0.0 will be ignored. Current value: lambda_l1=1.6523997640014387\n",
            "[LightGBM] [Warning] lambda_l2 is set=1.155915876240728, reg_lambda=0.0 will be ignored. Current value: lambda_l2=1.155915876240728\n"
          ]
        },
        {
          "output_type": "stream",
          "name": "stderr",
          "text": [
            "'verbose' argument is deprecated and will be removed in a future release of LightGBM. Pass 'log_evaluation()' callback via 'callbacks' argument instead.\n"
          ]
        },
        {
          "output_type": "stream",
          "name": "stdout",
          "text": [
            "[LightGBM] [Warning] lambda_l1 is set=1.6523997640014387, reg_alpha=0.0 will be ignored. Current value: lambda_l1=1.6523997640014387\n",
            "[LightGBM] [Warning] lambda_l2 is set=1.155915876240728, reg_lambda=0.0 will be ignored. Current value: lambda_l2=1.155915876240728\n"
          ]
        },
        {
          "output_type": "stream",
          "name": "stderr",
          "text": [
            "'verbose' argument is deprecated and will be removed in a future release of LightGBM. Pass 'log_evaluation()' callback via 'callbacks' argument instead.\n"
          ]
        },
        {
          "output_type": "stream",
          "name": "stdout",
          "text": [
            "[LightGBM] [Warning] lambda_l1 is set=1.6523997640014387, reg_alpha=0.0 will be ignored. Current value: lambda_l1=1.6523997640014387\n",
            "[LightGBM] [Warning] lambda_l2 is set=1.155915876240728, reg_lambda=0.0 will be ignored. Current value: lambda_l2=1.155915876240728\n"
          ]
        },
        {
          "output_type": "stream",
          "name": "stderr",
          "text": [
            "\u001b[32m[I 2023-04-17 03:10:19,033]\u001b[0m Trial 2 finished with value: 28650.69702809532 and parameters: {'n_estimators': 749, 'num_leaves': 65, 'max_depth': 45, 'learning_rate': 0.11499177611251402, 'colsample_bytree': 0.7295795265505195, 'subsample': 0.7245465074865804, 'lambda_l1': 1.6523997640014387, 'lambda_l2': 1.155915876240728, 'min_child_weight': 12.901586637593548}. Best is trial 0 with value: 28488.588680892244.\u001b[0m\n",
            "suggest_loguniform has been deprecated in v3.0.0. This feature will be removed in v6.0.0. See https://github.com/optuna/optuna/releases/tag/v3.0.0. Use :func:`~optuna.trial.Trial.suggest_float` instead.\n",
            "The least populated class in y has only 1 members, which is less than n_splits=10.\n",
            "'verbose' argument is deprecated and will be removed in a future release of LightGBM. Pass 'log_evaluation()' callback via 'callbacks' argument instead.\n"
          ]
        },
        {
          "output_type": "stream",
          "name": "stdout",
          "text": [
            "[LightGBM] [Warning] lambda_l1 is set=0.6187984799497881, reg_alpha=0.0 will be ignored. Current value: lambda_l1=0.6187984799497881\n",
            "[LightGBM] [Warning] lambda_l2 is set=2.830224900813376, reg_lambda=0.0 will be ignored. Current value: lambda_l2=2.830224900813376\n"
          ]
        },
        {
          "output_type": "stream",
          "name": "stderr",
          "text": [
            "'verbose' argument is deprecated and will be removed in a future release of LightGBM. Pass 'log_evaluation()' callback via 'callbacks' argument instead.\n"
          ]
        },
        {
          "output_type": "stream",
          "name": "stdout",
          "text": [
            "[LightGBM] [Warning] lambda_l1 is set=0.6187984799497881, reg_alpha=0.0 will be ignored. Current value: lambda_l1=0.6187984799497881\n",
            "[LightGBM] [Warning] lambda_l2 is set=2.830224900813376, reg_lambda=0.0 will be ignored. Current value: lambda_l2=2.830224900813376\n"
          ]
        },
        {
          "output_type": "stream",
          "name": "stderr",
          "text": [
            "'verbose' argument is deprecated and will be removed in a future release of LightGBM. Pass 'log_evaluation()' callback via 'callbacks' argument instead.\n"
          ]
        },
        {
          "output_type": "stream",
          "name": "stdout",
          "text": [
            "[LightGBM] [Warning] lambda_l1 is set=0.6187984799497881, reg_alpha=0.0 will be ignored. Current value: lambda_l1=0.6187984799497881\n",
            "[LightGBM] [Warning] lambda_l2 is set=2.830224900813376, reg_lambda=0.0 will be ignored. Current value: lambda_l2=2.830224900813376\n"
          ]
        },
        {
          "output_type": "stream",
          "name": "stderr",
          "text": [
            "'verbose' argument is deprecated and will be removed in a future release of LightGBM. Pass 'log_evaluation()' callback via 'callbacks' argument instead.\n"
          ]
        },
        {
          "output_type": "stream",
          "name": "stdout",
          "text": [
            "[LightGBM] [Warning] lambda_l1 is set=0.6187984799497881, reg_alpha=0.0 will be ignored. Current value: lambda_l1=0.6187984799497881\n",
            "[LightGBM] [Warning] lambda_l2 is set=2.830224900813376, reg_lambda=0.0 will be ignored. Current value: lambda_l2=2.830224900813376\n"
          ]
        },
        {
          "output_type": "stream",
          "name": "stderr",
          "text": [
            "'verbose' argument is deprecated and will be removed in a future release of LightGBM. Pass 'log_evaluation()' callback via 'callbacks' argument instead.\n"
          ]
        },
        {
          "output_type": "stream",
          "name": "stdout",
          "text": [
            "[LightGBM] [Warning] lambda_l1 is set=0.6187984799497881, reg_alpha=0.0 will be ignored. Current value: lambda_l1=0.6187984799497881\n",
            "[LightGBM] [Warning] lambda_l2 is set=2.830224900813376, reg_lambda=0.0 will be ignored. Current value: lambda_l2=2.830224900813376\n"
          ]
        },
        {
          "output_type": "stream",
          "name": "stderr",
          "text": [
            "'verbose' argument is deprecated and will be removed in a future release of LightGBM. Pass 'log_evaluation()' callback via 'callbacks' argument instead.\n"
          ]
        },
        {
          "output_type": "stream",
          "name": "stdout",
          "text": [
            "[LightGBM] [Warning] lambda_l1 is set=0.6187984799497881, reg_alpha=0.0 will be ignored. Current value: lambda_l1=0.6187984799497881\n",
            "[LightGBM] [Warning] lambda_l2 is set=2.830224900813376, reg_lambda=0.0 will be ignored. Current value: lambda_l2=2.830224900813376\n"
          ]
        },
        {
          "output_type": "stream",
          "name": "stderr",
          "text": [
            "'verbose' argument is deprecated and will be removed in a future release of LightGBM. Pass 'log_evaluation()' callback via 'callbacks' argument instead.\n"
          ]
        },
        {
          "output_type": "stream",
          "name": "stdout",
          "text": [
            "[LightGBM] [Warning] lambda_l1 is set=0.6187984799497881, reg_alpha=0.0 will be ignored. Current value: lambda_l1=0.6187984799497881\n",
            "[LightGBM] [Warning] lambda_l2 is set=2.830224900813376, reg_lambda=0.0 will be ignored. Current value: lambda_l2=2.830224900813376\n"
          ]
        },
        {
          "output_type": "stream",
          "name": "stderr",
          "text": [
            "'verbose' argument is deprecated and will be removed in a future release of LightGBM. Pass 'log_evaluation()' callback via 'callbacks' argument instead.\n"
          ]
        },
        {
          "output_type": "stream",
          "name": "stdout",
          "text": [
            "[LightGBM] [Warning] lambda_l1 is set=0.6187984799497881, reg_alpha=0.0 will be ignored. Current value: lambda_l1=0.6187984799497881\n",
            "[LightGBM] [Warning] lambda_l2 is set=2.830224900813376, reg_lambda=0.0 will be ignored. Current value: lambda_l2=2.830224900813376\n"
          ]
        },
        {
          "output_type": "stream",
          "name": "stderr",
          "text": [
            "'verbose' argument is deprecated and will be removed in a future release of LightGBM. Pass 'log_evaluation()' callback via 'callbacks' argument instead.\n"
          ]
        },
        {
          "output_type": "stream",
          "name": "stdout",
          "text": [
            "[LightGBM] [Warning] lambda_l1 is set=0.6187984799497881, reg_alpha=0.0 will be ignored. Current value: lambda_l1=0.6187984799497881\n",
            "[LightGBM] [Warning] lambda_l2 is set=2.830224900813376, reg_lambda=0.0 will be ignored. Current value: lambda_l2=2.830224900813376\n"
          ]
        },
        {
          "output_type": "stream",
          "name": "stderr",
          "text": [
            "'verbose' argument is deprecated and will be removed in a future release of LightGBM. Pass 'log_evaluation()' callback via 'callbacks' argument instead.\n"
          ]
        },
        {
          "output_type": "stream",
          "name": "stdout",
          "text": [
            "[LightGBM] [Warning] lambda_l1 is set=0.6187984799497881, reg_alpha=0.0 will be ignored. Current value: lambda_l1=0.6187984799497881\n",
            "[LightGBM] [Warning] lambda_l2 is set=2.830224900813376, reg_lambda=0.0 will be ignored. Current value: lambda_l2=2.830224900813376\n"
          ]
        },
        {
          "output_type": "stream",
          "name": "stderr",
          "text": [
            "\u001b[32m[I 2023-04-17 03:10:27,516]\u001b[0m Trial 3 finished with value: 29376.072027510585 and parameters: {'n_estimators': 911, 'num_leaves': 27, 'max_depth': 29, 'learning_rate': 0.07389012477164504, 'colsample_bytree': 0.7481414690631422, 'subsample': 0.7342103932065579, 'lambda_l1': 0.6187984799497881, 'lambda_l2': 2.830224900813376, 'min_child_weight': 28.343084700895446}. Best is trial 0 with value: 28488.588680892244.\u001b[0m\n",
            "suggest_loguniform has been deprecated in v3.0.0. This feature will be removed in v6.0.0. See https://github.com/optuna/optuna/releases/tag/v3.0.0. Use :func:`~optuna.trial.Trial.suggest_float` instead.\n",
            "The least populated class in y has only 1 members, which is less than n_splits=10.\n",
            "'verbose' argument is deprecated and will be removed in a future release of LightGBM. Pass 'log_evaluation()' callback via 'callbacks' argument instead.\n",
            "'verbose' argument is deprecated and will be removed in a future release of LightGBM. Pass 'log_evaluation()' callback via 'callbacks' argument instead.\n"
          ]
        },
        {
          "output_type": "stream",
          "name": "stdout",
          "text": [
            "[LightGBM] [Warning] lambda_l1 is set=3.0973404306336922, reg_alpha=0.0 will be ignored. Current value: lambda_l1=3.0973404306336922\n",
            "[LightGBM] [Warning] lambda_l2 is set=2.525308162750634, reg_lambda=0.0 will be ignored. Current value: lambda_l2=2.525308162750634\n",
            "[LightGBM] [Warning] lambda_l1 is set=3.0973404306336922, reg_alpha=0.0 will be ignored. Current value: lambda_l1=3.0973404306336922\n",
            "[LightGBM] [Warning] lambda_l2 is set=2.525308162750634, reg_lambda=0.0 will be ignored. Current value: lambda_l2=2.525308162750634\n"
          ]
        },
        {
          "output_type": "stream",
          "name": "stderr",
          "text": [
            "'verbose' argument is deprecated and will be removed in a future release of LightGBM. Pass 'log_evaluation()' callback via 'callbacks' argument instead.\n",
            "'verbose' argument is deprecated and will be removed in a future release of LightGBM. Pass 'log_evaluation()' callback via 'callbacks' argument instead.\n"
          ]
        },
        {
          "output_type": "stream",
          "name": "stdout",
          "text": [
            "[LightGBM] [Warning] lambda_l1 is set=3.0973404306336922, reg_alpha=0.0 will be ignored. Current value: lambda_l1=3.0973404306336922\n",
            "[LightGBM] [Warning] lambda_l2 is set=2.525308162750634, reg_lambda=0.0 will be ignored. Current value: lambda_l2=2.525308162750634\n",
            "[LightGBM] [Warning] lambda_l1 is set=3.0973404306336922, reg_alpha=0.0 will be ignored. Current value: lambda_l1=3.0973404306336922\n",
            "[LightGBM] [Warning] lambda_l2 is set=2.525308162750634, reg_lambda=0.0 will be ignored. Current value: lambda_l2=2.525308162750634\n"
          ]
        },
        {
          "output_type": "stream",
          "name": "stderr",
          "text": [
            "'verbose' argument is deprecated and will be removed in a future release of LightGBM. Pass 'log_evaluation()' callback via 'callbacks' argument instead.\n",
            "'verbose' argument is deprecated and will be removed in a future release of LightGBM. Pass 'log_evaluation()' callback via 'callbacks' argument instead.\n"
          ]
        },
        {
          "output_type": "stream",
          "name": "stdout",
          "text": [
            "[LightGBM] [Warning] lambda_l1 is set=3.0973404306336922, reg_alpha=0.0 will be ignored. Current value: lambda_l1=3.0973404306336922\n",
            "[LightGBM] [Warning] lambda_l2 is set=2.525308162750634, reg_lambda=0.0 will be ignored. Current value: lambda_l2=2.525308162750634\n",
            "[LightGBM] [Warning] lambda_l1 is set=3.0973404306336922, reg_alpha=0.0 will be ignored. Current value: lambda_l1=3.0973404306336922\n",
            "[LightGBM] [Warning] lambda_l2 is set=2.525308162750634, reg_lambda=0.0 will be ignored. Current value: lambda_l2=2.525308162750634\n"
          ]
        },
        {
          "output_type": "stream",
          "name": "stderr",
          "text": [
            "'verbose' argument is deprecated and will be removed in a future release of LightGBM. Pass 'log_evaluation()' callback via 'callbacks' argument instead.\n",
            "'verbose' argument is deprecated and will be removed in a future release of LightGBM. Pass 'log_evaluation()' callback via 'callbacks' argument instead.\n"
          ]
        },
        {
          "output_type": "stream",
          "name": "stdout",
          "text": [
            "[LightGBM] [Warning] lambda_l1 is set=3.0973404306336922, reg_alpha=0.0 will be ignored. Current value: lambda_l1=3.0973404306336922\n",
            "[LightGBM] [Warning] lambda_l2 is set=2.525308162750634, reg_lambda=0.0 will be ignored. Current value: lambda_l2=2.525308162750634\n",
            "[LightGBM] [Warning] lambda_l1 is set=3.0973404306336922, reg_alpha=0.0 will be ignored. Current value: lambda_l1=3.0973404306336922\n",
            "[LightGBM] [Warning] lambda_l2 is set=2.525308162750634, reg_lambda=0.0 will be ignored. Current value: lambda_l2=2.525308162750634\n"
          ]
        },
        {
          "output_type": "stream",
          "name": "stderr",
          "text": [
            "'verbose' argument is deprecated and will be removed in a future release of LightGBM. Pass 'log_evaluation()' callback via 'callbacks' argument instead.\n",
            "'verbose' argument is deprecated and will be removed in a future release of LightGBM. Pass 'log_evaluation()' callback via 'callbacks' argument instead.\n"
          ]
        },
        {
          "output_type": "stream",
          "name": "stdout",
          "text": [
            "[LightGBM] [Warning] lambda_l1 is set=3.0973404306336922, reg_alpha=0.0 will be ignored. Current value: lambda_l1=3.0973404306336922\n",
            "[LightGBM] [Warning] lambda_l2 is set=2.525308162750634, reg_lambda=0.0 will be ignored. Current value: lambda_l2=2.525308162750634\n",
            "[LightGBM] [Warning] lambda_l1 is set=3.0973404306336922, reg_alpha=0.0 will be ignored. Current value: lambda_l1=3.0973404306336922\n",
            "[LightGBM] [Warning] lambda_l2 is set=2.525308162750634, reg_lambda=0.0 will be ignored. Current value: lambda_l2=2.525308162750634\n"
          ]
        },
        {
          "output_type": "stream",
          "name": "stderr",
          "text": [
            "\u001b[32m[I 2023-04-17 03:10:28,612]\u001b[0m Trial 4 finished with value: 28987.125574991904 and parameters: {'n_estimators': 98, 'num_leaves': 53, 'max_depth': 37, 'learning_rate': 0.18715636965399898, 'colsample_bytree': 0.5792787903168644, 'subsample': 0.713296376450812, 'lambda_l1': 3.0973404306336922, 'lambda_l2': 2.525308162750634, 'min_child_weight': 16.88338713642509}. Best is trial 0 with value: 28488.588680892244.\u001b[0m\n",
            "suggest_loguniform has been deprecated in v3.0.0. This feature will be removed in v6.0.0. See https://github.com/optuna/optuna/releases/tag/v3.0.0. Use :func:`~optuna.trial.Trial.suggest_float` instead.\n",
            "The least populated class in y has only 1 members, which is less than n_splits=10.\n",
            "'verbose' argument is deprecated and will be removed in a future release of LightGBM. Pass 'log_evaluation()' callback via 'callbacks' argument instead.\n"
          ]
        },
        {
          "output_type": "stream",
          "name": "stdout",
          "text": [
            "[LightGBM] [Warning] lambda_l1 is set=3.1549363766258227, reg_alpha=0.0 will be ignored. Current value: lambda_l1=3.1549363766258227\n",
            "[LightGBM] [Warning] lambda_l2 is set=2.099830611116291, reg_lambda=0.0 will be ignored. Current value: lambda_l2=2.099830611116291\n"
          ]
        },
        {
          "output_type": "stream",
          "name": "stderr",
          "text": [
            "'verbose' argument is deprecated and will be removed in a future release of LightGBM. Pass 'log_evaluation()' callback via 'callbacks' argument instead.\n"
          ]
        },
        {
          "output_type": "stream",
          "name": "stdout",
          "text": [
            "[LightGBM] [Warning] lambda_l1 is set=3.1549363766258227, reg_alpha=0.0 will be ignored. Current value: lambda_l1=3.1549363766258227\n",
            "[LightGBM] [Warning] lambda_l2 is set=2.099830611116291, reg_lambda=0.0 will be ignored. Current value: lambda_l2=2.099830611116291\n"
          ]
        },
        {
          "output_type": "stream",
          "name": "stderr",
          "text": [
            "'verbose' argument is deprecated and will be removed in a future release of LightGBM. Pass 'log_evaluation()' callback via 'callbacks' argument instead.\n"
          ]
        },
        {
          "output_type": "stream",
          "name": "stdout",
          "text": [
            "[LightGBM] [Warning] lambda_l1 is set=3.1549363766258227, reg_alpha=0.0 will be ignored. Current value: lambda_l1=3.1549363766258227\n",
            "[LightGBM] [Warning] lambda_l2 is set=2.099830611116291, reg_lambda=0.0 will be ignored. Current value: lambda_l2=2.099830611116291\n"
          ]
        },
        {
          "output_type": "stream",
          "name": "stderr",
          "text": [
            "'verbose' argument is deprecated and will be removed in a future release of LightGBM. Pass 'log_evaluation()' callback via 'callbacks' argument instead.\n"
          ]
        },
        {
          "output_type": "stream",
          "name": "stdout",
          "text": [
            "[LightGBM] [Warning] lambda_l1 is set=3.1549363766258227, reg_alpha=0.0 will be ignored. Current value: lambda_l1=3.1549363766258227\n",
            "[LightGBM] [Warning] lambda_l2 is set=2.099830611116291, reg_lambda=0.0 will be ignored. Current value: lambda_l2=2.099830611116291\n"
          ]
        },
        {
          "output_type": "stream",
          "name": "stderr",
          "text": [
            "'verbose' argument is deprecated and will be removed in a future release of LightGBM. Pass 'log_evaluation()' callback via 'callbacks' argument instead.\n"
          ]
        },
        {
          "output_type": "stream",
          "name": "stdout",
          "text": [
            "[LightGBM] [Warning] lambda_l1 is set=3.1549363766258227, reg_alpha=0.0 will be ignored. Current value: lambda_l1=3.1549363766258227\n",
            "[LightGBM] [Warning] lambda_l2 is set=2.099830611116291, reg_lambda=0.0 will be ignored. Current value: lambda_l2=2.099830611116291\n"
          ]
        },
        {
          "output_type": "stream",
          "name": "stderr",
          "text": [
            "'verbose' argument is deprecated and will be removed in a future release of LightGBM. Pass 'log_evaluation()' callback via 'callbacks' argument instead.\n"
          ]
        },
        {
          "output_type": "stream",
          "name": "stdout",
          "text": [
            "[LightGBM] [Warning] lambda_l1 is set=3.1549363766258227, reg_alpha=0.0 will be ignored. Current value: lambda_l1=3.1549363766258227\n",
            "[LightGBM] [Warning] lambda_l2 is set=2.099830611116291, reg_lambda=0.0 will be ignored. Current value: lambda_l2=2.099830611116291\n"
          ]
        },
        {
          "output_type": "stream",
          "name": "stderr",
          "text": [
            "'verbose' argument is deprecated and will be removed in a future release of LightGBM. Pass 'log_evaluation()' callback via 'callbacks' argument instead.\n"
          ]
        },
        {
          "output_type": "stream",
          "name": "stdout",
          "text": [
            "[LightGBM] [Warning] lambda_l1 is set=3.1549363766258227, reg_alpha=0.0 will be ignored. Current value: lambda_l1=3.1549363766258227\n",
            "[LightGBM] [Warning] lambda_l2 is set=2.099830611116291, reg_lambda=0.0 will be ignored. Current value: lambda_l2=2.099830611116291\n"
          ]
        },
        {
          "output_type": "stream",
          "name": "stderr",
          "text": [
            "'verbose' argument is deprecated and will be removed in a future release of LightGBM. Pass 'log_evaluation()' callback via 'callbacks' argument instead.\n"
          ]
        },
        {
          "output_type": "stream",
          "name": "stdout",
          "text": [
            "[LightGBM] [Warning] lambda_l1 is set=3.1549363766258227, reg_alpha=0.0 will be ignored. Current value: lambda_l1=3.1549363766258227\n",
            "[LightGBM] [Warning] lambda_l2 is set=2.099830611116291, reg_lambda=0.0 will be ignored. Current value: lambda_l2=2.099830611116291\n"
          ]
        },
        {
          "output_type": "stream",
          "name": "stderr",
          "text": [
            "'verbose' argument is deprecated and will be removed in a future release of LightGBM. Pass 'log_evaluation()' callback via 'callbacks' argument instead.\n"
          ]
        },
        {
          "output_type": "stream",
          "name": "stdout",
          "text": [
            "[LightGBM] [Warning] lambda_l1 is set=3.1549363766258227, reg_alpha=0.0 will be ignored. Current value: lambda_l1=3.1549363766258227\n",
            "[LightGBM] [Warning] lambda_l2 is set=2.099830611116291, reg_lambda=0.0 will be ignored. Current value: lambda_l2=2.099830611116291\n"
          ]
        },
        {
          "output_type": "stream",
          "name": "stderr",
          "text": [
            "'verbose' argument is deprecated and will be removed in a future release of LightGBM. Pass 'log_evaluation()' callback via 'callbacks' argument instead.\n"
          ]
        },
        {
          "output_type": "stream",
          "name": "stdout",
          "text": [
            "[LightGBM] [Warning] lambda_l1 is set=3.1549363766258227, reg_alpha=0.0 will be ignored. Current value: lambda_l1=3.1549363766258227\n",
            "[LightGBM] [Warning] lambda_l2 is set=2.099830611116291, reg_lambda=0.0 will be ignored. Current value: lambda_l2=2.099830611116291\n"
          ]
        },
        {
          "output_type": "stream",
          "name": "stderr",
          "text": [
            "\u001b[32m[I 2023-04-17 03:10:32,174]\u001b[0m Trial 5 finished with value: 28068.90609651451 and parameters: {'n_estimators': 633, 'num_leaves': 22, 'max_depth': 9, 'learning_rate': 0.015331819328641907, 'colsample_bytree': 0.603382624656254, 'subsample': 0.7368064402034722, 'lambda_l1': 3.1549363766258227, 'lambda_l2': 2.099830611116291, 'min_child_weight': 11.69981082951341}. Best is trial 5 with value: 28068.90609651451.\u001b[0m\n",
            "suggest_loguniform has been deprecated in v3.0.0. This feature will be removed in v6.0.0. See https://github.com/optuna/optuna/releases/tag/v3.0.0. Use :func:`~optuna.trial.Trial.suggest_float` instead.\n",
            "The least populated class in y has only 1 members, which is less than n_splits=10.\n",
            "'verbose' argument is deprecated and will be removed in a future release of LightGBM. Pass 'log_evaluation()' callback via 'callbacks' argument instead.\n"
          ]
        },
        {
          "output_type": "stream",
          "name": "stdout",
          "text": [
            "[LightGBM] [Warning] lambda_l1 is set=2.520235372005729, reg_alpha=0.0 will be ignored. Current value: lambda_l1=2.520235372005729\n",
            "[LightGBM] [Warning] lambda_l2 is set=2.118513164627375, reg_lambda=0.0 will be ignored. Current value: lambda_l2=2.118513164627375\n"
          ]
        },
        {
          "output_type": "stream",
          "name": "stderr",
          "text": [
            "'verbose' argument is deprecated and will be removed in a future release of LightGBM. Pass 'log_evaluation()' callback via 'callbacks' argument instead.\n"
          ]
        },
        {
          "output_type": "stream",
          "name": "stdout",
          "text": [
            "[LightGBM] [Warning] lambda_l1 is set=2.520235372005729, reg_alpha=0.0 will be ignored. Current value: lambda_l1=2.520235372005729\n",
            "[LightGBM] [Warning] lambda_l2 is set=2.118513164627375, reg_lambda=0.0 will be ignored. Current value: lambda_l2=2.118513164627375\n"
          ]
        },
        {
          "output_type": "stream",
          "name": "stderr",
          "text": [
            "'verbose' argument is deprecated and will be removed in a future release of LightGBM. Pass 'log_evaluation()' callback via 'callbacks' argument instead.\n"
          ]
        },
        {
          "output_type": "stream",
          "name": "stdout",
          "text": [
            "[LightGBM] [Warning] lambda_l1 is set=2.520235372005729, reg_alpha=0.0 will be ignored. Current value: lambda_l1=2.520235372005729\n",
            "[LightGBM] [Warning] lambda_l2 is set=2.118513164627375, reg_lambda=0.0 will be ignored. Current value: lambda_l2=2.118513164627375\n"
          ]
        },
        {
          "output_type": "stream",
          "name": "stderr",
          "text": [
            "'verbose' argument is deprecated and will be removed in a future release of LightGBM. Pass 'log_evaluation()' callback via 'callbacks' argument instead.\n"
          ]
        },
        {
          "output_type": "stream",
          "name": "stdout",
          "text": [
            "[LightGBM] [Warning] lambda_l1 is set=2.520235372005729, reg_alpha=0.0 will be ignored. Current value: lambda_l1=2.520235372005729\n",
            "[LightGBM] [Warning] lambda_l2 is set=2.118513164627375, reg_lambda=0.0 will be ignored. Current value: lambda_l2=2.118513164627375\n"
          ]
        },
        {
          "output_type": "stream",
          "name": "stderr",
          "text": [
            "'verbose' argument is deprecated and will be removed in a future release of LightGBM. Pass 'log_evaluation()' callback via 'callbacks' argument instead.\n"
          ]
        },
        {
          "output_type": "stream",
          "name": "stdout",
          "text": [
            "[LightGBM] [Warning] lambda_l1 is set=2.520235372005729, reg_alpha=0.0 will be ignored. Current value: lambda_l1=2.520235372005729\n",
            "[LightGBM] [Warning] lambda_l2 is set=2.118513164627375, reg_lambda=0.0 will be ignored. Current value: lambda_l2=2.118513164627375\n"
          ]
        },
        {
          "output_type": "stream",
          "name": "stderr",
          "text": [
            "'verbose' argument is deprecated and will be removed in a future release of LightGBM. Pass 'log_evaluation()' callback via 'callbacks' argument instead.\n"
          ]
        },
        {
          "output_type": "stream",
          "name": "stdout",
          "text": [
            "[LightGBM] [Warning] lambda_l1 is set=2.520235372005729, reg_alpha=0.0 will be ignored. Current value: lambda_l1=2.520235372005729\n",
            "[LightGBM] [Warning] lambda_l2 is set=2.118513164627375, reg_lambda=0.0 will be ignored. Current value: lambda_l2=2.118513164627375\n"
          ]
        },
        {
          "output_type": "stream",
          "name": "stderr",
          "text": [
            "'verbose' argument is deprecated and will be removed in a future release of LightGBM. Pass 'log_evaluation()' callback via 'callbacks' argument instead.\n"
          ]
        },
        {
          "output_type": "stream",
          "name": "stdout",
          "text": [
            "[LightGBM] [Warning] lambda_l1 is set=2.520235372005729, reg_alpha=0.0 will be ignored. Current value: lambda_l1=2.520235372005729\n",
            "[LightGBM] [Warning] lambda_l2 is set=2.118513164627375, reg_lambda=0.0 will be ignored. Current value: lambda_l2=2.118513164627375\n"
          ]
        },
        {
          "output_type": "stream",
          "name": "stderr",
          "text": [
            "'verbose' argument is deprecated and will be removed in a future release of LightGBM. Pass 'log_evaluation()' callback via 'callbacks' argument instead.\n"
          ]
        },
        {
          "output_type": "stream",
          "name": "stdout",
          "text": [
            "[LightGBM] [Warning] lambda_l1 is set=2.520235372005729, reg_alpha=0.0 will be ignored. Current value: lambda_l1=2.520235372005729\n",
            "[LightGBM] [Warning] lambda_l2 is set=2.118513164627375, reg_lambda=0.0 will be ignored. Current value: lambda_l2=2.118513164627375\n"
          ]
        },
        {
          "output_type": "stream",
          "name": "stderr",
          "text": [
            "'verbose' argument is deprecated and will be removed in a future release of LightGBM. Pass 'log_evaluation()' callback via 'callbacks' argument instead.\n"
          ]
        },
        {
          "output_type": "stream",
          "name": "stdout",
          "text": [
            "[LightGBM] [Warning] lambda_l1 is set=2.520235372005729, reg_alpha=0.0 will be ignored. Current value: lambda_l1=2.520235372005729\n",
            "[LightGBM] [Warning] lambda_l2 is set=2.118513164627375, reg_lambda=0.0 will be ignored. Current value: lambda_l2=2.118513164627375\n"
          ]
        },
        {
          "output_type": "stream",
          "name": "stderr",
          "text": [
            "'verbose' argument is deprecated and will be removed in a future release of LightGBM. Pass 'log_evaluation()' callback via 'callbacks' argument instead.\n"
          ]
        },
        {
          "output_type": "stream",
          "name": "stdout",
          "text": [
            "[LightGBM] [Warning] lambda_l1 is set=2.520235372005729, reg_alpha=0.0 will be ignored. Current value: lambda_l1=2.520235372005729\n",
            "[LightGBM] [Warning] lambda_l2 is set=2.118513164627375, reg_lambda=0.0 will be ignored. Current value: lambda_l2=2.118513164627375\n"
          ]
        },
        {
          "output_type": "stream",
          "name": "stderr",
          "text": [
            "\u001b[32m[I 2023-04-17 03:10:39,677]\u001b[0m Trial 6 finished with value: 28466.773091144696 and parameters: {'n_estimators': 488, 'num_leaves': 44, 'max_depth': 24, 'learning_rate': 0.01181294479466327, 'colsample_bytree': 0.7370932699339365, 'subsample': 0.7361831167776913, 'lambda_l1': 2.520235372005729, 'lambda_l2': 2.118513164627375, 'min_child_weight': 27.83610349190173}. Best is trial 5 with value: 28068.90609651451.\u001b[0m\n",
            "suggest_loguniform has been deprecated in v3.0.0. This feature will be removed in v6.0.0. See https://github.com/optuna/optuna/releases/tag/v3.0.0. Use :func:`~optuna.trial.Trial.suggest_float` instead.\n",
            "The least populated class in y has only 1 members, which is less than n_splits=10.\n",
            "'verbose' argument is deprecated and will be removed in a future release of LightGBM. Pass 'log_evaluation()' callback via 'callbacks' argument instead.\n"
          ]
        },
        {
          "output_type": "stream",
          "name": "stdout",
          "text": [
            "[LightGBM] [Warning] lambda_l1 is set=3.3797409955554167, reg_alpha=0.0 will be ignored. Current value: lambda_l1=3.3797409955554167\n",
            "[LightGBM] [Warning] lambda_l2 is set=1.174697313213989, reg_lambda=0.0 will be ignored. Current value: lambda_l2=1.174697313213989\n"
          ]
        },
        {
          "output_type": "stream",
          "name": "stderr",
          "text": [
            "'verbose' argument is deprecated and will be removed in a future release of LightGBM. Pass 'log_evaluation()' callback via 'callbacks' argument instead.\n"
          ]
        },
        {
          "output_type": "stream",
          "name": "stdout",
          "text": [
            "[LightGBM] [Warning] lambda_l1 is set=3.3797409955554167, reg_alpha=0.0 will be ignored. Current value: lambda_l1=3.3797409955554167\n",
            "[LightGBM] [Warning] lambda_l2 is set=1.174697313213989, reg_lambda=0.0 will be ignored. Current value: lambda_l2=1.174697313213989\n"
          ]
        },
        {
          "output_type": "stream",
          "name": "stderr",
          "text": [
            "'verbose' argument is deprecated and will be removed in a future release of LightGBM. Pass 'log_evaluation()' callback via 'callbacks' argument instead.\n"
          ]
        },
        {
          "output_type": "stream",
          "name": "stdout",
          "text": [
            "[LightGBM] [Warning] lambda_l1 is set=3.3797409955554167, reg_alpha=0.0 will be ignored. Current value: lambda_l1=3.3797409955554167\n",
            "[LightGBM] [Warning] lambda_l2 is set=1.174697313213989, reg_lambda=0.0 will be ignored. Current value: lambda_l2=1.174697313213989\n"
          ]
        },
        {
          "output_type": "stream",
          "name": "stderr",
          "text": [
            "'verbose' argument is deprecated and will be removed in a future release of LightGBM. Pass 'log_evaluation()' callback via 'callbacks' argument instead.\n"
          ]
        },
        {
          "output_type": "stream",
          "name": "stdout",
          "text": [
            "[LightGBM] [Warning] lambda_l1 is set=3.3797409955554167, reg_alpha=0.0 will be ignored. Current value: lambda_l1=3.3797409955554167\n",
            "[LightGBM] [Warning] lambda_l2 is set=1.174697313213989, reg_lambda=0.0 will be ignored. Current value: lambda_l2=1.174697313213989\n"
          ]
        },
        {
          "output_type": "stream",
          "name": "stderr",
          "text": [
            "'verbose' argument is deprecated and will be removed in a future release of LightGBM. Pass 'log_evaluation()' callback via 'callbacks' argument instead.\n"
          ]
        },
        {
          "output_type": "stream",
          "name": "stdout",
          "text": [
            "[LightGBM] [Warning] lambda_l1 is set=3.3797409955554167, reg_alpha=0.0 will be ignored. Current value: lambda_l1=3.3797409955554167\n",
            "[LightGBM] [Warning] lambda_l2 is set=1.174697313213989, reg_lambda=0.0 will be ignored. Current value: lambda_l2=1.174697313213989\n"
          ]
        },
        {
          "output_type": "stream",
          "name": "stderr",
          "text": [
            "'verbose' argument is deprecated and will be removed in a future release of LightGBM. Pass 'log_evaluation()' callback via 'callbacks' argument instead.\n"
          ]
        },
        {
          "output_type": "stream",
          "name": "stdout",
          "text": [
            "[LightGBM] [Warning] lambda_l1 is set=3.3797409955554167, reg_alpha=0.0 will be ignored. Current value: lambda_l1=3.3797409955554167\n",
            "[LightGBM] [Warning] lambda_l2 is set=1.174697313213989, reg_lambda=0.0 will be ignored. Current value: lambda_l2=1.174697313213989\n"
          ]
        },
        {
          "output_type": "stream",
          "name": "stderr",
          "text": [
            "'verbose' argument is deprecated and will be removed in a future release of LightGBM. Pass 'log_evaluation()' callback via 'callbacks' argument instead.\n"
          ]
        },
        {
          "output_type": "stream",
          "name": "stdout",
          "text": [
            "[LightGBM] [Warning] lambda_l1 is set=3.3797409955554167, reg_alpha=0.0 will be ignored. Current value: lambda_l1=3.3797409955554167\n",
            "[LightGBM] [Warning] lambda_l2 is set=1.174697313213989, reg_lambda=0.0 will be ignored. Current value: lambda_l2=1.174697313213989\n"
          ]
        },
        {
          "output_type": "stream",
          "name": "stderr",
          "text": [
            "'verbose' argument is deprecated and will be removed in a future release of LightGBM. Pass 'log_evaluation()' callback via 'callbacks' argument instead.\n"
          ]
        },
        {
          "output_type": "stream",
          "name": "stdout",
          "text": [
            "[LightGBM] [Warning] lambda_l1 is set=3.3797409955554167, reg_alpha=0.0 will be ignored. Current value: lambda_l1=3.3797409955554167\n",
            "[LightGBM] [Warning] lambda_l2 is set=1.174697313213989, reg_lambda=0.0 will be ignored. Current value: lambda_l2=1.174697313213989\n"
          ]
        },
        {
          "output_type": "stream",
          "name": "stderr",
          "text": [
            "'verbose' argument is deprecated and will be removed in a future release of LightGBM. Pass 'log_evaluation()' callback via 'callbacks' argument instead.\n"
          ]
        },
        {
          "output_type": "stream",
          "name": "stdout",
          "text": [
            "[LightGBM] [Warning] lambda_l1 is set=3.3797409955554167, reg_alpha=0.0 will be ignored. Current value: lambda_l1=3.3797409955554167\n",
            "[LightGBM] [Warning] lambda_l2 is set=1.174697313213989, reg_lambda=0.0 will be ignored. Current value: lambda_l2=1.174697313213989\n"
          ]
        },
        {
          "output_type": "stream",
          "name": "stderr",
          "text": [
            "'verbose' argument is deprecated and will be removed in a future release of LightGBM. Pass 'log_evaluation()' callback via 'callbacks' argument instead.\n"
          ]
        },
        {
          "output_type": "stream",
          "name": "stdout",
          "text": [
            "[LightGBM] [Warning] lambda_l1 is set=3.3797409955554167, reg_alpha=0.0 will be ignored. Current value: lambda_l1=3.3797409955554167\n",
            "[LightGBM] [Warning] lambda_l2 is set=1.174697313213989, reg_lambda=0.0 will be ignored. Current value: lambda_l2=1.174697313213989\n"
          ]
        },
        {
          "output_type": "stream",
          "name": "stderr",
          "text": [
            "\u001b[32m[I 2023-04-17 03:10:42,090]\u001b[0m Trial 7 finished with value: 28828.424902652885 and parameters: {'n_estimators': 292, 'num_leaves': 37, 'max_depth': 26, 'learning_rate': 0.029213529009984474, 'colsample_bytree': 0.8362108744860639, 'subsample': 0.7831321771124967, 'lambda_l1': 3.3797409955554167, 'lambda_l2': 1.174697313213989, 'min_child_weight': 37.982597154539384}. Best is trial 5 with value: 28068.90609651451.\u001b[0m\n",
            "suggest_loguniform has been deprecated in v3.0.0. This feature will be removed in v6.0.0. See https://github.com/optuna/optuna/releases/tag/v3.0.0. Use :func:`~optuna.trial.Trial.suggest_float` instead.\n",
            "The least populated class in y has only 1 members, which is less than n_splits=10.\n",
            "'verbose' argument is deprecated and will be removed in a future release of LightGBM. Pass 'log_evaluation()' callback via 'callbacks' argument instead.\n",
            "'verbose' argument is deprecated and will be removed in a future release of LightGBM. Pass 'log_evaluation()' callback via 'callbacks' argument instead.\n",
            "'verbose' argument is deprecated and will be removed in a future release of LightGBM. Pass 'log_evaluation()' callback via 'callbacks' argument instead.\n",
            "'verbose' argument is deprecated and will be removed in a future release of LightGBM. Pass 'log_evaluation()' callback via 'callbacks' argument instead.\n",
            "'verbose' argument is deprecated and will be removed in a future release of LightGBM. Pass 'log_evaluation()' callback via 'callbacks' argument instead.\n"
          ]
        },
        {
          "output_type": "stream",
          "name": "stdout",
          "text": [
            "[LightGBM] [Warning] lambda_l1 is set=3.0409778195262094, reg_alpha=0.0 will be ignored. Current value: lambda_l1=3.0409778195262094\n",
            "[LightGBM] [Warning] lambda_l2 is set=2.9153548654825663, reg_lambda=0.0 will be ignored. Current value: lambda_l2=2.9153548654825663\n",
            "[LightGBM] [Warning] lambda_l1 is set=3.0409778195262094, reg_alpha=0.0 will be ignored. Current value: lambda_l1=3.0409778195262094\n",
            "[LightGBM] [Warning] lambda_l2 is set=2.9153548654825663, reg_lambda=0.0 will be ignored. Current value: lambda_l2=2.9153548654825663\n",
            "[LightGBM] [Warning] lambda_l1 is set=3.0409778195262094, reg_alpha=0.0 will be ignored. Current value: lambda_l1=3.0409778195262094\n",
            "[LightGBM] [Warning] lambda_l2 is set=2.9153548654825663, reg_lambda=0.0 will be ignored. Current value: lambda_l2=2.9153548654825663\n",
            "[LightGBM] [Warning] lambda_l1 is set=3.0409778195262094, reg_alpha=0.0 will be ignored. Current value: lambda_l1=3.0409778195262094\n",
            "[LightGBM] [Warning] lambda_l2 is set=2.9153548654825663, reg_lambda=0.0 will be ignored. Current value: lambda_l2=2.9153548654825663\n",
            "[LightGBM] [Warning] lambda_l1 is set=3.0409778195262094, reg_alpha=0.0 will be ignored. Current value: lambda_l1=3.0409778195262094\n",
            "[LightGBM] [Warning] lambda_l2 is set=2.9153548654825663, reg_lambda=0.0 will be ignored. Current value: lambda_l2=2.9153548654825663\n"
          ]
        },
        {
          "output_type": "stream",
          "name": "stderr",
          "text": [
            "'verbose' argument is deprecated and will be removed in a future release of LightGBM. Pass 'log_evaluation()' callback via 'callbacks' argument instead.\n",
            "'verbose' argument is deprecated and will be removed in a future release of LightGBM. Pass 'log_evaluation()' callback via 'callbacks' argument instead.\n",
            "'verbose' argument is deprecated and will be removed in a future release of LightGBM. Pass 'log_evaluation()' callback via 'callbacks' argument instead.\n",
            "'verbose' argument is deprecated and will be removed in a future release of LightGBM. Pass 'log_evaluation()' callback via 'callbacks' argument instead.\n",
            "'verbose' argument is deprecated and will be removed in a future release of LightGBM. Pass 'log_evaluation()' callback via 'callbacks' argument instead.\n"
          ]
        },
        {
          "output_type": "stream",
          "name": "stdout",
          "text": [
            "[LightGBM] [Warning] lambda_l1 is set=3.0409778195262094, reg_alpha=0.0 will be ignored. Current value: lambda_l1=3.0409778195262094\n",
            "[LightGBM] [Warning] lambda_l2 is set=2.9153548654825663, reg_lambda=0.0 will be ignored. Current value: lambda_l2=2.9153548654825663\n",
            "[LightGBM] [Warning] lambda_l1 is set=3.0409778195262094, reg_alpha=0.0 will be ignored. Current value: lambda_l1=3.0409778195262094\n",
            "[LightGBM] [Warning] lambda_l2 is set=2.9153548654825663, reg_lambda=0.0 will be ignored. Current value: lambda_l2=2.9153548654825663\n",
            "[LightGBM] [Warning] lambda_l1 is set=3.0409778195262094, reg_alpha=0.0 will be ignored. Current value: lambda_l1=3.0409778195262094\n",
            "[LightGBM] [Warning] lambda_l2 is set=2.9153548654825663, reg_lambda=0.0 will be ignored. Current value: lambda_l2=2.9153548654825663\n",
            "[LightGBM] [Warning] lambda_l1 is set=3.0409778195262094, reg_alpha=0.0 will be ignored. Current value: lambda_l1=3.0409778195262094\n",
            "[LightGBM] [Warning] lambda_l2 is set=2.9153548654825663, reg_lambda=0.0 will be ignored. Current value: lambda_l2=2.9153548654825663\n",
            "[LightGBM] [Warning] lambda_l1 is set=3.0409778195262094, reg_alpha=0.0 will be ignored. Current value: lambda_l1=3.0409778195262094\n",
            "[LightGBM] [Warning] lambda_l2 is set=2.9153548654825663, reg_lambda=0.0 will be ignored. Current value: lambda_l2=2.9153548654825663\n"
          ]
        },
        {
          "output_type": "stream",
          "name": "stderr",
          "text": [
            "\u001b[32m[I 2023-04-17 03:10:42,553]\u001b[0m Trial 8 finished with value: 53945.67979311933 and parameters: {'n_estimators': 53, 'num_leaves': 83, 'max_depth': 11, 'learning_rate': 0.011498898094579645, 'colsample_bytree': 0.7463801489428858, 'subsample': 0.7588200978151923, 'lambda_l1': 3.0409778195262094, 'lambda_l2': 2.9153548654825663, 'min_child_weight': 39.346472633705275}. Best is trial 5 with value: 28068.90609651451.\u001b[0m\n",
            "suggest_loguniform has been deprecated in v3.0.0. This feature will be removed in v6.0.0. See https://github.com/optuna/optuna/releases/tag/v3.0.0. Use :func:`~optuna.trial.Trial.suggest_float` instead.\n",
            "The least populated class in y has only 1 members, which is less than n_splits=10.\n",
            "'verbose' argument is deprecated and will be removed in a future release of LightGBM. Pass 'log_evaluation()' callback via 'callbacks' argument instead.\n"
          ]
        },
        {
          "output_type": "stream",
          "name": "stdout",
          "text": [
            "[LightGBM] [Warning] lambda_l1 is set=0.1668993434714794, reg_alpha=0.0 will be ignored. Current value: lambda_l1=0.1668993434714794\n",
            "[LightGBM] [Warning] lambda_l2 is set=1.3379284436027148, reg_lambda=0.0 will be ignored. Current value: lambda_l2=1.3379284436027148\n",
            "[LightGBM] [Warning] lambda_l1 is set=0.1668993434714794, reg_alpha=0.0 will be ignored. Current value: lambda_l1=0.1668993434714794\n",
            "[LightGBM] [Warning] lambda_l2 is set=1.3379284436027148, reg_lambda=0.0 will be ignored. Current value: lambda_l2=1.3379284436027148\n"
          ]
        },
        {
          "output_type": "stream",
          "name": "stderr",
          "text": [
            "'verbose' argument is deprecated and will be removed in a future release of LightGBM. Pass 'log_evaluation()' callback via 'callbacks' argument instead.\n",
            "'verbose' argument is deprecated and will be removed in a future release of LightGBM. Pass 'log_evaluation()' callback via 'callbacks' argument instead.\n"
          ]
        },
        {
          "output_type": "stream",
          "name": "stdout",
          "text": [
            "[LightGBM] [Warning] lambda_l1 is set=0.1668993434714794, reg_alpha=0.0 will be ignored. Current value: lambda_l1=0.1668993434714794\n",
            "[LightGBM] [Warning] lambda_l2 is set=1.3379284436027148, reg_lambda=0.0 will be ignored. Current value: lambda_l2=1.3379284436027148\n",
            "[LightGBM] [Warning] lambda_l1 is set=0.1668993434714794, reg_alpha=0.0 will be ignored. Current value: lambda_l1=0.1668993434714794\n",
            "[LightGBM] [Warning] lambda_l2 is set=1.3379284436027148, reg_lambda=0.0 will be ignored. Current value: lambda_l2=1.3379284436027148\n"
          ]
        },
        {
          "output_type": "stream",
          "name": "stderr",
          "text": [
            "'verbose' argument is deprecated and will be removed in a future release of LightGBM. Pass 'log_evaluation()' callback via 'callbacks' argument instead.\n",
            "'verbose' argument is deprecated and will be removed in a future release of LightGBM. Pass 'log_evaluation()' callback via 'callbacks' argument instead.\n"
          ]
        },
        {
          "output_type": "stream",
          "name": "stdout",
          "text": [
            "[LightGBM] [Warning] lambda_l1 is set=0.1668993434714794, reg_alpha=0.0 will be ignored. Current value: lambda_l1=0.1668993434714794\n",
            "[LightGBM] [Warning] lambda_l2 is set=1.3379284436027148, reg_lambda=0.0 will be ignored. Current value: lambda_l2=1.3379284436027148\n",
            "[LightGBM] [Warning] lambda_l1 is set=0.1668993434714794, reg_alpha=0.0 will be ignored. Current value: lambda_l1=0.1668993434714794\n",
            "[LightGBM] [Warning] lambda_l2 is set=1.3379284436027148, reg_lambda=0.0 will be ignored. Current value: lambda_l2=1.3379284436027148\n"
          ]
        },
        {
          "output_type": "stream",
          "name": "stderr",
          "text": [
            "'verbose' argument is deprecated and will be removed in a future release of LightGBM. Pass 'log_evaluation()' callback via 'callbacks' argument instead.\n",
            "'verbose' argument is deprecated and will be removed in a future release of LightGBM. Pass 'log_evaluation()' callback via 'callbacks' argument instead.\n"
          ]
        },
        {
          "output_type": "stream",
          "name": "stdout",
          "text": [
            "[LightGBM] [Warning] lambda_l1 is set=0.1668993434714794, reg_alpha=0.0 will be ignored. Current value: lambda_l1=0.1668993434714794\n",
            "[LightGBM] [Warning] lambda_l2 is set=1.3379284436027148, reg_lambda=0.0 will be ignored. Current value: lambda_l2=1.3379284436027148\n",
            "[LightGBM] [Warning] lambda_l1 is set=0.1668993434714794, reg_alpha=0.0 will be ignored. Current value: lambda_l1=0.1668993434714794\n",
            "[LightGBM] [Warning] lambda_l2 is set=1.3379284436027148, reg_lambda=0.0 will be ignored. Current value: lambda_l2=1.3379284436027148\n"
          ]
        },
        {
          "output_type": "stream",
          "name": "stderr",
          "text": [
            "'verbose' argument is deprecated and will be removed in a future release of LightGBM. Pass 'log_evaluation()' callback via 'callbacks' argument instead.\n",
            "'verbose' argument is deprecated and will be removed in a future release of LightGBM. Pass 'log_evaluation()' callback via 'callbacks' argument instead.\n"
          ]
        },
        {
          "output_type": "stream",
          "name": "stdout",
          "text": [
            "[LightGBM] [Warning] lambda_l1 is set=0.1668993434714794, reg_alpha=0.0 will be ignored. Current value: lambda_l1=0.1668993434714794\n",
            "[LightGBM] [Warning] lambda_l2 is set=1.3379284436027148, reg_lambda=0.0 will be ignored. Current value: lambda_l2=1.3379284436027148\n"
          ]
        },
        {
          "output_type": "stream",
          "name": "stderr",
          "text": [
            "'verbose' argument is deprecated and will be removed in a future release of LightGBM. Pass 'log_evaluation()' callback via 'callbacks' argument instead.\n",
            "\u001b[32m[I 2023-04-17 03:10:44,502]\u001b[0m Trial 9 finished with value: 29501.609246834014 and parameters: {'n_estimators': 261, 'num_leaves': 87, 'max_depth': 26, 'learning_rate': 0.011628907712676453, 'colsample_bytree': 0.5732664255374971, 'subsample': 0.7988895271338936, 'lambda_l1': 0.1668993434714794, 'lambda_l2': 1.3379284436027148, 'min_child_weight': 30.38590986039212}. Best is trial 5 with value: 28068.90609651451.\u001b[0m\n"
          ]
        },
        {
          "output_type": "stream",
          "name": "stdout",
          "text": [
            "[LightGBM] [Warning] lambda_l1 is set=0.1668993434714794, reg_alpha=0.0 will be ignored. Current value: lambda_l1=0.1668993434714794\n",
            "[LightGBM] [Warning] lambda_l2 is set=1.3379284436027148, reg_lambda=0.0 will be ignored. Current value: lambda_l2=1.3379284436027148\n"
          ]
        },
        {
          "output_type": "stream",
          "name": "stderr",
          "text": [
            "suggest_loguniform has been deprecated in v3.0.0. This feature will be removed in v6.0.0. See https://github.com/optuna/optuna/releases/tag/v3.0.0. Use :func:`~optuna.trial.Trial.suggest_float` instead.\n",
            "The least populated class in y has only 1 members, which is less than n_splits=10.\n",
            "'verbose' argument is deprecated and will be removed in a future release of LightGBM. Pass 'log_evaluation()' callback via 'callbacks' argument instead.\n"
          ]
        },
        {
          "output_type": "stream",
          "name": "stdout",
          "text": [
            "[LightGBM] [Warning] lambda_l1 is set=4.623637366794968, reg_alpha=0.0 will be ignored. Current value: lambda_l1=4.623637366794968\n",
            "[LightGBM] [Warning] lambda_l2 is set=0.41643604155780256, reg_lambda=0.0 will be ignored. Current value: lambda_l2=0.41643604155780256\n"
          ]
        },
        {
          "output_type": "stream",
          "name": "stderr",
          "text": [
            "'verbose' argument is deprecated and will be removed in a future release of LightGBM. Pass 'log_evaluation()' callback via 'callbacks' argument instead.\n"
          ]
        },
        {
          "output_type": "stream",
          "name": "stdout",
          "text": [
            "[LightGBM] [Warning] lambda_l1 is set=4.623637366794968, reg_alpha=0.0 will be ignored. Current value: lambda_l1=4.623637366794968\n",
            "[LightGBM] [Warning] lambda_l2 is set=0.41643604155780256, reg_lambda=0.0 will be ignored. Current value: lambda_l2=0.41643604155780256\n"
          ]
        },
        {
          "output_type": "stream",
          "name": "stderr",
          "text": [
            "'verbose' argument is deprecated and will be removed in a future release of LightGBM. Pass 'log_evaluation()' callback via 'callbacks' argument instead.\n"
          ]
        },
        {
          "output_type": "stream",
          "name": "stdout",
          "text": [
            "[LightGBM] [Warning] lambda_l1 is set=4.623637366794968, reg_alpha=0.0 will be ignored. Current value: lambda_l1=4.623637366794968\n",
            "[LightGBM] [Warning] lambda_l2 is set=0.41643604155780256, reg_lambda=0.0 will be ignored. Current value: lambda_l2=0.41643604155780256\n"
          ]
        },
        {
          "output_type": "stream",
          "name": "stderr",
          "text": [
            "'verbose' argument is deprecated and will be removed in a future release of LightGBM. Pass 'log_evaluation()' callback via 'callbacks' argument instead.\n"
          ]
        },
        {
          "output_type": "stream",
          "name": "stdout",
          "text": [
            "[LightGBM] [Warning] lambda_l1 is set=4.623637366794968, reg_alpha=0.0 will be ignored. Current value: lambda_l1=4.623637366794968\n",
            "[LightGBM] [Warning] lambda_l2 is set=0.41643604155780256, reg_lambda=0.0 will be ignored. Current value: lambda_l2=0.41643604155780256\n"
          ]
        },
        {
          "output_type": "stream",
          "name": "stderr",
          "text": [
            "'verbose' argument is deprecated and will be removed in a future release of LightGBM. Pass 'log_evaluation()' callback via 'callbacks' argument instead.\n"
          ]
        },
        {
          "output_type": "stream",
          "name": "stdout",
          "text": [
            "[LightGBM] [Warning] lambda_l1 is set=4.623637366794968, reg_alpha=0.0 will be ignored. Current value: lambda_l1=4.623637366794968\n",
            "[LightGBM] [Warning] lambda_l2 is set=0.41643604155780256, reg_lambda=0.0 will be ignored. Current value: lambda_l2=0.41643604155780256\n"
          ]
        },
        {
          "output_type": "stream",
          "name": "stderr",
          "text": [
            "'verbose' argument is deprecated and will be removed in a future release of LightGBM. Pass 'log_evaluation()' callback via 'callbacks' argument instead.\n"
          ]
        },
        {
          "output_type": "stream",
          "name": "stdout",
          "text": [
            "[LightGBM] [Warning] lambda_l1 is set=4.623637366794968, reg_alpha=0.0 will be ignored. Current value: lambda_l1=4.623637366794968\n",
            "[LightGBM] [Warning] lambda_l2 is set=0.41643604155780256, reg_lambda=0.0 will be ignored. Current value: lambda_l2=0.41643604155780256\n"
          ]
        },
        {
          "output_type": "stream",
          "name": "stderr",
          "text": [
            "'verbose' argument is deprecated and will be removed in a future release of LightGBM. Pass 'log_evaluation()' callback via 'callbacks' argument instead.\n"
          ]
        },
        {
          "output_type": "stream",
          "name": "stdout",
          "text": [
            "[LightGBM] [Warning] lambda_l1 is set=4.623637366794968, reg_alpha=0.0 will be ignored. Current value: lambda_l1=4.623637366794968\n",
            "[LightGBM] [Warning] lambda_l2 is set=0.41643604155780256, reg_lambda=0.0 will be ignored. Current value: lambda_l2=0.41643604155780256\n"
          ]
        },
        {
          "output_type": "stream",
          "name": "stderr",
          "text": [
            "'verbose' argument is deprecated and will be removed in a future release of LightGBM. Pass 'log_evaluation()' callback via 'callbacks' argument instead.\n"
          ]
        },
        {
          "output_type": "stream",
          "name": "stdout",
          "text": [
            "[LightGBM] [Warning] lambda_l1 is set=4.623637366794968, reg_alpha=0.0 will be ignored. Current value: lambda_l1=4.623637366794968\n",
            "[LightGBM] [Warning] lambda_l2 is set=0.41643604155780256, reg_lambda=0.0 will be ignored. Current value: lambda_l2=0.41643604155780256\n"
          ]
        },
        {
          "output_type": "stream",
          "name": "stderr",
          "text": [
            "'verbose' argument is deprecated and will be removed in a future release of LightGBM. Pass 'log_evaluation()' callback via 'callbacks' argument instead.\n"
          ]
        },
        {
          "output_type": "stream",
          "name": "stdout",
          "text": [
            "[LightGBM] [Warning] lambda_l1 is set=4.623637366794968, reg_alpha=0.0 will be ignored. Current value: lambda_l1=4.623637366794968\n",
            "[LightGBM] [Warning] lambda_l2 is set=0.41643604155780256, reg_lambda=0.0 will be ignored. Current value: lambda_l2=0.41643604155780256\n"
          ]
        },
        {
          "output_type": "stream",
          "name": "stderr",
          "text": [
            "'verbose' argument is deprecated and will be removed in a future release of LightGBM. Pass 'log_evaluation()' callback via 'callbacks' argument instead.\n"
          ]
        },
        {
          "output_type": "stream",
          "name": "stdout",
          "text": [
            "[LightGBM] [Warning] lambda_l1 is set=4.623637366794968, reg_alpha=0.0 will be ignored. Current value: lambda_l1=4.623637366794968\n",
            "[LightGBM] [Warning] lambda_l2 is set=0.41643604155780256, reg_lambda=0.0 will be ignored. Current value: lambda_l2=0.41643604155780256\n"
          ]
        },
        {
          "output_type": "stream",
          "name": "stderr",
          "text": [
            "\u001b[32m[I 2023-04-17 03:10:48,457]\u001b[0m Trial 10 finished with value: 28955.35097173706 and parameters: {'n_estimators': 964, 'num_leaves': 98, 'max_depth': 6, 'learning_rate': 0.2423697403655753, 'colsample_bytree': 0.5039451797153821, 'subsample': 0.709664308077658, 'lambda_l1': 4.623637366794968, 'lambda_l2': 0.41643604155780256, 'min_child_weight': 4.153172304466409}. Best is trial 5 with value: 28068.90609651451.\u001b[0m\n",
            "suggest_loguniform has been deprecated in v3.0.0. This feature will be removed in v6.0.0. See https://github.com/optuna/optuna/releases/tag/v3.0.0. Use :func:`~optuna.trial.Trial.suggest_float` instead.\n",
            "The least populated class in y has only 1 members, which is less than n_splits=10.\n",
            "'verbose' argument is deprecated and will be removed in a future release of LightGBM. Pass 'log_evaluation()' callback via 'callbacks' argument instead.\n"
          ]
        },
        {
          "output_type": "stream",
          "name": "stdout",
          "text": [
            "[LightGBM] [Warning] lambda_l1 is set=1.998495850284851, reg_alpha=0.0 will be ignored. Current value: lambda_l1=1.998495850284851\n",
            "[LightGBM] [Warning] lambda_l2 is set=2.1251214066394013, reg_lambda=0.0 will be ignored. Current value: lambda_l2=2.1251214066394013\n"
          ]
        },
        {
          "output_type": "stream",
          "name": "stderr",
          "text": [
            "'verbose' argument is deprecated and will be removed in a future release of LightGBM. Pass 'log_evaluation()' callback via 'callbacks' argument instead.\n"
          ]
        },
        {
          "output_type": "stream",
          "name": "stdout",
          "text": [
            "[LightGBM] [Warning] lambda_l1 is set=1.998495850284851, reg_alpha=0.0 will be ignored. Current value: lambda_l1=1.998495850284851\n",
            "[LightGBM] [Warning] lambda_l2 is set=2.1251214066394013, reg_lambda=0.0 will be ignored. Current value: lambda_l2=2.1251214066394013\n"
          ]
        },
        {
          "output_type": "stream",
          "name": "stderr",
          "text": [
            "'verbose' argument is deprecated and will be removed in a future release of LightGBM. Pass 'log_evaluation()' callback via 'callbacks' argument instead.\n"
          ]
        },
        {
          "output_type": "stream",
          "name": "stdout",
          "text": [
            "[LightGBM] [Warning] lambda_l1 is set=1.998495850284851, reg_alpha=0.0 will be ignored. Current value: lambda_l1=1.998495850284851\n",
            "[LightGBM] [Warning] lambda_l2 is set=2.1251214066394013, reg_lambda=0.0 will be ignored. Current value: lambda_l2=2.1251214066394013\n"
          ]
        },
        {
          "output_type": "stream",
          "name": "stderr",
          "text": [
            "'verbose' argument is deprecated and will be removed in a future release of LightGBM. Pass 'log_evaluation()' callback via 'callbacks' argument instead.\n"
          ]
        },
        {
          "output_type": "stream",
          "name": "stdout",
          "text": [
            "[LightGBM] [Warning] lambda_l1 is set=1.998495850284851, reg_alpha=0.0 will be ignored. Current value: lambda_l1=1.998495850284851\n",
            "[LightGBM] [Warning] lambda_l2 is set=2.1251214066394013, reg_lambda=0.0 will be ignored. Current value: lambda_l2=2.1251214066394013\n"
          ]
        },
        {
          "output_type": "stream",
          "name": "stderr",
          "text": [
            "'verbose' argument is deprecated and will be removed in a future release of LightGBM. Pass 'log_evaluation()' callback via 'callbacks' argument instead.\n"
          ]
        },
        {
          "output_type": "stream",
          "name": "stdout",
          "text": [
            "[LightGBM] [Warning] lambda_l1 is set=1.998495850284851, reg_alpha=0.0 will be ignored. Current value: lambda_l1=1.998495850284851\n",
            "[LightGBM] [Warning] lambda_l2 is set=2.1251214066394013, reg_lambda=0.0 will be ignored. Current value: lambda_l2=2.1251214066394013\n"
          ]
        },
        {
          "output_type": "stream",
          "name": "stderr",
          "text": [
            "'verbose' argument is deprecated and will be removed in a future release of LightGBM. Pass 'log_evaluation()' callback via 'callbacks' argument instead.\n"
          ]
        },
        {
          "output_type": "stream",
          "name": "stdout",
          "text": [
            "[LightGBM] [Warning] lambda_l1 is set=1.998495850284851, reg_alpha=0.0 will be ignored. Current value: lambda_l1=1.998495850284851\n",
            "[LightGBM] [Warning] lambda_l2 is set=2.1251214066394013, reg_lambda=0.0 will be ignored. Current value: lambda_l2=2.1251214066394013\n"
          ]
        },
        {
          "output_type": "stream",
          "name": "stderr",
          "text": [
            "'verbose' argument is deprecated and will be removed in a future release of LightGBM. Pass 'log_evaluation()' callback via 'callbacks' argument instead.\n"
          ]
        },
        {
          "output_type": "stream",
          "name": "stdout",
          "text": [
            "[LightGBM] [Warning] lambda_l1 is set=1.998495850284851, reg_alpha=0.0 will be ignored. Current value: lambda_l1=1.998495850284851\n",
            "[LightGBM] [Warning] lambda_l2 is set=2.1251214066394013, reg_lambda=0.0 will be ignored. Current value: lambda_l2=2.1251214066394013\n"
          ]
        },
        {
          "output_type": "stream",
          "name": "stderr",
          "text": [
            "'verbose' argument is deprecated and will be removed in a future release of LightGBM. Pass 'log_evaluation()' callback via 'callbacks' argument instead.\n"
          ]
        },
        {
          "output_type": "stream",
          "name": "stdout",
          "text": [
            "[LightGBM] [Warning] lambda_l1 is set=1.998495850284851, reg_alpha=0.0 will be ignored. Current value: lambda_l1=1.998495850284851\n",
            "[LightGBM] [Warning] lambda_l2 is set=2.1251214066394013, reg_lambda=0.0 will be ignored. Current value: lambda_l2=2.1251214066394013\n"
          ]
        },
        {
          "output_type": "stream",
          "name": "stderr",
          "text": [
            "'verbose' argument is deprecated and will be removed in a future release of LightGBM. Pass 'log_evaluation()' callback via 'callbacks' argument instead.\n"
          ]
        },
        {
          "output_type": "stream",
          "name": "stdout",
          "text": [
            "[LightGBM] [Warning] lambda_l1 is set=1.998495850284851, reg_alpha=0.0 will be ignored. Current value: lambda_l1=1.998495850284851\n",
            "[LightGBM] [Warning] lambda_l2 is set=2.1251214066394013, reg_lambda=0.0 will be ignored. Current value: lambda_l2=2.1251214066394013\n"
          ]
        },
        {
          "output_type": "stream",
          "name": "stderr",
          "text": [
            "'verbose' argument is deprecated and will be removed in a future release of LightGBM. Pass 'log_evaluation()' callback via 'callbacks' argument instead.\n"
          ]
        },
        {
          "output_type": "stream",
          "name": "stdout",
          "text": [
            "[LightGBM] [Warning] lambda_l1 is set=1.998495850284851, reg_alpha=0.0 will be ignored. Current value: lambda_l1=1.998495850284851\n",
            "[LightGBM] [Warning] lambda_l2 is set=2.1251214066394013, reg_lambda=0.0 will be ignored. Current value: lambda_l2=2.1251214066394013\n"
          ]
        },
        {
          "output_type": "stream",
          "name": "stderr",
          "text": [
            "\u001b[32m[I 2023-04-17 03:10:53,670]\u001b[0m Trial 11 finished with value: 28240.359891178174 and parameters: {'n_estimators': 443, 'num_leaves': 43, 'max_depth': 15, 'learning_rate': 0.016948810455406856, 'colsample_bytree': 0.6550982518709982, 'subsample': 0.7495136528447012, 'lambda_l1': 1.998495850284851, 'lambda_l2': 2.1251214066394013, 'min_child_weight': 22.34434511453758}. Best is trial 5 with value: 28068.90609651451.\u001b[0m\n",
            "suggest_loguniform has been deprecated in v3.0.0. This feature will be removed in v6.0.0. See https://github.com/optuna/optuna/releases/tag/v3.0.0. Use :func:`~optuna.trial.Trial.suggest_float` instead.\n",
            "The least populated class in y has only 1 members, which is less than n_splits=10.\n",
            "'verbose' argument is deprecated and will be removed in a future release of LightGBM. Pass 'log_evaluation()' callback via 'callbacks' argument instead.\n"
          ]
        },
        {
          "output_type": "stream",
          "name": "stdout",
          "text": [
            "[LightGBM] [Warning] lambda_l1 is set=1.7781464261605766, reg_alpha=0.0 will be ignored. Current value: lambda_l1=1.7781464261605766\n",
            "[LightGBM] [Warning] lambda_l2 is set=1.9774635759192494, reg_lambda=0.0 will be ignored. Current value: lambda_l2=1.9774635759192494\n"
          ]
        },
        {
          "output_type": "stream",
          "name": "stderr",
          "text": [
            "'verbose' argument is deprecated and will be removed in a future release of LightGBM. Pass 'log_evaluation()' callback via 'callbacks' argument instead.\n"
          ]
        },
        {
          "output_type": "stream",
          "name": "stdout",
          "text": [
            "[LightGBM] [Warning] lambda_l1 is set=1.7781464261605766, reg_alpha=0.0 will be ignored. Current value: lambda_l1=1.7781464261605766\n",
            "[LightGBM] [Warning] lambda_l2 is set=1.9774635759192494, reg_lambda=0.0 will be ignored. Current value: lambda_l2=1.9774635759192494\n"
          ]
        },
        {
          "output_type": "stream",
          "name": "stderr",
          "text": [
            "'verbose' argument is deprecated and will be removed in a future release of LightGBM. Pass 'log_evaluation()' callback via 'callbacks' argument instead.\n"
          ]
        },
        {
          "output_type": "stream",
          "name": "stdout",
          "text": [
            "[LightGBM] [Warning] lambda_l1 is set=1.7781464261605766, reg_alpha=0.0 will be ignored. Current value: lambda_l1=1.7781464261605766\n",
            "[LightGBM] [Warning] lambda_l2 is set=1.9774635759192494, reg_lambda=0.0 will be ignored. Current value: lambda_l2=1.9774635759192494\n"
          ]
        },
        {
          "output_type": "stream",
          "name": "stderr",
          "text": [
            "'verbose' argument is deprecated and will be removed in a future release of LightGBM. Pass 'log_evaluation()' callback via 'callbacks' argument instead.\n"
          ]
        },
        {
          "output_type": "stream",
          "name": "stdout",
          "text": [
            "[LightGBM] [Warning] lambda_l1 is set=1.7781464261605766, reg_alpha=0.0 will be ignored. Current value: lambda_l1=1.7781464261605766\n",
            "[LightGBM] [Warning] lambda_l2 is set=1.9774635759192494, reg_lambda=0.0 will be ignored. Current value: lambda_l2=1.9774635759192494\n"
          ]
        },
        {
          "output_type": "stream",
          "name": "stderr",
          "text": [
            "'verbose' argument is deprecated and will be removed in a future release of LightGBM. Pass 'log_evaluation()' callback via 'callbacks' argument instead.\n"
          ]
        },
        {
          "output_type": "stream",
          "name": "stdout",
          "text": [
            "[LightGBM] [Warning] lambda_l1 is set=1.7781464261605766, reg_alpha=0.0 will be ignored. Current value: lambda_l1=1.7781464261605766\n",
            "[LightGBM] [Warning] lambda_l2 is set=1.9774635759192494, reg_lambda=0.0 will be ignored. Current value: lambda_l2=1.9774635759192494\n"
          ]
        },
        {
          "output_type": "stream",
          "name": "stderr",
          "text": [
            "'verbose' argument is deprecated and will be removed in a future release of LightGBM. Pass 'log_evaluation()' callback via 'callbacks' argument instead.\n"
          ]
        },
        {
          "output_type": "stream",
          "name": "stdout",
          "text": [
            "[LightGBM] [Warning] lambda_l1 is set=1.7781464261605766, reg_alpha=0.0 will be ignored. Current value: lambda_l1=1.7781464261605766\n",
            "[LightGBM] [Warning] lambda_l2 is set=1.9774635759192494, reg_lambda=0.0 will be ignored. Current value: lambda_l2=1.9774635759192494\n"
          ]
        },
        {
          "output_type": "stream",
          "name": "stderr",
          "text": [
            "'verbose' argument is deprecated and will be removed in a future release of LightGBM. Pass 'log_evaluation()' callback via 'callbacks' argument instead.\n"
          ]
        },
        {
          "output_type": "stream",
          "name": "stdout",
          "text": [
            "[LightGBM] [Warning] lambda_l1 is set=1.7781464261605766, reg_alpha=0.0 will be ignored. Current value: lambda_l1=1.7781464261605766\n",
            "[LightGBM] [Warning] lambda_l2 is set=1.9774635759192494, reg_lambda=0.0 will be ignored. Current value: lambda_l2=1.9774635759192494\n"
          ]
        },
        {
          "output_type": "stream",
          "name": "stderr",
          "text": [
            "'verbose' argument is deprecated and will be removed in a future release of LightGBM. Pass 'log_evaluation()' callback via 'callbacks' argument instead.\n"
          ]
        },
        {
          "output_type": "stream",
          "name": "stdout",
          "text": [
            "[LightGBM] [Warning] lambda_l1 is set=1.7781464261605766, reg_alpha=0.0 will be ignored. Current value: lambda_l1=1.7781464261605766\n",
            "[LightGBM] [Warning] lambda_l2 is set=1.9774635759192494, reg_lambda=0.0 will be ignored. Current value: lambda_l2=1.9774635759192494\n"
          ]
        },
        {
          "output_type": "stream",
          "name": "stderr",
          "text": [
            "'verbose' argument is deprecated and will be removed in a future release of LightGBM. Pass 'log_evaluation()' callback via 'callbacks' argument instead.\n"
          ]
        },
        {
          "output_type": "stream",
          "name": "stdout",
          "text": [
            "[LightGBM] [Warning] lambda_l1 is set=1.7781464261605766, reg_alpha=0.0 will be ignored. Current value: lambda_l1=1.7781464261605766\n",
            "[LightGBM] [Warning] lambda_l2 is set=1.9774635759192494, reg_lambda=0.0 will be ignored. Current value: lambda_l2=1.9774635759192494\n"
          ]
        },
        {
          "output_type": "stream",
          "name": "stderr",
          "text": [
            "'verbose' argument is deprecated and will be removed in a future release of LightGBM. Pass 'log_evaluation()' callback via 'callbacks' argument instead.\n"
          ]
        },
        {
          "output_type": "stream",
          "name": "stdout",
          "text": [
            "[LightGBM] [Warning] lambda_l1 is set=1.7781464261605766, reg_alpha=0.0 will be ignored. Current value: lambda_l1=1.7781464261605766\n",
            "[LightGBM] [Warning] lambda_l2 is set=1.9774635759192494, reg_lambda=0.0 will be ignored. Current value: lambda_l2=1.9774635759192494\n"
          ]
        },
        {
          "output_type": "stream",
          "name": "stderr",
          "text": [
            "\u001b[32m[I 2023-04-17 03:10:57,036]\u001b[0m Trial 12 finished with value: 28255.498102640173 and parameters: {'n_estimators': 376, 'num_leaves': 38, 'max_depth': 15, 'learning_rate': 0.021639419092813708, 'colsample_bytree': 0.6444893877835142, 'subsample': 0.7570735547301097, 'lambda_l1': 1.7781464261605766, 'lambda_l2': 1.9774635759192494, 'min_child_weight': 19.779429378891997}. Best is trial 5 with value: 28068.90609651451.\u001b[0m\n",
            "suggest_loguniform has been deprecated in v3.0.0. This feature will be removed in v6.0.0. See https://github.com/optuna/optuna/releases/tag/v3.0.0. Use :func:`~optuna.trial.Trial.suggest_float` instead.\n",
            "The least populated class in y has only 1 members, which is less than n_splits=10.\n",
            "'verbose' argument is deprecated and will be removed in a future release of LightGBM. Pass 'log_evaluation()' callback via 'callbacks' argument instead.\n"
          ]
        },
        {
          "output_type": "stream",
          "name": "stdout",
          "text": [
            "[LightGBM] [Warning] lambda_l1 is set=3.871975777064545, reg_alpha=0.0 will be ignored. Current value: lambda_l1=3.871975777064545\n",
            "[LightGBM] [Warning] lambda_l2 is set=2.0052794032585197, reg_lambda=0.0 will be ignored. Current value: lambda_l2=2.0052794032585197\n"
          ]
        },
        {
          "output_type": "stream",
          "name": "stderr",
          "text": [
            "'verbose' argument is deprecated and will be removed in a future release of LightGBM. Pass 'log_evaluation()' callback via 'callbacks' argument instead.\n"
          ]
        },
        {
          "output_type": "stream",
          "name": "stdout",
          "text": [
            "[LightGBM] [Warning] lambda_l1 is set=3.871975777064545, reg_alpha=0.0 will be ignored. Current value: lambda_l1=3.871975777064545\n",
            "[LightGBM] [Warning] lambda_l2 is set=2.0052794032585197, reg_lambda=0.0 will be ignored. Current value: lambda_l2=2.0052794032585197\n"
          ]
        },
        {
          "output_type": "stream",
          "name": "stderr",
          "text": [
            "'verbose' argument is deprecated and will be removed in a future release of LightGBM. Pass 'log_evaluation()' callback via 'callbacks' argument instead.\n"
          ]
        },
        {
          "output_type": "stream",
          "name": "stdout",
          "text": [
            "[LightGBM] [Warning] lambda_l1 is set=3.871975777064545, reg_alpha=0.0 will be ignored. Current value: lambda_l1=3.871975777064545\n",
            "[LightGBM] [Warning] lambda_l2 is set=2.0052794032585197, reg_lambda=0.0 will be ignored. Current value: lambda_l2=2.0052794032585197\n"
          ]
        },
        {
          "output_type": "stream",
          "name": "stderr",
          "text": [
            "'verbose' argument is deprecated and will be removed in a future release of LightGBM. Pass 'log_evaluation()' callback via 'callbacks' argument instead.\n"
          ]
        },
        {
          "output_type": "stream",
          "name": "stdout",
          "text": [
            "[LightGBM] [Warning] lambda_l1 is set=3.871975777064545, reg_alpha=0.0 will be ignored. Current value: lambda_l1=3.871975777064545\n",
            "[LightGBM] [Warning] lambda_l2 is set=2.0052794032585197, reg_lambda=0.0 will be ignored. Current value: lambda_l2=2.0052794032585197\n"
          ]
        },
        {
          "output_type": "stream",
          "name": "stderr",
          "text": [
            "'verbose' argument is deprecated and will be removed in a future release of LightGBM. Pass 'log_evaluation()' callback via 'callbacks' argument instead.\n"
          ]
        },
        {
          "output_type": "stream",
          "name": "stdout",
          "text": [
            "[LightGBM] [Warning] lambda_l1 is set=3.871975777064545, reg_alpha=0.0 will be ignored. Current value: lambda_l1=3.871975777064545\n",
            "[LightGBM] [Warning] lambda_l2 is set=2.0052794032585197, reg_lambda=0.0 will be ignored. Current value: lambda_l2=2.0052794032585197\n"
          ]
        },
        {
          "output_type": "stream",
          "name": "stderr",
          "text": [
            "'verbose' argument is deprecated and will be removed in a future release of LightGBM. Pass 'log_evaluation()' callback via 'callbacks' argument instead.\n"
          ]
        },
        {
          "output_type": "stream",
          "name": "stdout",
          "text": [
            "[LightGBM] [Warning] lambda_l1 is set=3.871975777064545, reg_alpha=0.0 will be ignored. Current value: lambda_l1=3.871975777064545\n",
            "[LightGBM] [Warning] lambda_l2 is set=2.0052794032585197, reg_lambda=0.0 will be ignored. Current value: lambda_l2=2.0052794032585197\n"
          ]
        },
        {
          "output_type": "stream",
          "name": "stderr",
          "text": [
            "'verbose' argument is deprecated and will be removed in a future release of LightGBM. Pass 'log_evaluation()' callback via 'callbacks' argument instead.\n"
          ]
        },
        {
          "output_type": "stream",
          "name": "stdout",
          "text": [
            "[LightGBM] [Warning] lambda_l1 is set=3.871975777064545, reg_alpha=0.0 will be ignored. Current value: lambda_l1=3.871975777064545\n",
            "[LightGBM] [Warning] lambda_l2 is set=2.0052794032585197, reg_lambda=0.0 will be ignored. Current value: lambda_l2=2.0052794032585197\n"
          ]
        },
        {
          "output_type": "stream",
          "name": "stderr",
          "text": [
            "'verbose' argument is deprecated and will be removed in a future release of LightGBM. Pass 'log_evaluation()' callback via 'callbacks' argument instead.\n"
          ]
        },
        {
          "output_type": "stream",
          "name": "stdout",
          "text": [
            "[LightGBM] [Warning] lambda_l1 is set=3.871975777064545, reg_alpha=0.0 will be ignored. Current value: lambda_l1=3.871975777064545\n",
            "[LightGBM] [Warning] lambda_l2 is set=2.0052794032585197, reg_lambda=0.0 will be ignored. Current value: lambda_l2=2.0052794032585197\n"
          ]
        },
        {
          "output_type": "stream",
          "name": "stderr",
          "text": [
            "'verbose' argument is deprecated and will be removed in a future release of LightGBM. Pass 'log_evaluation()' callback via 'callbacks' argument instead.\n"
          ]
        },
        {
          "output_type": "stream",
          "name": "stdout",
          "text": [
            "[LightGBM] [Warning] lambda_l1 is set=3.871975777064545, reg_alpha=0.0 will be ignored. Current value: lambda_l1=3.871975777064545\n",
            "[LightGBM] [Warning] lambda_l2 is set=2.0052794032585197, reg_lambda=0.0 will be ignored. Current value: lambda_l2=2.0052794032585197\n"
          ]
        },
        {
          "output_type": "stream",
          "name": "stderr",
          "text": [
            "'verbose' argument is deprecated and will be removed in a future release of LightGBM. Pass 'log_evaluation()' callback via 'callbacks' argument instead.\n"
          ]
        },
        {
          "output_type": "stream",
          "name": "stdout",
          "text": [
            "[LightGBM] [Warning] lambda_l1 is set=3.871975777064545, reg_alpha=0.0 will be ignored. Current value: lambda_l1=3.871975777064545\n",
            "[LightGBM] [Warning] lambda_l2 is set=2.0052794032585197, reg_lambda=0.0 will be ignored. Current value: lambda_l2=2.0052794032585197\n"
          ]
        },
        {
          "output_type": "stream",
          "name": "stderr",
          "text": [
            "\u001b[32m[I 2023-04-17 03:11:00,929]\u001b[0m Trial 13 finished with value: 28288.773983643507 and parameters: {'n_estimators': 644, 'num_leaves': 21, 'max_depth': 11, 'learning_rate': 0.018931676318806243, 'colsample_bytree': 0.6638823014562841, 'subsample': 0.7474553609648743, 'lambda_l1': 3.871975777064545, 'lambda_l2': 2.0052794032585197, 'min_child_weight': 21.52557281672388}. Best is trial 5 with value: 28068.90609651451.\u001b[0m\n",
            "suggest_loguniform has been deprecated in v3.0.0. This feature will be removed in v6.0.0. See https://github.com/optuna/optuna/releases/tag/v3.0.0. Use :func:`~optuna.trial.Trial.suggest_float` instead.\n",
            "The least populated class in y has only 1 members, which is less than n_splits=10.\n",
            "'verbose' argument is deprecated and will be removed in a future release of LightGBM. Pass 'log_evaluation()' callback via 'callbacks' argument instead.\n"
          ]
        },
        {
          "output_type": "stream",
          "name": "stdout",
          "text": [
            "[LightGBM] [Warning] lambda_l1 is set=2.231021269452984, reg_alpha=0.0 will be ignored. Current value: lambda_l1=2.231021269452984\n",
            "[LightGBM] [Warning] lambda_l2 is set=2.312366881039064, reg_lambda=0.0 will be ignored. Current value: lambda_l2=2.312366881039064\n"
          ]
        },
        {
          "output_type": "stream",
          "name": "stderr",
          "text": [
            "'verbose' argument is deprecated and will be removed in a future release of LightGBM. Pass 'log_evaluation()' callback via 'callbacks' argument instead.\n"
          ]
        },
        {
          "output_type": "stream",
          "name": "stdout",
          "text": [
            "[LightGBM] [Warning] lambda_l1 is set=2.231021269452984, reg_alpha=0.0 will be ignored. Current value: lambda_l1=2.231021269452984\n",
            "[LightGBM] [Warning] lambda_l2 is set=2.312366881039064, reg_lambda=0.0 will be ignored. Current value: lambda_l2=2.312366881039064\n"
          ]
        },
        {
          "output_type": "stream",
          "name": "stderr",
          "text": [
            "'verbose' argument is deprecated and will be removed in a future release of LightGBM. Pass 'log_evaluation()' callback via 'callbacks' argument instead.\n"
          ]
        },
        {
          "output_type": "stream",
          "name": "stdout",
          "text": [
            "[LightGBM] [Warning] lambda_l1 is set=2.231021269452984, reg_alpha=0.0 will be ignored. Current value: lambda_l1=2.231021269452984\n",
            "[LightGBM] [Warning] lambda_l2 is set=2.312366881039064, reg_lambda=0.0 will be ignored. Current value: lambda_l2=2.312366881039064\n"
          ]
        },
        {
          "output_type": "stream",
          "name": "stderr",
          "text": [
            "'verbose' argument is deprecated and will be removed in a future release of LightGBM. Pass 'log_evaluation()' callback via 'callbacks' argument instead.\n"
          ]
        },
        {
          "output_type": "stream",
          "name": "stdout",
          "text": [
            "[LightGBM] [Warning] lambda_l1 is set=2.231021269452984, reg_alpha=0.0 will be ignored. Current value: lambda_l1=2.231021269452984\n",
            "[LightGBM] [Warning] lambda_l2 is set=2.312366881039064, reg_lambda=0.0 will be ignored. Current value: lambda_l2=2.312366881039064\n"
          ]
        },
        {
          "output_type": "stream",
          "name": "stderr",
          "text": [
            "'verbose' argument is deprecated and will be removed in a future release of LightGBM. Pass 'log_evaluation()' callback via 'callbacks' argument instead.\n"
          ]
        },
        {
          "output_type": "stream",
          "name": "stdout",
          "text": [
            "[LightGBM] [Warning] lambda_l1 is set=2.231021269452984, reg_alpha=0.0 will be ignored. Current value: lambda_l1=2.231021269452984\n",
            "[LightGBM] [Warning] lambda_l2 is set=2.312366881039064, reg_lambda=0.0 will be ignored. Current value: lambda_l2=2.312366881039064\n"
          ]
        },
        {
          "output_type": "stream",
          "name": "stderr",
          "text": [
            "'verbose' argument is deprecated and will be removed in a future release of LightGBM. Pass 'log_evaluation()' callback via 'callbacks' argument instead.\n"
          ]
        },
        {
          "output_type": "stream",
          "name": "stdout",
          "text": [
            "[LightGBM] [Warning] lambda_l1 is set=2.231021269452984, reg_alpha=0.0 will be ignored. Current value: lambda_l1=2.231021269452984\n",
            "[LightGBM] [Warning] lambda_l2 is set=2.312366881039064, reg_lambda=0.0 will be ignored. Current value: lambda_l2=2.312366881039064\n"
          ]
        },
        {
          "output_type": "stream",
          "name": "stderr",
          "text": [
            "'verbose' argument is deprecated and will be removed in a future release of LightGBM. Pass 'log_evaluation()' callback via 'callbacks' argument instead.\n"
          ]
        },
        {
          "output_type": "stream",
          "name": "stdout",
          "text": [
            "[LightGBM] [Warning] lambda_l1 is set=2.231021269452984, reg_alpha=0.0 will be ignored. Current value: lambda_l1=2.231021269452984\n",
            "[LightGBM] [Warning] lambda_l2 is set=2.312366881039064, reg_lambda=0.0 will be ignored. Current value: lambda_l2=2.312366881039064\n"
          ]
        },
        {
          "output_type": "stream",
          "name": "stderr",
          "text": [
            "'verbose' argument is deprecated and will be removed in a future release of LightGBM. Pass 'log_evaluation()' callback via 'callbacks' argument instead.\n"
          ]
        },
        {
          "output_type": "stream",
          "name": "stdout",
          "text": [
            "[LightGBM] [Warning] lambda_l1 is set=2.231021269452984, reg_alpha=0.0 will be ignored. Current value: lambda_l1=2.231021269452984\n",
            "[LightGBM] [Warning] lambda_l2 is set=2.312366881039064, reg_lambda=0.0 will be ignored. Current value: lambda_l2=2.312366881039064\n"
          ]
        },
        {
          "output_type": "stream",
          "name": "stderr",
          "text": [
            "'verbose' argument is deprecated and will be removed in a future release of LightGBM. Pass 'log_evaluation()' callback via 'callbacks' argument instead.\n"
          ]
        },
        {
          "output_type": "stream",
          "name": "stdout",
          "text": [
            "[LightGBM] [Warning] lambda_l1 is set=2.231021269452984, reg_alpha=0.0 will be ignored. Current value: lambda_l1=2.231021269452984\n",
            "[LightGBM] [Warning] lambda_l2 is set=2.312366881039064, reg_lambda=0.0 will be ignored. Current value: lambda_l2=2.312366881039064\n"
          ]
        },
        {
          "output_type": "stream",
          "name": "stderr",
          "text": [
            "'verbose' argument is deprecated and will be removed in a future release of LightGBM. Pass 'log_evaluation()' callback via 'callbacks' argument instead.\n"
          ]
        },
        {
          "output_type": "stream",
          "name": "stdout",
          "text": [
            "[LightGBM] [Warning] lambda_l1 is set=2.231021269452984, reg_alpha=0.0 will be ignored. Current value: lambda_l1=2.231021269452984\n",
            "[LightGBM] [Warning] lambda_l2 is set=2.312366881039064, reg_lambda=0.0 will be ignored. Current value: lambda_l2=2.312366881039064\n"
          ]
        },
        {
          "output_type": "stream",
          "name": "stderr",
          "text": [
            "\u001b[32m[I 2023-04-17 03:11:03,448]\u001b[0m Trial 14 finished with value: 29019.139582393524 and parameters: {'n_estimators': 813, 'num_leaves': 54, 'max_depth': 5, 'learning_rate': 0.05056947018819775, 'colsample_bytree': 0.6638984161614776, 'subsample': 0.7020297779506152, 'lambda_l1': 2.231021269452984, 'lambda_l2': 2.312366881039064, 'min_child_weight': 49.349466191045245}. Best is trial 5 with value: 28068.90609651451.\u001b[0m\n",
            "suggest_loguniform has been deprecated in v3.0.0. This feature will be removed in v6.0.0. See https://github.com/optuna/optuna/releases/tag/v3.0.0. Use :func:`~optuna.trial.Trial.suggest_float` instead.\n",
            "The least populated class in y has only 1 members, which is less than n_splits=10.\n",
            "'verbose' argument is deprecated and will be removed in a future release of LightGBM. Pass 'log_evaluation()' callback via 'callbacks' argument instead.\n"
          ]
        },
        {
          "output_type": "stream",
          "name": "stdout",
          "text": [
            "[LightGBM] [Warning] lambda_l1 is set=4.118386035927985, reg_alpha=0.0 will be ignored. Current value: lambda_l1=4.118386035927985\n",
            "[LightGBM] [Warning] lambda_l2 is set=1.654386655831167, reg_lambda=0.0 will be ignored. Current value: lambda_l2=1.654386655831167\n"
          ]
        },
        {
          "output_type": "stream",
          "name": "stderr",
          "text": [
            "'verbose' argument is deprecated and will be removed in a future release of LightGBM. Pass 'log_evaluation()' callback via 'callbacks' argument instead.\n"
          ]
        },
        {
          "output_type": "stream",
          "name": "stdout",
          "text": [
            "[LightGBM] [Warning] lambda_l1 is set=4.118386035927985, reg_alpha=0.0 will be ignored. Current value: lambda_l1=4.118386035927985\n",
            "[LightGBM] [Warning] lambda_l2 is set=1.654386655831167, reg_lambda=0.0 will be ignored. Current value: lambda_l2=1.654386655831167\n"
          ]
        },
        {
          "output_type": "stream",
          "name": "stderr",
          "text": [
            "'verbose' argument is deprecated and will be removed in a future release of LightGBM. Pass 'log_evaluation()' callback via 'callbacks' argument instead.\n"
          ]
        },
        {
          "output_type": "stream",
          "name": "stdout",
          "text": [
            "[LightGBM] [Warning] lambda_l1 is set=4.118386035927985, reg_alpha=0.0 will be ignored. Current value: lambda_l1=4.118386035927985\n",
            "[LightGBM] [Warning] lambda_l2 is set=1.654386655831167, reg_lambda=0.0 will be ignored. Current value: lambda_l2=1.654386655831167\n"
          ]
        },
        {
          "output_type": "stream",
          "name": "stderr",
          "text": [
            "'verbose' argument is deprecated and will be removed in a future release of LightGBM. Pass 'log_evaluation()' callback via 'callbacks' argument instead.\n"
          ]
        },
        {
          "output_type": "stream",
          "name": "stdout",
          "text": [
            "[LightGBM] [Warning] lambda_l1 is set=4.118386035927985, reg_alpha=0.0 will be ignored. Current value: lambda_l1=4.118386035927985\n",
            "[LightGBM] [Warning] lambda_l2 is set=1.654386655831167, reg_lambda=0.0 will be ignored. Current value: lambda_l2=1.654386655831167\n"
          ]
        },
        {
          "output_type": "stream",
          "name": "stderr",
          "text": [
            "'verbose' argument is deprecated and will be removed in a future release of LightGBM. Pass 'log_evaluation()' callback via 'callbacks' argument instead.\n"
          ]
        },
        {
          "output_type": "stream",
          "name": "stdout",
          "text": [
            "[LightGBM] [Warning] lambda_l1 is set=4.118386035927985, reg_alpha=0.0 will be ignored. Current value: lambda_l1=4.118386035927985\n",
            "[LightGBM] [Warning] lambda_l2 is set=1.654386655831167, reg_lambda=0.0 will be ignored. Current value: lambda_l2=1.654386655831167\n"
          ]
        },
        {
          "output_type": "stream",
          "name": "stderr",
          "text": [
            "'verbose' argument is deprecated and will be removed in a future release of LightGBM. Pass 'log_evaluation()' callback via 'callbacks' argument instead.\n"
          ]
        },
        {
          "output_type": "stream",
          "name": "stdout",
          "text": [
            "[LightGBM] [Warning] lambda_l1 is set=4.118386035927985, reg_alpha=0.0 will be ignored. Current value: lambda_l1=4.118386035927985\n",
            "[LightGBM] [Warning] lambda_l2 is set=1.654386655831167, reg_lambda=0.0 will be ignored. Current value: lambda_l2=1.654386655831167\n"
          ]
        },
        {
          "output_type": "stream",
          "name": "stderr",
          "text": [
            "'verbose' argument is deprecated and will be removed in a future release of LightGBM. Pass 'log_evaluation()' callback via 'callbacks' argument instead.\n"
          ]
        },
        {
          "output_type": "stream",
          "name": "stdout",
          "text": [
            "[LightGBM] [Warning] lambda_l1 is set=4.118386035927985, reg_alpha=0.0 will be ignored. Current value: lambda_l1=4.118386035927985\n",
            "[LightGBM] [Warning] lambda_l2 is set=1.654386655831167, reg_lambda=0.0 will be ignored. Current value: lambda_l2=1.654386655831167\n"
          ]
        },
        {
          "output_type": "stream",
          "name": "stderr",
          "text": [
            "'verbose' argument is deprecated and will be removed in a future release of LightGBM. Pass 'log_evaluation()' callback via 'callbacks' argument instead.\n"
          ]
        },
        {
          "output_type": "stream",
          "name": "stdout",
          "text": [
            "[LightGBM] [Warning] lambda_l1 is set=4.118386035927985, reg_alpha=0.0 will be ignored. Current value: lambda_l1=4.118386035927985\n",
            "[LightGBM] [Warning] lambda_l2 is set=1.654386655831167, reg_lambda=0.0 will be ignored. Current value: lambda_l2=1.654386655831167\n"
          ]
        },
        {
          "output_type": "stream",
          "name": "stderr",
          "text": [
            "'verbose' argument is deprecated and will be removed in a future release of LightGBM. Pass 'log_evaluation()' callback via 'callbacks' argument instead.\n"
          ]
        },
        {
          "output_type": "stream",
          "name": "stdout",
          "text": [
            "[LightGBM] [Warning] lambda_l1 is set=4.118386035927985, reg_alpha=0.0 will be ignored. Current value: lambda_l1=4.118386035927985\n",
            "[LightGBM] [Warning] lambda_l2 is set=1.654386655831167, reg_lambda=0.0 will be ignored. Current value: lambda_l2=1.654386655831167\n"
          ]
        },
        {
          "output_type": "stream",
          "name": "stderr",
          "text": [
            "'verbose' argument is deprecated and will be removed in a future release of LightGBM. Pass 'log_evaluation()' callback via 'callbacks' argument instead.\n"
          ]
        },
        {
          "output_type": "stream",
          "name": "stdout",
          "text": [
            "[LightGBM] [Warning] lambda_l1 is set=4.118386035927985, reg_alpha=0.0 will be ignored. Current value: lambda_l1=4.118386035927985\n",
            "[LightGBM] [Warning] lambda_l2 is set=1.654386655831167, reg_lambda=0.0 will be ignored. Current value: lambda_l2=1.654386655831167\n"
          ]
        },
        {
          "output_type": "stream",
          "name": "stderr",
          "text": [
            "\u001b[32m[I 2023-04-17 03:11:08,623]\u001b[0m Trial 15 finished with value: 28307.266543201258 and parameters: {'n_estimators': 470, 'num_leaves': 33, 'max_depth': 19, 'learning_rate': 0.016790909981755437, 'colsample_bytree': 0.6351557351884306, 'subsample': 0.7509712601633526, 'lambda_l1': 4.118386035927985, 'lambda_l2': 1.654386655831167, 'min_child_weight': 5.9429996329926364}. Best is trial 5 with value: 28068.90609651451.\u001b[0m\n",
            "suggest_loguniform has been deprecated in v3.0.0. This feature will be removed in v6.0.0. See https://github.com/optuna/optuna/releases/tag/v3.0.0. Use :func:`~optuna.trial.Trial.suggest_float` instead.\n",
            "The least populated class in y has only 1 members, which is less than n_splits=10.\n",
            "'verbose' argument is deprecated and will be removed in a future release of LightGBM. Pass 'log_evaluation()' callback via 'callbacks' argument instead.\n"
          ]
        },
        {
          "output_type": "stream",
          "name": "stdout",
          "text": [
            "[LightGBM] [Warning] lambda_l1 is set=2.3458971224435423, reg_alpha=0.0 will be ignored. Current value: lambda_l1=2.3458971224435423\n",
            "[LightGBM] [Warning] lambda_l2 is set=2.4594824722404107, reg_lambda=0.0 will be ignored. Current value: lambda_l2=2.4594824722404107\n"
          ]
        },
        {
          "output_type": "stream",
          "name": "stderr",
          "text": [
            "'verbose' argument is deprecated and will be removed in a future release of LightGBM. Pass 'log_evaluation()' callback via 'callbacks' argument instead.\n"
          ]
        },
        {
          "output_type": "stream",
          "name": "stdout",
          "text": [
            "[LightGBM] [Warning] lambda_l1 is set=2.3458971224435423, reg_alpha=0.0 will be ignored. Current value: lambda_l1=2.3458971224435423\n",
            "[LightGBM] [Warning] lambda_l2 is set=2.4594824722404107, reg_lambda=0.0 will be ignored. Current value: lambda_l2=2.4594824722404107\n"
          ]
        },
        {
          "output_type": "stream",
          "name": "stderr",
          "text": [
            "'verbose' argument is deprecated and will be removed in a future release of LightGBM. Pass 'log_evaluation()' callback via 'callbacks' argument instead.\n"
          ]
        },
        {
          "output_type": "stream",
          "name": "stdout",
          "text": [
            "[LightGBM] [Warning] lambda_l1 is set=2.3458971224435423, reg_alpha=0.0 will be ignored. Current value: lambda_l1=2.3458971224435423\n",
            "[LightGBM] [Warning] lambda_l2 is set=2.4594824722404107, reg_lambda=0.0 will be ignored. Current value: lambda_l2=2.4594824722404107\n"
          ]
        },
        {
          "output_type": "stream",
          "name": "stderr",
          "text": [
            "'verbose' argument is deprecated and will be removed in a future release of LightGBM. Pass 'log_evaluation()' callback via 'callbacks' argument instead.\n"
          ]
        },
        {
          "output_type": "stream",
          "name": "stdout",
          "text": [
            "[LightGBM] [Warning] lambda_l1 is set=2.3458971224435423, reg_alpha=0.0 will be ignored. Current value: lambda_l1=2.3458971224435423\n",
            "[LightGBM] [Warning] lambda_l2 is set=2.4594824722404107, reg_lambda=0.0 will be ignored. Current value: lambda_l2=2.4594824722404107\n"
          ]
        },
        {
          "output_type": "stream",
          "name": "stderr",
          "text": [
            "'verbose' argument is deprecated and will be removed in a future release of LightGBM. Pass 'log_evaluation()' callback via 'callbacks' argument instead.\n"
          ]
        },
        {
          "output_type": "stream",
          "name": "stdout",
          "text": [
            "[LightGBM] [Warning] lambda_l1 is set=2.3458971224435423, reg_alpha=0.0 will be ignored. Current value: lambda_l1=2.3458971224435423\n",
            "[LightGBM] [Warning] lambda_l2 is set=2.4594824722404107, reg_lambda=0.0 will be ignored. Current value: lambda_l2=2.4594824722404107\n"
          ]
        },
        {
          "output_type": "stream",
          "name": "stderr",
          "text": [
            "'verbose' argument is deprecated and will be removed in a future release of LightGBM. Pass 'log_evaluation()' callback via 'callbacks' argument instead.\n"
          ]
        },
        {
          "output_type": "stream",
          "name": "stdout",
          "text": [
            "[LightGBM] [Warning] lambda_l1 is set=2.3458971224435423, reg_alpha=0.0 will be ignored. Current value: lambda_l1=2.3458971224435423\n",
            "[LightGBM] [Warning] lambda_l2 is set=2.4594824722404107, reg_lambda=0.0 will be ignored. Current value: lambda_l2=2.4594824722404107\n"
          ]
        },
        {
          "output_type": "stream",
          "name": "stderr",
          "text": [
            "'verbose' argument is deprecated and will be removed in a future release of LightGBM. Pass 'log_evaluation()' callback via 'callbacks' argument instead.\n"
          ]
        },
        {
          "output_type": "stream",
          "name": "stdout",
          "text": [
            "[LightGBM] [Warning] lambda_l1 is set=2.3458971224435423, reg_alpha=0.0 will be ignored. Current value: lambda_l1=2.3458971224435423\n",
            "[LightGBM] [Warning] lambda_l2 is set=2.4594824722404107, reg_lambda=0.0 will be ignored. Current value: lambda_l2=2.4594824722404107\n"
          ]
        },
        {
          "output_type": "stream",
          "name": "stderr",
          "text": [
            "'verbose' argument is deprecated and will be removed in a future release of LightGBM. Pass 'log_evaluation()' callback via 'callbacks' argument instead.\n"
          ]
        },
        {
          "output_type": "stream",
          "name": "stdout",
          "text": [
            "[LightGBM] [Warning] lambda_l1 is set=2.3458971224435423, reg_alpha=0.0 will be ignored. Current value: lambda_l1=2.3458971224435423\n",
            "[LightGBM] [Warning] lambda_l2 is set=2.4594824722404107, reg_lambda=0.0 will be ignored. Current value: lambda_l2=2.4594824722404107\n"
          ]
        },
        {
          "output_type": "stream",
          "name": "stderr",
          "text": [
            "'verbose' argument is deprecated and will be removed in a future release of LightGBM. Pass 'log_evaluation()' callback via 'callbacks' argument instead.\n"
          ]
        },
        {
          "output_type": "stream",
          "name": "stdout",
          "text": [
            "[LightGBM] [Warning] lambda_l1 is set=2.3458971224435423, reg_alpha=0.0 will be ignored. Current value: lambda_l1=2.3458971224435423\n",
            "[LightGBM] [Warning] lambda_l2 is set=2.4594824722404107, reg_lambda=0.0 will be ignored. Current value: lambda_l2=2.4594824722404107\n"
          ]
        },
        {
          "output_type": "stream",
          "name": "stderr",
          "text": [
            "'verbose' argument is deprecated and will be removed in a future release of LightGBM. Pass 'log_evaluation()' callback via 'callbacks' argument instead.\n"
          ]
        },
        {
          "output_type": "stream",
          "name": "stdout",
          "text": [
            "[LightGBM] [Warning] lambda_l1 is set=2.3458971224435423, reg_alpha=0.0 will be ignored. Current value: lambda_l1=2.3458971224435423\n",
            "[LightGBM] [Warning] lambda_l2 is set=2.4594824722404107, reg_lambda=0.0 will be ignored. Current value: lambda_l2=2.4594824722404107\n"
          ]
        },
        {
          "output_type": "stream",
          "name": "stderr",
          "text": [
            "\u001b[32m[I 2023-04-17 03:11:12,637]\u001b[0m Trial 16 finished with value: 28637.72351383249 and parameters: {'n_estimators': 612, 'num_leaves': 47, 'max_depth': 11, 'learning_rate': 0.03442059630115393, 'colsample_bytree': 0.6873894162533647, 'subsample': 0.7702098818893298, 'lambda_l1': 2.3458971224435423, 'lambda_l2': 2.4594824722404107, 'min_child_weight': 22.75371689355349}. Best is trial 5 with value: 28068.90609651451.\u001b[0m\n",
            "suggest_loguniform has been deprecated in v3.0.0. This feature will be removed in v6.0.0. See https://github.com/optuna/optuna/releases/tag/v3.0.0. Use :func:`~optuna.trial.Trial.suggest_float` instead.\n",
            "The least populated class in y has only 1 members, which is less than n_splits=10.\n",
            "'verbose' argument is deprecated and will be removed in a future release of LightGBM. Pass 'log_evaluation()' callback via 'callbacks' argument instead.\n"
          ]
        },
        {
          "output_type": "stream",
          "name": "stdout",
          "text": [
            "[LightGBM] [Warning] lambda_l1 is set=4.712815578969268, reg_alpha=0.0 will be ignored. Current value: lambda_l1=4.712815578969268\n",
            "[LightGBM] [Warning] lambda_l2 is set=1.7427073600749474, reg_lambda=0.0 will be ignored. Current value: lambda_l2=1.7427073600749474\n"
          ]
        },
        {
          "output_type": "stream",
          "name": "stderr",
          "text": [
            "'verbose' argument is deprecated and will be removed in a future release of LightGBM. Pass 'log_evaluation()' callback via 'callbacks' argument instead.\n"
          ]
        },
        {
          "output_type": "stream",
          "name": "stdout",
          "text": [
            "[LightGBM] [Warning] lambda_l1 is set=4.712815578969268, reg_alpha=0.0 will be ignored. Current value: lambda_l1=4.712815578969268\n",
            "[LightGBM] [Warning] lambda_l2 is set=1.7427073600749474, reg_lambda=0.0 will be ignored. Current value: lambda_l2=1.7427073600749474\n"
          ]
        },
        {
          "output_type": "stream",
          "name": "stderr",
          "text": [
            "'verbose' argument is deprecated and will be removed in a future release of LightGBM. Pass 'log_evaluation()' callback via 'callbacks' argument instead.\n"
          ]
        },
        {
          "output_type": "stream",
          "name": "stdout",
          "text": [
            "[LightGBM] [Warning] lambda_l1 is set=4.712815578969268, reg_alpha=0.0 will be ignored. Current value: lambda_l1=4.712815578969268\n",
            "[LightGBM] [Warning] lambda_l2 is set=1.7427073600749474, reg_lambda=0.0 will be ignored. Current value: lambda_l2=1.7427073600749474\n"
          ]
        },
        {
          "output_type": "stream",
          "name": "stderr",
          "text": [
            "'verbose' argument is deprecated and will be removed in a future release of LightGBM. Pass 'log_evaluation()' callback via 'callbacks' argument instead.\n"
          ]
        },
        {
          "output_type": "stream",
          "name": "stdout",
          "text": [
            "[LightGBM] [Warning] lambda_l1 is set=4.712815578969268, reg_alpha=0.0 will be ignored. Current value: lambda_l1=4.712815578969268\n",
            "[LightGBM] [Warning] lambda_l2 is set=1.7427073600749474, reg_lambda=0.0 will be ignored. Current value: lambda_l2=1.7427073600749474\n"
          ]
        },
        {
          "output_type": "stream",
          "name": "stderr",
          "text": [
            "'verbose' argument is deprecated and will be removed in a future release of LightGBM. Pass 'log_evaluation()' callback via 'callbacks' argument instead.\n"
          ]
        },
        {
          "output_type": "stream",
          "name": "stdout",
          "text": [
            "[LightGBM] [Warning] lambda_l1 is set=4.712815578969268, reg_alpha=0.0 will be ignored. Current value: lambda_l1=4.712815578969268\n",
            "[LightGBM] [Warning] lambda_l2 is set=1.7427073600749474, reg_lambda=0.0 will be ignored. Current value: lambda_l2=1.7427073600749474\n"
          ]
        },
        {
          "output_type": "stream",
          "name": "stderr",
          "text": [
            "'verbose' argument is deprecated and will be removed in a future release of LightGBM. Pass 'log_evaluation()' callback via 'callbacks' argument instead.\n"
          ]
        },
        {
          "output_type": "stream",
          "name": "stdout",
          "text": [
            "[LightGBM] [Warning] lambda_l1 is set=4.712815578969268, reg_alpha=0.0 will be ignored. Current value: lambda_l1=4.712815578969268\n",
            "[LightGBM] [Warning] lambda_l2 is set=1.7427073600749474, reg_lambda=0.0 will be ignored. Current value: lambda_l2=1.7427073600749474\n"
          ]
        },
        {
          "output_type": "stream",
          "name": "stderr",
          "text": [
            "'verbose' argument is deprecated and will be removed in a future release of LightGBM. Pass 'log_evaluation()' callback via 'callbacks' argument instead.\n"
          ]
        },
        {
          "output_type": "stream",
          "name": "stdout",
          "text": [
            "[LightGBM] [Warning] lambda_l1 is set=4.712815578969268, reg_alpha=0.0 will be ignored. Current value: lambda_l1=4.712815578969268\n",
            "[LightGBM] [Warning] lambda_l2 is set=1.7427073600749474, reg_lambda=0.0 will be ignored. Current value: lambda_l2=1.7427073600749474\n"
          ]
        },
        {
          "output_type": "stream",
          "name": "stderr",
          "text": [
            "'verbose' argument is deprecated and will be removed in a future release of LightGBM. Pass 'log_evaluation()' callback via 'callbacks' argument instead.\n"
          ]
        },
        {
          "output_type": "stream",
          "name": "stdout",
          "text": [
            "[LightGBM] [Warning] lambda_l1 is set=4.712815578969268, reg_alpha=0.0 will be ignored. Current value: lambda_l1=4.712815578969268\n",
            "[LightGBM] [Warning] lambda_l2 is set=1.7427073600749474, reg_lambda=0.0 will be ignored. Current value: lambda_l2=1.7427073600749474\n"
          ]
        },
        {
          "output_type": "stream",
          "name": "stderr",
          "text": [
            "'verbose' argument is deprecated and will be removed in a future release of LightGBM. Pass 'log_evaluation()' callback via 'callbacks' argument instead.\n"
          ]
        },
        {
          "output_type": "stream",
          "name": "stdout",
          "text": [
            "[LightGBM] [Warning] lambda_l1 is set=4.712815578969268, reg_alpha=0.0 will be ignored. Current value: lambda_l1=4.712815578969268\n",
            "[LightGBM] [Warning] lambda_l2 is set=1.7427073600749474, reg_lambda=0.0 will be ignored. Current value: lambda_l2=1.7427073600749474\n"
          ]
        },
        {
          "output_type": "stream",
          "name": "stderr",
          "text": [
            "'verbose' argument is deprecated and will be removed in a future release of LightGBM. Pass 'log_evaluation()' callback via 'callbacks' argument instead.\n"
          ]
        },
        {
          "output_type": "stream",
          "name": "stdout",
          "text": [
            "[LightGBM] [Warning] lambda_l1 is set=4.712815578969268, reg_alpha=0.0 will be ignored. Current value: lambda_l1=4.712815578969268\n",
            "[LightGBM] [Warning] lambda_l2 is set=1.7427073600749474, reg_lambda=0.0 will be ignored. Current value: lambda_l2=1.7427073600749474\n"
          ]
        },
        {
          "output_type": "stream",
          "name": "stderr",
          "text": [
            "\u001b[32m[I 2023-04-17 03:11:15,404]\u001b[0m Trial 17 finished with value: 27986.27918107008 and parameters: {'n_estimators': 378, 'num_leaves': 31, 'max_depth': 35, 'learning_rate': 0.01713200441531346, 'colsample_bytree': 0.5167187468778591, 'subsample': 0.7380799250244564, 'lambda_l1': 4.712815578969268, 'lambda_l2': 1.7427073600749474, 'min_child_weight': 9.962946763677316}. Best is trial 17 with value: 27986.27918107008.\u001b[0m\n",
            "suggest_loguniform has been deprecated in v3.0.0. This feature will be removed in v6.0.0. See https://github.com/optuna/optuna/releases/tag/v3.0.0. Use :func:`~optuna.trial.Trial.suggest_float` instead.\n",
            "The least populated class in y has only 1 members, which is less than n_splits=10.\n",
            "'verbose' argument is deprecated and will be removed in a future release of LightGBM. Pass 'log_evaluation()' callback via 'callbacks' argument instead.\n"
          ]
        },
        {
          "output_type": "stream",
          "name": "stdout",
          "text": [
            "[LightGBM] [Warning] lambda_l1 is set=4.953174170360805, reg_alpha=0.0 will be ignored. Current value: lambda_l1=4.953174170360805\n",
            "[LightGBM] [Warning] lambda_l2 is set=1.6863207229187398, reg_lambda=0.0 will be ignored. Current value: lambda_l2=1.6863207229187398\n",
            "[LightGBM] [Warning] lambda_l1 is set=4.953174170360805, reg_alpha=0.0 will be ignored. Current value: lambda_l1=4.953174170360805\n",
            "[LightGBM] [Warning] lambda_l2 is set=1.6863207229187398, reg_lambda=0.0 will be ignored. Current value: lambda_l2=1.6863207229187398\n"
          ]
        },
        {
          "output_type": "stream",
          "name": "stderr",
          "text": [
            "'verbose' argument is deprecated and will be removed in a future release of LightGBM. Pass 'log_evaluation()' callback via 'callbacks' argument instead.\n",
            "'verbose' argument is deprecated and will be removed in a future release of LightGBM. Pass 'log_evaluation()' callback via 'callbacks' argument instead.\n"
          ]
        },
        {
          "output_type": "stream",
          "name": "stdout",
          "text": [
            "[LightGBM] [Warning] lambda_l1 is set=4.953174170360805, reg_alpha=0.0 will be ignored. Current value: lambda_l1=4.953174170360805\n",
            "[LightGBM] [Warning] lambda_l2 is set=1.6863207229187398, reg_lambda=0.0 will be ignored. Current value: lambda_l2=1.6863207229187398\n",
            "[LightGBM] [Warning] lambda_l1 is set=4.953174170360805, reg_alpha=0.0 will be ignored. Current value: lambda_l1=4.953174170360805\n",
            "[LightGBM] [Warning] lambda_l2 is set=1.6863207229187398, reg_lambda=0.0 will be ignored. Current value: lambda_l2=1.6863207229187398\n"
          ]
        },
        {
          "output_type": "stream",
          "name": "stderr",
          "text": [
            "'verbose' argument is deprecated and will be removed in a future release of LightGBM. Pass 'log_evaluation()' callback via 'callbacks' argument instead.\n",
            "'verbose' argument is deprecated and will be removed in a future release of LightGBM. Pass 'log_evaluation()' callback via 'callbacks' argument instead.\n"
          ]
        },
        {
          "output_type": "stream",
          "name": "stdout",
          "text": [
            "[LightGBM] [Warning] lambda_l1 is set=4.953174170360805, reg_alpha=0.0 will be ignored. Current value: lambda_l1=4.953174170360805\n",
            "[LightGBM] [Warning] lambda_l2 is set=1.6863207229187398, reg_lambda=0.0 will be ignored. Current value: lambda_l2=1.6863207229187398\n"
          ]
        },
        {
          "output_type": "stream",
          "name": "stderr",
          "text": [
            "'verbose' argument is deprecated and will be removed in a future release of LightGBM. Pass 'log_evaluation()' callback via 'callbacks' argument instead.\n"
          ]
        },
        {
          "output_type": "stream",
          "name": "stdout",
          "text": [
            "[LightGBM] [Warning] lambda_l1 is set=4.953174170360805, reg_alpha=0.0 will be ignored. Current value: lambda_l1=4.953174170360805\n",
            "[LightGBM] [Warning] lambda_l2 is set=1.6863207229187398, reg_lambda=0.0 will be ignored. Current value: lambda_l2=1.6863207229187398\n"
          ]
        },
        {
          "output_type": "stream",
          "name": "stderr",
          "text": [
            "'verbose' argument is deprecated and will be removed in a future release of LightGBM. Pass 'log_evaluation()' callback via 'callbacks' argument instead.\n"
          ]
        },
        {
          "output_type": "stream",
          "name": "stdout",
          "text": [
            "[LightGBM] [Warning] lambda_l1 is set=4.953174170360805, reg_alpha=0.0 will be ignored. Current value: lambda_l1=4.953174170360805\n",
            "[LightGBM] [Warning] lambda_l2 is set=1.6863207229187398, reg_lambda=0.0 will be ignored. Current value: lambda_l2=1.6863207229187398\n"
          ]
        },
        {
          "output_type": "stream",
          "name": "stderr",
          "text": [
            "'verbose' argument is deprecated and will be removed in a future release of LightGBM. Pass 'log_evaluation()' callback via 'callbacks' argument instead.\n"
          ]
        },
        {
          "output_type": "stream",
          "name": "stdout",
          "text": [
            "[LightGBM] [Warning] lambda_l1 is set=4.953174170360805, reg_alpha=0.0 will be ignored. Current value: lambda_l1=4.953174170360805\n",
            "[LightGBM] [Warning] lambda_l2 is set=1.6863207229187398, reg_lambda=0.0 will be ignored. Current value: lambda_l2=1.6863207229187398\n"
          ]
        },
        {
          "output_type": "stream",
          "name": "stderr",
          "text": [
            "'verbose' argument is deprecated and will be removed in a future release of LightGBM. Pass 'log_evaluation()' callback via 'callbacks' argument instead.\n"
          ]
        },
        {
          "output_type": "stream",
          "name": "stdout",
          "text": [
            "[LightGBM] [Warning] lambda_l1 is set=4.953174170360805, reg_alpha=0.0 will be ignored. Current value: lambda_l1=4.953174170360805\n",
            "[LightGBM] [Warning] lambda_l2 is set=1.6863207229187398, reg_lambda=0.0 will be ignored. Current value: lambda_l2=1.6863207229187398\n"
          ]
        },
        {
          "output_type": "stream",
          "name": "stderr",
          "text": [
            "'verbose' argument is deprecated and will be removed in a future release of LightGBM. Pass 'log_evaluation()' callback via 'callbacks' argument instead.\n"
          ]
        },
        {
          "output_type": "stream",
          "name": "stdout",
          "text": [
            "[LightGBM] [Warning] lambda_l1 is set=4.953174170360805, reg_alpha=0.0 will be ignored. Current value: lambda_l1=4.953174170360805\n",
            "[LightGBM] [Warning] lambda_l2 is set=1.6863207229187398, reg_lambda=0.0 will be ignored. Current value: lambda_l2=1.6863207229187398\n"
          ]
        },
        {
          "output_type": "stream",
          "name": "stderr",
          "text": [
            "\u001b[32m[I 2023-04-17 03:11:17,874]\u001b[0m Trial 18 finished with value: 28029.107852697623 and parameters: {'n_estimators': 261, 'num_leaves': 30, 'max_depth': 35, 'learning_rate': 0.024985680227674625, 'colsample_bytree': 0.5053850049033789, 'subsample': 0.721872094996699, 'lambda_l1': 4.953174170360805, 'lambda_l2': 1.6863207229187398, 'min_child_weight': 6.945431871307452}. Best is trial 17 with value: 27986.27918107008.\u001b[0m\n",
            "suggest_loguniform has been deprecated in v3.0.0. This feature will be removed in v6.0.0. See https://github.com/optuna/optuna/releases/tag/v3.0.0. Use :func:`~optuna.trial.Trial.suggest_float` instead.\n",
            "The least populated class in y has only 1 members, which is less than n_splits=10.\n",
            "'verbose' argument is deprecated and will be removed in a future release of LightGBM. Pass 'log_evaluation()' callback via 'callbacks' argument instead.\n"
          ]
        },
        {
          "output_type": "stream",
          "name": "stdout",
          "text": [
            "[LightGBM] [Warning] lambda_l1 is set=4.98716325650249, reg_alpha=0.0 will be ignored. Current value: lambda_l1=4.98716325650249\n",
            "[LightGBM] [Warning] lambda_l2 is set=1.5837617500205454, reg_lambda=0.0 will be ignored. Current value: lambda_l2=1.5837617500205454\n",
            "[LightGBM] [Warning] lambda_l1 is set=4.98716325650249, reg_alpha=0.0 will be ignored. Current value: lambda_l1=4.98716325650249\n",
            "[LightGBM] [Warning] lambda_l2 is set=1.5837617500205454, reg_lambda=0.0 will be ignored. Current value: lambda_l2=1.5837617500205454\n"
          ]
        },
        {
          "output_type": "stream",
          "name": "stderr",
          "text": [
            "'verbose' argument is deprecated and will be removed in a future release of LightGBM. Pass 'log_evaluation()' callback via 'callbacks' argument instead.\n",
            "'verbose' argument is deprecated and will be removed in a future release of LightGBM. Pass 'log_evaluation()' callback via 'callbacks' argument instead.\n"
          ]
        },
        {
          "output_type": "stream",
          "name": "stdout",
          "text": [
            "[LightGBM] [Warning] lambda_l1 is set=4.98716325650249, reg_alpha=0.0 will be ignored. Current value: lambda_l1=4.98716325650249\n",
            "[LightGBM] [Warning] lambda_l2 is set=1.5837617500205454, reg_lambda=0.0 will be ignored. Current value: lambda_l2=1.5837617500205454\n",
            "[LightGBM] [Warning] lambda_l1 is set=4.98716325650249, reg_alpha=0.0 will be ignored. Current value: lambda_l1=4.98716325650249\n",
            "[LightGBM] [Warning] lambda_l2 is set=1.5837617500205454, reg_lambda=0.0 will be ignored. Current value: lambda_l2=1.5837617500205454\n"
          ]
        },
        {
          "output_type": "stream",
          "name": "stderr",
          "text": [
            "'verbose' argument is deprecated and will be removed in a future release of LightGBM. Pass 'log_evaluation()' callback via 'callbacks' argument instead.\n",
            "'verbose' argument is deprecated and will be removed in a future release of LightGBM. Pass 'log_evaluation()' callback via 'callbacks' argument instead.\n"
          ]
        },
        {
          "output_type": "stream",
          "name": "stdout",
          "text": [
            "[LightGBM] [Warning] lambda_l1 is set=4.98716325650249, reg_alpha=0.0 will be ignored. Current value: lambda_l1=4.98716325650249\n",
            "[LightGBM] [Warning] lambda_l2 is set=1.5837617500205454, reg_lambda=0.0 will be ignored. Current value: lambda_l2=1.5837617500205454\n",
            "[LightGBM] [Warning] lambda_l1 is set=4.98716325650249, reg_alpha=0.0 will be ignored. Current value: lambda_l1=4.98716325650249\n",
            "[LightGBM] [Warning] lambda_l2 is set=1.5837617500205454, reg_lambda=0.0 will be ignored. Current value: lambda_l2=1.5837617500205454\n"
          ]
        },
        {
          "output_type": "stream",
          "name": "stderr",
          "text": [
            "'verbose' argument is deprecated and will be removed in a future release of LightGBM. Pass 'log_evaluation()' callback via 'callbacks' argument instead.\n",
            "'verbose' argument is deprecated and will be removed in a future release of LightGBM. Pass 'log_evaluation()' callback via 'callbacks' argument instead.\n"
          ]
        },
        {
          "output_type": "stream",
          "name": "stdout",
          "text": [
            "[LightGBM] [Warning] lambda_l1 is set=4.98716325650249, reg_alpha=0.0 will be ignored. Current value: lambda_l1=4.98716325650249\n",
            "[LightGBM] [Warning] lambda_l2 is set=1.5837617500205454, reg_lambda=0.0 will be ignored. Current value: lambda_l2=1.5837617500205454\n",
            "[LightGBM] [Warning] lambda_l1 is set=4.98716325650249, reg_alpha=0.0 will be ignored. Current value: lambda_l1=4.98716325650249\n",
            "[LightGBM] [Warning] lambda_l2 is set=1.5837617500205454, reg_lambda=0.0 will be ignored. Current value: lambda_l2=1.5837617500205454\n"
          ]
        },
        {
          "output_type": "stream",
          "name": "stderr",
          "text": [
            "'verbose' argument is deprecated and will be removed in a future release of LightGBM. Pass 'log_evaluation()' callback via 'callbacks' argument instead.\n",
            "'verbose' argument is deprecated and will be removed in a future release of LightGBM. Pass 'log_evaluation()' callback via 'callbacks' argument instead.\n",
            "'verbose' argument is deprecated and will be removed in a future release of LightGBM. Pass 'log_evaluation()' callback via 'callbacks' argument instead.\n"
          ]
        },
        {
          "output_type": "stream",
          "name": "stdout",
          "text": [
            "[LightGBM] [Warning] lambda_l1 is set=4.98716325650249, reg_alpha=0.0 will be ignored. Current value: lambda_l1=4.98716325650249\n",
            "[LightGBM] [Warning] lambda_l2 is set=1.5837617500205454, reg_lambda=0.0 will be ignored. Current value: lambda_l2=1.5837617500205454\n",
            "[LightGBM] [Warning] lambda_l1 is set=4.98716325650249, reg_alpha=0.0 will be ignored. Current value: lambda_l1=4.98716325650249\n",
            "[LightGBM] [Warning] lambda_l2 is set=1.5837617500205454, reg_lambda=0.0 will be ignored. Current value: lambda_l2=1.5837617500205454\n"
          ]
        },
        {
          "output_type": "stream",
          "name": "stderr",
          "text": [
            "\u001b[32m[I 2023-04-17 03:11:19,785]\u001b[0m Trial 19 finished with value: 28363.741996481665 and parameters: {'n_estimators': 175, 'num_leaves': 30, 'max_depth': 37, 'learning_rate': 0.02380483862972045, 'colsample_bytree': 0.503104600348291, 'subsample': 0.7205596119490073, 'lambda_l1': 4.98716325650249, 'lambda_l2': 1.5837617500205454, 'min_child_weight': 2.1304860520547564}. Best is trial 17 with value: 27986.27918107008.\u001b[0m\n"
          ]
        },
        {
          "output_type": "stream",
          "name": "stdout",
          "text": [
            "[LightGBM] [Warning] lambda_l1 is set=4.712815578969268, reg_alpha=0.0 will be ignored. Current value: lambda_l1=4.712815578969268\n",
            "[LightGBM] [Warning] lambda_l2 is set=1.7427073600749474, reg_lambda=0.0 will be ignored. Current value: lambda_l2=1.7427073600749474\n"
          ]
        },
        {
          "output_type": "execute_result",
          "data": {
            "text/plain": [
              "LGBMRegressor(colsample_bytree=0.5167187468778591, lambda_l1=4.712815578969268,\n",
              "              lambda_l2=1.7427073600749474, learning_rate=0.01713200441531346,\n",
              "              max_depth=35, min_child_weight=9.962946763677316,\n",
              "              n_estimators=378, subsample=0.7380799250244564)"
            ],
            "text/html": [
              "<style>#sk-container-id-3 {color: black;background-color: white;}#sk-container-id-3 pre{padding: 0;}#sk-container-id-3 div.sk-toggleable {background-color: white;}#sk-container-id-3 label.sk-toggleable__label {cursor: pointer;display: block;width: 100%;margin-bottom: 0;padding: 0.3em;box-sizing: border-box;text-align: center;}#sk-container-id-3 label.sk-toggleable__label-arrow:before {content: \"▸\";float: left;margin-right: 0.25em;color: #696969;}#sk-container-id-3 label.sk-toggleable__label-arrow:hover:before {color: black;}#sk-container-id-3 div.sk-estimator:hover label.sk-toggleable__label-arrow:before {color: black;}#sk-container-id-3 div.sk-toggleable__content {max-height: 0;max-width: 0;overflow: hidden;text-align: left;background-color: #f0f8ff;}#sk-container-id-3 div.sk-toggleable__content pre {margin: 0.2em;color: black;border-radius: 0.25em;background-color: #f0f8ff;}#sk-container-id-3 input.sk-toggleable__control:checked~div.sk-toggleable__content {max-height: 200px;max-width: 100%;overflow: auto;}#sk-container-id-3 input.sk-toggleable__control:checked~label.sk-toggleable__label-arrow:before {content: \"▾\";}#sk-container-id-3 div.sk-estimator input.sk-toggleable__control:checked~label.sk-toggleable__label {background-color: #d4ebff;}#sk-container-id-3 div.sk-label input.sk-toggleable__control:checked~label.sk-toggleable__label {background-color: #d4ebff;}#sk-container-id-3 input.sk-hidden--visually {border: 0;clip: rect(1px 1px 1px 1px);clip: rect(1px, 1px, 1px, 1px);height: 1px;margin: -1px;overflow: hidden;padding: 0;position: absolute;width: 1px;}#sk-container-id-3 div.sk-estimator {font-family: monospace;background-color: #f0f8ff;border: 1px dotted black;border-radius: 0.25em;box-sizing: border-box;margin-bottom: 0.5em;}#sk-container-id-3 div.sk-estimator:hover {background-color: #d4ebff;}#sk-container-id-3 div.sk-parallel-item::after {content: \"\";width: 100%;border-bottom: 1px solid gray;flex-grow: 1;}#sk-container-id-3 div.sk-label:hover label.sk-toggleable__label {background-color: #d4ebff;}#sk-container-id-3 div.sk-serial::before {content: \"\";position: absolute;border-left: 1px solid gray;box-sizing: border-box;top: 0;bottom: 0;left: 50%;z-index: 0;}#sk-container-id-3 div.sk-serial {display: flex;flex-direction: column;align-items: center;background-color: white;padding-right: 0.2em;padding-left: 0.2em;position: relative;}#sk-container-id-3 div.sk-item {position: relative;z-index: 1;}#sk-container-id-3 div.sk-parallel {display: flex;align-items: stretch;justify-content: center;background-color: white;position: relative;}#sk-container-id-3 div.sk-item::before, #sk-container-id-3 div.sk-parallel-item::before {content: \"\";position: absolute;border-left: 1px solid gray;box-sizing: border-box;top: 0;bottom: 0;left: 50%;z-index: -1;}#sk-container-id-3 div.sk-parallel-item {display: flex;flex-direction: column;z-index: 1;position: relative;background-color: white;}#sk-container-id-3 div.sk-parallel-item:first-child::after {align-self: flex-end;width: 50%;}#sk-container-id-3 div.sk-parallel-item:last-child::after {align-self: flex-start;width: 50%;}#sk-container-id-3 div.sk-parallel-item:only-child::after {width: 0;}#sk-container-id-3 div.sk-dashed-wrapped {border: 1px dashed gray;margin: 0 0.4em 0.5em 0.4em;box-sizing: border-box;padding-bottom: 0.4em;background-color: white;}#sk-container-id-3 div.sk-label label {font-family: monospace;font-weight: bold;display: inline-block;line-height: 1.2em;}#sk-container-id-3 div.sk-label-container {text-align: center;}#sk-container-id-3 div.sk-container {/* jupyter's `normalize.less` sets `[hidden] { display: none; }` but bootstrap.min.css set `[hidden] { display: none !important; }` so we also need the `!important` here to be able to override the default hidden behavior on the sphinx rendered scikit-learn.org. See: https://github.com/scikit-learn/scikit-learn/issues/21755 */display: inline-block !important;position: relative;}#sk-container-id-3 div.sk-text-repr-fallback {display: none;}</style><div id=\"sk-container-id-3\" class=\"sk-top-container\"><div class=\"sk-text-repr-fallback\"><pre>LGBMRegressor(colsample_bytree=0.5167187468778591, lambda_l1=4.712815578969268,\n",
              "              lambda_l2=1.7427073600749474, learning_rate=0.01713200441531346,\n",
              "              max_depth=35, min_child_weight=9.962946763677316,\n",
              "              n_estimators=378, subsample=0.7380799250244564)</pre><b>In a Jupyter environment, please rerun this cell to show the HTML representation or trust the notebook. <br />On GitHub, the HTML representation is unable to render, please try loading this page with nbviewer.org.</b></div><div class=\"sk-container\" hidden><div class=\"sk-item\"><div class=\"sk-estimator sk-toggleable\"><input class=\"sk-toggleable__control sk-hidden--visually\" id=\"sk-estimator-id-3\" type=\"checkbox\" checked><label for=\"sk-estimator-id-3\" class=\"sk-toggleable__label sk-toggleable__label-arrow\">LGBMRegressor</label><div class=\"sk-toggleable__content\"><pre>LGBMRegressor(colsample_bytree=0.5167187468778591, lambda_l1=4.712815578969268,\n",
              "              lambda_l2=1.7427073600749474, learning_rate=0.01713200441531346,\n",
              "              max_depth=35, min_child_weight=9.962946763677316,\n",
              "              n_estimators=378, subsample=0.7380799250244564)</pre></div></div></div></div></div>"
            ]
          },
          "metadata": {},
          "execution_count": 92
        }
      ],
      "source": [
        "# Create Optuna study\n",
        "study = optuna.create_study(direction='minimize')\n",
        "\n",
        "# Optimize hyperparameters\n",
        "study.optimize(objective, n_trials=20)\n",
        "\n",
        "# Get the best hyperparameters\n",
        "best_params = study.best_params\n",
        "\n",
        "# Train the final model with the best hyperparameters\n",
        "best_model = lgb.LGBMRegressor(**best_params)\n",
        "best_model.fit(X, y)"
      ]
    },
    {
      "cell_type": "code",
      "execution_count": 93,
      "metadata": {
        "colab": {
          "base_uri": "https://localhost:8080/"
        },
        "id": "Ft7Gkq0TPXtf",
        "outputId": "78756b53-0fc0-4110-d811-1f1d7d044f10"
      },
      "outputs": [
        {
          "output_type": "stream",
          "name": "stdout",
          "text": [
            "{'n_estimators': 378, 'num_leaves': 31, 'max_depth': 35, 'learning_rate': 0.01713200441531346, 'colsample_bytree': 0.5167187468778591, 'subsample': 0.7380799250244564, 'lambda_l1': 4.712815578969268, 'lambda_l2': 1.7427073600749474, 'min_child_weight': 9.962946763677316}\n",
            "27986.27918107008\n"
          ]
        }
      ],
      "source": [
        "print(study.best_params) \n",
        "print(study.best_value)"
      ]
    },
    {
      "cell_type": "code",
      "execution_count": 94,
      "metadata": {
        "colab": {
          "base_uri": "https://localhost:8080/",
          "height": 127
        },
        "id": "Af-0N65er2uO",
        "outputId": "9bcf0035-f05b-4fdf-f1e2-0023796a0ff2"
      },
      "outputs": [
        {
          "output_type": "execute_result",
          "data": {
            "text/plain": [
              "LGBMRegressor(colsample_bytree=0.5167187468778591, lambda_l1=4.712815578969268,\n",
              "              lambda_l2=1.7427073600749474, learning_rate=0.01713200441531346,\n",
              "              max_depth=35, min_child_weight=9.962946763677316,\n",
              "              n_estimators=378, subsample=0.7380799250244564)"
            ],
            "text/html": [
              "<style>#sk-container-id-4 {color: black;background-color: white;}#sk-container-id-4 pre{padding: 0;}#sk-container-id-4 div.sk-toggleable {background-color: white;}#sk-container-id-4 label.sk-toggleable__label {cursor: pointer;display: block;width: 100%;margin-bottom: 0;padding: 0.3em;box-sizing: border-box;text-align: center;}#sk-container-id-4 label.sk-toggleable__label-arrow:before {content: \"▸\";float: left;margin-right: 0.25em;color: #696969;}#sk-container-id-4 label.sk-toggleable__label-arrow:hover:before {color: black;}#sk-container-id-4 div.sk-estimator:hover label.sk-toggleable__label-arrow:before {color: black;}#sk-container-id-4 div.sk-toggleable__content {max-height: 0;max-width: 0;overflow: hidden;text-align: left;background-color: #f0f8ff;}#sk-container-id-4 div.sk-toggleable__content pre {margin: 0.2em;color: black;border-radius: 0.25em;background-color: #f0f8ff;}#sk-container-id-4 input.sk-toggleable__control:checked~div.sk-toggleable__content {max-height: 200px;max-width: 100%;overflow: auto;}#sk-container-id-4 input.sk-toggleable__control:checked~label.sk-toggleable__label-arrow:before {content: \"▾\";}#sk-container-id-4 div.sk-estimator input.sk-toggleable__control:checked~label.sk-toggleable__label {background-color: #d4ebff;}#sk-container-id-4 div.sk-label input.sk-toggleable__control:checked~label.sk-toggleable__label {background-color: #d4ebff;}#sk-container-id-4 input.sk-hidden--visually {border: 0;clip: rect(1px 1px 1px 1px);clip: rect(1px, 1px, 1px, 1px);height: 1px;margin: -1px;overflow: hidden;padding: 0;position: absolute;width: 1px;}#sk-container-id-4 div.sk-estimator {font-family: monospace;background-color: #f0f8ff;border: 1px dotted black;border-radius: 0.25em;box-sizing: border-box;margin-bottom: 0.5em;}#sk-container-id-4 div.sk-estimator:hover {background-color: #d4ebff;}#sk-container-id-4 div.sk-parallel-item::after {content: \"\";width: 100%;border-bottom: 1px solid gray;flex-grow: 1;}#sk-container-id-4 div.sk-label:hover label.sk-toggleable__label {background-color: #d4ebff;}#sk-container-id-4 div.sk-serial::before {content: \"\";position: absolute;border-left: 1px solid gray;box-sizing: border-box;top: 0;bottom: 0;left: 50%;z-index: 0;}#sk-container-id-4 div.sk-serial {display: flex;flex-direction: column;align-items: center;background-color: white;padding-right: 0.2em;padding-left: 0.2em;position: relative;}#sk-container-id-4 div.sk-item {position: relative;z-index: 1;}#sk-container-id-4 div.sk-parallel {display: flex;align-items: stretch;justify-content: center;background-color: white;position: relative;}#sk-container-id-4 div.sk-item::before, #sk-container-id-4 div.sk-parallel-item::before {content: \"\";position: absolute;border-left: 1px solid gray;box-sizing: border-box;top: 0;bottom: 0;left: 50%;z-index: -1;}#sk-container-id-4 div.sk-parallel-item {display: flex;flex-direction: column;z-index: 1;position: relative;background-color: white;}#sk-container-id-4 div.sk-parallel-item:first-child::after {align-self: flex-end;width: 50%;}#sk-container-id-4 div.sk-parallel-item:last-child::after {align-self: flex-start;width: 50%;}#sk-container-id-4 div.sk-parallel-item:only-child::after {width: 0;}#sk-container-id-4 div.sk-dashed-wrapped {border: 1px dashed gray;margin: 0 0.4em 0.5em 0.4em;box-sizing: border-box;padding-bottom: 0.4em;background-color: white;}#sk-container-id-4 div.sk-label label {font-family: monospace;font-weight: bold;display: inline-block;line-height: 1.2em;}#sk-container-id-4 div.sk-label-container {text-align: center;}#sk-container-id-4 div.sk-container {/* jupyter's `normalize.less` sets `[hidden] { display: none; }` but bootstrap.min.css set `[hidden] { display: none !important; }` so we also need the `!important` here to be able to override the default hidden behavior on the sphinx rendered scikit-learn.org. See: https://github.com/scikit-learn/scikit-learn/issues/21755 */display: inline-block !important;position: relative;}#sk-container-id-4 div.sk-text-repr-fallback {display: none;}</style><div id=\"sk-container-id-4\" class=\"sk-top-container\"><div class=\"sk-text-repr-fallback\"><pre>LGBMRegressor(colsample_bytree=0.5167187468778591, lambda_l1=4.712815578969268,\n",
              "              lambda_l2=1.7427073600749474, learning_rate=0.01713200441531346,\n",
              "              max_depth=35, min_child_weight=9.962946763677316,\n",
              "              n_estimators=378, subsample=0.7380799250244564)</pre><b>In a Jupyter environment, please rerun this cell to show the HTML representation or trust the notebook. <br />On GitHub, the HTML representation is unable to render, please try loading this page with nbviewer.org.</b></div><div class=\"sk-container\" hidden><div class=\"sk-item\"><div class=\"sk-estimator sk-toggleable\"><input class=\"sk-toggleable__control sk-hidden--visually\" id=\"sk-estimator-id-4\" type=\"checkbox\" checked><label for=\"sk-estimator-id-4\" class=\"sk-toggleable__label sk-toggleable__label-arrow\">LGBMRegressor</label><div class=\"sk-toggleable__content\"><pre>LGBMRegressor(colsample_bytree=0.5167187468778591, lambda_l1=4.712815578969268,\n",
              "              lambda_l2=1.7427073600749474, learning_rate=0.01713200441531346,\n",
              "              max_depth=35, min_child_weight=9.962946763677316,\n",
              "              n_estimators=378, subsample=0.7380799250244564)</pre></div></div></div></div></div>"
            ]
          },
          "metadata": {},
          "execution_count": 94
        }
      ],
      "source": [
        "best_model = lgb.LGBMRegressor(**best_params)\n",
        "best_model.fit(X, y)"
      ]
    },
    {
      "cell_type": "code",
      "execution_count": 95,
      "metadata": {
        "colab": {
          "base_uri": "https://localhost:8080/",
          "height": 975
        },
        "id": "o7jBUgFE4AZw",
        "outputId": "cf33aeb0-cd83-49ea-94d0-bdc1c0a33eec"
      },
      "outputs": [
        {
          "output_type": "stream",
          "name": "stderr",
          "text": [
            "No data for colormapping provided via 'c'. Parameters 'vmin', 'vmax' will be ignored\n"
          ]
        },
        {
          "output_type": "display_data",
          "data": {
            "text/plain": [
              "<Figure size 800x950 with 2 Axes>"
            ],
            "image/png": "[encoded data removed]"
          },
          "metadata": {}
        }
      ],
      "source": [
        "shap_values = shap.TreeExplainer(best_model).shap_values(X)\n",
        "shap.summary_plot(shap_values, X)"
      ]
    },
    {
      "cell_type": "code",
      "source": [
        "shap_interaction_values = shap.TreeExplainer(best_model).shap_interaction_values(X.iloc[:,:])\n",
        "shap.summary_plot(shap_interaction_values, X.iloc[:,:])"
      ],
      "metadata": {
        "colab": {
          "base_uri": "https://localhost:8080/",
          "height": 715
        },
        "id": "2Q9E5o6oMEwi",
        "outputId": "f8e25f2b-c3f6-46e3-b860-0ebe250a7558"
      },
      "execution_count": 97,
      "outputs": [
        {
          "output_type": "stream",
          "name": "stderr",
          "text": [
            "No data for colormapping provided via 'c'. Parameters 'vmin', 'vmax' will be ignored\n"
          ]
        },
        {
          "output_type": "display_data",
          "data": {
            "text/plain": [
              "<Figure size 1150x660 with 7 Axes>"
            ],
            "image/png": "[encoded data removed]"
          },
          "metadata": {}
        }
      ]
    },
    {
      "cell_type": "code",
      "source": [
        "predictLGBM = best_model.predict(df_test)\n",
        "submissionLGBM = pd.DataFrame({'SalePrice':predictLGBM})\n",
        "# display(submissionLGBM.head())\n",
        "print(submissionLGBM.iloc[0].values)"
      ],
      "metadata": {
        "colab": {
          "base_uri": "https://localhost:8080/",
          "height": 225
        },
        "id": "hfmrYR9_NNh3",
        "outputId": "33d356e9-c090-46dc-cd45-bbea660721df"
      },
      "execution_count": 116,
      "outputs": [
        {
          "output_type": "display_data",
          "data": {
            "text/plain": [
              "       SalePrice\n",
              "0  127368.782722\n",
              "1  156700.928621\n",
              "2  180422.435175\n",
              "3  183877.895502\n",
              "4  186021.015175"
            ],
            "text/html": [
              "\n",
              "  <div id=\"df-865e82a0-1072-4324-898f-dbf3563fdd96\">\n",
              "    <div class=\"colab-df-container\">\n",
              "      <div>\n",
              "<style scoped>\n",
              "    .dataframe tbody tr th:only-of-type {\n",
              "        vertical-align: middle;\n",
              "    }\n",
              "\n",
              "    .dataframe tbody tr th {\n",
              "        vertical-align: top;\n",
              "    }\n",
              "\n",
              "    .dataframe thead th {\n",
              "        text-align: right;\n",
              "    }\n",
              "</style>\n",
              "<table border=\"1\" class=\"dataframe\">\n",
              "  <thead>\n",
              "    <tr style=\"text-align: right;\">\n",
              "      <th></th>\n",
              "      <th>SalePrice</th>\n",
              "    </tr>\n",
              "  </thead>\n",
              "  <tbody>\n",
              "    <tr>\n",
              "      <th>0</th>\n",
              "      <td>127368.782722</td>\n",
              "    </tr>\n",
              "    <tr>\n",
              "      <th>1</th>\n",
              "      <td>156700.928621</td>\n",
              "    </tr>\n",
              "    <tr>\n",
              "      <th>2</th>\n",
              "      <td>180422.435175</td>\n",
              "    </tr>\n",
              "    <tr>\n",
              "      <th>3</th>\n",
              "      <td>183877.895502</td>\n",
              "    </tr>\n",
              "    <tr>\n",
              "      <th>4</th>\n",
              "      <td>186021.015175</td>\n",
              "    </tr>\n",
              "  </tbody>\n",
              "</table>\n",
              "</div>\n",
              "      <button class=\"colab-df-convert\" onclick=\"convertToInteractive('df-865e82a0-1072-4324-898f-dbf3563fdd96')\"\n",
              "              title=\"Convert this dataframe to an interactive table.\"\n",
              "              style=\"display:none;\">\n",
              "        \n",
              "  <svg xmlns=\"http://www.w3.org/2000/svg\" height=\"24px\"viewBox=\"0 0 24 24\"\n",
              "       width=\"24px\">\n",
              "    <path d=\"M0 0h24v24H0V0z\" fill=\"none\"/>\n",
              "    <path d=\"M18.56 5.44l.94 2.06.94-2.06 2.06-.94-2.06-.94-.94-2.06-.94 2.06-2.06.94zm-11 1L8.5 8.5l.94-2.06 2.06-.94-2.06-.94L8.5 2.5l-.94 2.06-2.06.94zm10 10l.94 2.06.94-2.06 2.06-.94-2.06-.94-.94-2.06-.94 2.06-2.06.94z\"/><path d=\"M17.41 7.96l-1.37-1.37c-.4-.4-.92-.59-1.43-.59-.52 0-1.04.2-1.43.59L10.3 9.45l-7.72 7.72c-.78.78-.78 2.05 0 2.83L4 21.41c.39.39.9.59 1.41.59.51 0 1.02-.2 1.41-.59l7.78-7.78 2.81-2.81c.8-.78.8-2.07 0-2.86zM5.41 20L4 18.59l7.72-7.72 1.47 1.35L5.41 20z\"/>\n",
              "  </svg>\n",
              "      </button>\n",
              "      \n",
              "  <style>\n",
              "    .colab-df-container {\n",
              "      display:flex;\n",
              "      flex-wrap:wrap;\n",
              "      gap: 12px;\n",
              "    }\n",
              "\n",
              "    .colab-df-convert {\n",
              "      background-color: #E8F0FE;\n",
              "      border: none;\n",
              "      border-radius: 50%;\n",
              "      cursor: pointer;\n",
              "      display: none;\n",
              "      fill: #1967D2;\n",
              "      height: 32px;\n",
              "      padding: 0 0 0 0;\n",
              "      width: 32px;\n",
              "    }\n",
              "\n",
              "    .colab-df-convert:hover {\n",
              "      background-color: #E2EBFA;\n",
              "      box-shadow: 0px 1px 2px rgba(60, 64, 67, 0.3), 0px 1px 3px 1px rgba(60, 64, 67, 0.15);\n",
              "      fill: #174EA6;\n",
              "    }\n",
              "\n",
              "    [theme=dark] .colab-df-convert {\n",
              "      background-color: #3B4455;\n",
              "      fill: #D2E3FC;\n",
              "    }\n",
              "\n",
              "    [theme=dark] .colab-df-convert:hover {\n",
              "      background-color: #434B5C;\n",
              "      box-shadow: 0px 1px 3px 1px rgba(0, 0, 0, 0.15);\n",
              "      filter: drop-shadow(0px 1px 2px rgba(0, 0, 0, 0.3));\n",
              "      fill: #FFFFFF;\n",
              "    }\n",
              "  </style>\n",
              "\n",
              "      <script>\n",
              "        const buttonEl =\n",
              "          document.querySelector('#df-865e82a0-1072-4324-898f-dbf3563fdd96 button.colab-df-convert');\n",
              "        buttonEl.style.display =\n",
              "          google.colab.kernel.accessAllowed ? 'block' : 'none';\n",
              "\n",
              "        async function convertToInteractive(key) {\n",
              "          const element = document.querySelector('#df-865e82a0-1072-4324-898f-dbf3563fdd96');\n",
              "          const dataTable =\n",
              "            await google.colab.kernel.invokeFunction('convertToInteractive',\n",
              "                                                     [key], {});\n",
              "          if (!dataTable) return;\n",
              "\n",
              "          const docLinkHtml = 'Like what you see? Visit the ' +\n",
              "            '<a target=\"_blank\" href=https://colab.research.google.com/notebooks/data_table.ipynb>data table notebook</a>'\n",
              "            + ' to learn more about interactive tables.';\n",
              "          element.innerHTML = '';\n",
              "          dataTable['output_type'] = 'display_data';\n",
              "          await google.colab.output.renderOutput(dataTable, element);\n",
              "          const docLink = document.createElement('div');\n",
              "          docLink.innerHTML = docLinkHtml;\n",
              "          element.appendChild(docLink);\n",
              "        }\n",
              "      </script>\n",
              "    </div>\n",
              "  </div>\n",
              "  "
            ]
          },
          "metadata": {}
        },
        {
          "output_type": "stream",
          "name": "stdout",
          "text": [
            "[127368.78272224]\n"
          ]
        }
      ]
    },
    {
      "cell_type": "code",
      "source": [],
      "metadata": {
        "id": "I0GboD6hOgbG"
      },
      "execution_count": null,
      "outputs": []
    }
  ],
  "metadata": {
    "colab": {
      "provenance": []
    },
    "kernelspec": {
      "display_name": "Python 3",
      "name": "python3"
    },
    "language_info": {
      "name": "python"
    }
  },
  "nbformat": 4,
  "nbformat_minor": 0
}